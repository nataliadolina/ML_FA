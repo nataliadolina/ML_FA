{
  "cells": [
    {
      "cell_type": "markdown",
      "id": "4b4516ac",
      "metadata": {
        "id": "4b4516ac"
      },
      "source": [
        "**ML4.1 Предобработка данных**<br>"
      ]
    },
    {
      "cell_type": "code",
      "execution_count": 1,
      "id": "369400ca",
      "metadata": {
        "id": "369400ca"
      },
      "outputs": [],
      "source": [
        "import warnings\n",
        "warnings.simplefilter(action='ignore', category=FutureWarning)\n",
        "\n",
        "import math\n",
        "import pandas as pd\n",
        "import numpy as np\n",
        "import seaborn as sns\n",
        "import matplotlib.pyplot as plt"
      ]
    },
    {
      "cell_type": "markdown",
      "id": "8569dbf4",
      "metadata": {
        "id": "8569dbf4"
      },
      "source": [
        "1.\tЗагрузите и прочитайте в pandas следующий датасет. Обратите внимание, что датасет собран «криво», поэтому прежде чем он «правильно» загрузится (рис.1), необходимо его обработать."
      ]
    },
    {
      "cell_type": "markdown",
      "id": "4e16f8b6",
      "metadata": {
        "id": "4e16f8b6"
      },
      "source": [
        "Читаем датасет"
      ]
    },
    {
      "cell_type": "code",
      "execution_count": 2,
      "id": "9a784f0e",
      "metadata": {
        "id": "9a784f0e"
      },
      "outputs": [],
      "source": [
        "dates_list = [\"dateCreated\", \"lastSeen\", \"dateCrawled\"]"
      ]
    },
    {
      "cell_type": "code",
      "execution_count": 4,
      "id": "5231584c",
      "metadata": {
        "colab": {
          "base_uri": "https://localhost:8080/",
          "height": 835
        },
        "id": "5231584c",
        "outputId": "65658ff1-b541-49de-b381-27d861548338"
      },
      "outputs": [
        {
          "output_type": "execute_result",
          "data": {
            "text/plain": [
              "              dateCrawled                                               name  \\\n",
              "0     2016-03-30 13:51:00                                       Zu_verkaufen   \n",
              "1     2016-07-03 09:54:00                             Volvo_XC90_2.4D_Summum   \n",
              "2     2016-01-04 00:57:00                                  Volkswagen_Touran   \n",
              "3     2016-03-19 17:50:00                       Seat_Ibiza_1.4_16V_Reference   \n",
              "4     2016-03-16 14:51:00  Volvo_XC90_D5_Aut._RDesign_R_Design_AWD_GSHD_S...   \n",
              "...                   ...                                                ...   \n",
              "49996 2016-03-04 15:48:00                               Suche_VW_T5_Multivan   \n",
              "49997 2016-03-27 14:55:00  Suche_einen_originalen_VW_Golf_2_Fire_and_Ice_G60   \n",
              "49998 2016-03-14 18:51:00  [SUCHE]_BMW_e46_Coupe_330ci_M_Paket_Facelift__...   \n",
              "49999 2016-03-15 18:06:00        Verkaufe_mehrere_Fahrzeuge_zum_Verschrotten   \n",
              "50000 2016-03-22 09:54:00                    Chevrolet_Matiz_1.Hd_TÜV11/2017   \n",
              "\n",
              "           seller offerType  price   abtest    vehicleType  \\\n",
              "0         private     offer   4450     test      limousine   \n",
              "1         private     offer  13299  control            suv   \n",
              "2         private     offer   3200     test            bus   \n",
              "3         private     offer   4500  control      small car   \n",
              "4         private     offer  18750     test            suv   \n",
              "...           ...       ...    ...      ...            ...   \n",
              "49996     private   request      0     test            bus   \n",
              "49997     private   request  19999  control            NaN   \n",
              "49998     private   request      0     test          coupe   \n",
              "49999  commercial     offer    100  control  station wagon   \n",
              "50000  commercial     offer   1100     test      small car   \n",
              "\n",
              "       yearOfRegistration    gearbox  powerPS        model  kilometer  \\\n",
              "0                    2003     manual      150          3er     150000   \n",
              "1                    2005     manual      163     xc_reihe     150000   \n",
              "2                    2003     manual      101       touran     150000   \n",
              "3                    2006     manual       86        ibiza      60000   \n",
              "4                    2008  automatic      185     xc_reihe     150000   \n",
              "...                   ...        ...      ...          ...        ...   \n",
              "49996                2005        NaN        0  transporter     150000   \n",
              "49997                1990        NaN        0         golf       5000   \n",
              "49998                2004     manual        0          3er     150000   \n",
              "49999                2000     manual        0       megane     150000   \n",
              "50000                2006     manual       38        matiz     150000   \n",
              "\n",
              "       monthOfRegistration fuelType       brand notRepairedDamage dateCreated  \\\n",
              "0                        3   diesel         bmw               NaN  2016-03-30   \n",
              "1                        6   diesel       volvo                no  2016-07-03   \n",
              "2                       11   diesel  volkswagen               NaN  2016-03-31   \n",
              "3                       12   petrol        seat                no  2016-03-19   \n",
              "4                       11   diesel       volvo                no  2016-03-16   \n",
              "...                    ...      ...         ...               ...         ...   \n",
              "49996                    0      NaN  volkswagen               NaN  2016-03-04   \n",
              "49997                    0      NaN  volkswagen               NaN  2016-03-27   \n",
              "49998                    1   petrol         bmw                no  2016-03-14   \n",
              "49999                    8   petrol     renault               NaN  2016-03-15   \n",
              "50000                   10   petrol   chevrolet                no  2016-03-22   \n",
              "\n",
              "       postalCode            lastSeen  \n",
              "0           20257 2016-07-04 04:44:00  \n",
              "1           88045 2016-03-26 13:17:00  \n",
              "2           27449 2016-01-04 08:40:00  \n",
              "3           34537 2016-07-04 04:44:00  \n",
              "4           55270 2016-01-04 23:18:00  \n",
              "...           ...                 ...  \n",
              "49996       29690 2016-05-04 15:16:00  \n",
              "49997       50181 2016-07-04 11:45:00  \n",
              "49998       86956 2016-03-25 06:17:00  \n",
              "49999       65232 2016-06-04 17:15:00  \n",
              "50000        7973 2016-05-04 21:15:00  \n",
              "\n",
              "[50001 rows x 19 columns]"
            ],
            "text/html": [
              "\n",
              "  <div id=\"df-552bc139-3e54-455e-99ab-cf2e3825ef16\">\n",
              "    <div class=\"colab-df-container\">\n",
              "      <div>\n",
              "<style scoped>\n",
              "    .dataframe tbody tr th:only-of-type {\n",
              "        vertical-align: middle;\n",
              "    }\n",
              "\n",
              "    .dataframe tbody tr th {\n",
              "        vertical-align: top;\n",
              "    }\n",
              "\n",
              "    .dataframe thead th {\n",
              "        text-align: right;\n",
              "    }\n",
              "</style>\n",
              "<table border=\"1\" class=\"dataframe\">\n",
              "  <thead>\n",
              "    <tr style=\"text-align: right;\">\n",
              "      <th></th>\n",
              "      <th>dateCrawled</th>\n",
              "      <th>name</th>\n",
              "      <th>seller</th>\n",
              "      <th>offerType</th>\n",
              "      <th>price</th>\n",
              "      <th>abtest</th>\n",
              "      <th>vehicleType</th>\n",
              "      <th>yearOfRegistration</th>\n",
              "      <th>gearbox</th>\n",
              "      <th>powerPS</th>\n",
              "      <th>model</th>\n",
              "      <th>kilometer</th>\n",
              "      <th>monthOfRegistration</th>\n",
              "      <th>fuelType</th>\n",
              "      <th>brand</th>\n",
              "      <th>notRepairedDamage</th>\n",
              "      <th>dateCreated</th>\n",
              "      <th>postalCode</th>\n",
              "      <th>lastSeen</th>\n",
              "    </tr>\n",
              "  </thead>\n",
              "  <tbody>\n",
              "    <tr>\n",
              "      <th>0</th>\n",
              "      <td>2016-03-30 13:51:00</td>\n",
              "      <td>Zu_verkaufen</td>\n",
              "      <td>private</td>\n",
              "      <td>offer</td>\n",
              "      <td>4450</td>\n",
              "      <td>test</td>\n",
              "      <td>limousine</td>\n",
              "      <td>2003</td>\n",
              "      <td>manual</td>\n",
              "      <td>150</td>\n",
              "      <td>3er</td>\n",
              "      <td>150000</td>\n",
              "      <td>3</td>\n",
              "      <td>diesel</td>\n",
              "      <td>bmw</td>\n",
              "      <td>NaN</td>\n",
              "      <td>2016-03-30</td>\n",
              "      <td>20257</td>\n",
              "      <td>2016-07-04 04:44:00</td>\n",
              "    </tr>\n",
              "    <tr>\n",
              "      <th>1</th>\n",
              "      <td>2016-07-03 09:54:00</td>\n",
              "      <td>Volvo_XC90_2.4D_Summum</td>\n",
              "      <td>private</td>\n",
              "      <td>offer</td>\n",
              "      <td>13299</td>\n",
              "      <td>control</td>\n",
              "      <td>suv</td>\n",
              "      <td>2005</td>\n",
              "      <td>manual</td>\n",
              "      <td>163</td>\n",
              "      <td>xc_reihe</td>\n",
              "      <td>150000</td>\n",
              "      <td>6</td>\n",
              "      <td>diesel</td>\n",
              "      <td>volvo</td>\n",
              "      <td>no</td>\n",
              "      <td>2016-07-03</td>\n",
              "      <td>88045</td>\n",
              "      <td>2016-03-26 13:17:00</td>\n",
              "    </tr>\n",
              "    <tr>\n",
              "      <th>2</th>\n",
              "      <td>2016-01-04 00:57:00</td>\n",
              "      <td>Volkswagen_Touran</td>\n",
              "      <td>private</td>\n",
              "      <td>offer</td>\n",
              "      <td>3200</td>\n",
              "      <td>test</td>\n",
              "      <td>bus</td>\n",
              "      <td>2003</td>\n",
              "      <td>manual</td>\n",
              "      <td>101</td>\n",
              "      <td>touran</td>\n",
              "      <td>150000</td>\n",
              "      <td>11</td>\n",
              "      <td>diesel</td>\n",
              "      <td>volkswagen</td>\n",
              "      <td>NaN</td>\n",
              "      <td>2016-03-31</td>\n",
              "      <td>27449</td>\n",
              "      <td>2016-01-04 08:40:00</td>\n",
              "    </tr>\n",
              "    <tr>\n",
              "      <th>3</th>\n",
              "      <td>2016-03-19 17:50:00</td>\n",
              "      <td>Seat_Ibiza_1.4_16V_Reference</td>\n",
              "      <td>private</td>\n",
              "      <td>offer</td>\n",
              "      <td>4500</td>\n",
              "      <td>control</td>\n",
              "      <td>small car</td>\n",
              "      <td>2006</td>\n",
              "      <td>manual</td>\n",
              "      <td>86</td>\n",
              "      <td>ibiza</td>\n",
              "      <td>60000</td>\n",
              "      <td>12</td>\n",
              "      <td>petrol</td>\n",
              "      <td>seat</td>\n",
              "      <td>no</td>\n",
              "      <td>2016-03-19</td>\n",
              "      <td>34537</td>\n",
              "      <td>2016-07-04 04:44:00</td>\n",
              "    </tr>\n",
              "    <tr>\n",
              "      <th>4</th>\n",
              "      <td>2016-03-16 14:51:00</td>\n",
              "      <td>Volvo_XC90_D5_Aut._RDesign_R_Design_AWD_GSHD_S...</td>\n",
              "      <td>private</td>\n",
              "      <td>offer</td>\n",
              "      <td>18750</td>\n",
              "      <td>test</td>\n",
              "      <td>suv</td>\n",
              "      <td>2008</td>\n",
              "      <td>automatic</td>\n",
              "      <td>185</td>\n",
              "      <td>xc_reihe</td>\n",
              "      <td>150000</td>\n",
              "      <td>11</td>\n",
              "      <td>diesel</td>\n",
              "      <td>volvo</td>\n",
              "      <td>no</td>\n",
              "      <td>2016-03-16</td>\n",
              "      <td>55270</td>\n",
              "      <td>2016-01-04 23:18:00</td>\n",
              "    </tr>\n",
              "    <tr>\n",
              "      <th>...</th>\n",
              "      <td>...</td>\n",
              "      <td>...</td>\n",
              "      <td>...</td>\n",
              "      <td>...</td>\n",
              "      <td>...</td>\n",
              "      <td>...</td>\n",
              "      <td>...</td>\n",
              "      <td>...</td>\n",
              "      <td>...</td>\n",
              "      <td>...</td>\n",
              "      <td>...</td>\n",
              "      <td>...</td>\n",
              "      <td>...</td>\n",
              "      <td>...</td>\n",
              "      <td>...</td>\n",
              "      <td>...</td>\n",
              "      <td>...</td>\n",
              "      <td>...</td>\n",
              "      <td>...</td>\n",
              "    </tr>\n",
              "    <tr>\n",
              "      <th>49996</th>\n",
              "      <td>2016-03-04 15:48:00</td>\n",
              "      <td>Suche_VW_T5_Multivan</td>\n",
              "      <td>private</td>\n",
              "      <td>request</td>\n",
              "      <td>0</td>\n",
              "      <td>test</td>\n",
              "      <td>bus</td>\n",
              "      <td>2005</td>\n",
              "      <td>NaN</td>\n",
              "      <td>0</td>\n",
              "      <td>transporter</td>\n",
              "      <td>150000</td>\n",
              "      <td>0</td>\n",
              "      <td>NaN</td>\n",
              "      <td>volkswagen</td>\n",
              "      <td>NaN</td>\n",
              "      <td>2016-03-04</td>\n",
              "      <td>29690</td>\n",
              "      <td>2016-05-04 15:16:00</td>\n",
              "    </tr>\n",
              "    <tr>\n",
              "      <th>49997</th>\n",
              "      <td>2016-03-27 14:55:00</td>\n",
              "      <td>Suche_einen_originalen_VW_Golf_2_Fire_and_Ice_G60</td>\n",
              "      <td>private</td>\n",
              "      <td>request</td>\n",
              "      <td>19999</td>\n",
              "      <td>control</td>\n",
              "      <td>NaN</td>\n",
              "      <td>1990</td>\n",
              "      <td>NaN</td>\n",
              "      <td>0</td>\n",
              "      <td>golf</td>\n",
              "      <td>5000</td>\n",
              "      <td>0</td>\n",
              "      <td>NaN</td>\n",
              "      <td>volkswagen</td>\n",
              "      <td>NaN</td>\n",
              "      <td>2016-03-27</td>\n",
              "      <td>50181</td>\n",
              "      <td>2016-07-04 11:45:00</td>\n",
              "    </tr>\n",
              "    <tr>\n",
              "      <th>49998</th>\n",
              "      <td>2016-03-14 18:51:00</td>\n",
              "      <td>[SUCHE]_BMW_e46_Coupe_330ci_M_Paket_Facelift__...</td>\n",
              "      <td>private</td>\n",
              "      <td>request</td>\n",
              "      <td>0</td>\n",
              "      <td>test</td>\n",
              "      <td>coupe</td>\n",
              "      <td>2004</td>\n",
              "      <td>manual</td>\n",
              "      <td>0</td>\n",
              "      <td>3er</td>\n",
              "      <td>150000</td>\n",
              "      <td>1</td>\n",
              "      <td>petrol</td>\n",
              "      <td>bmw</td>\n",
              "      <td>no</td>\n",
              "      <td>2016-03-14</td>\n",
              "      <td>86956</td>\n",
              "      <td>2016-03-25 06:17:00</td>\n",
              "    </tr>\n",
              "    <tr>\n",
              "      <th>49999</th>\n",
              "      <td>2016-03-15 18:06:00</td>\n",
              "      <td>Verkaufe_mehrere_Fahrzeuge_zum_Verschrotten</td>\n",
              "      <td>commercial</td>\n",
              "      <td>offer</td>\n",
              "      <td>100</td>\n",
              "      <td>control</td>\n",
              "      <td>station wagon</td>\n",
              "      <td>2000</td>\n",
              "      <td>manual</td>\n",
              "      <td>0</td>\n",
              "      <td>megane</td>\n",
              "      <td>150000</td>\n",
              "      <td>8</td>\n",
              "      <td>petrol</td>\n",
              "      <td>renault</td>\n",
              "      <td>NaN</td>\n",
              "      <td>2016-03-15</td>\n",
              "      <td>65232</td>\n",
              "      <td>2016-06-04 17:15:00</td>\n",
              "    </tr>\n",
              "    <tr>\n",
              "      <th>50000</th>\n",
              "      <td>2016-03-22 09:54:00</td>\n",
              "      <td>Chevrolet_Matiz_1.Hd_TÜV11/2017</td>\n",
              "      <td>commercial</td>\n",
              "      <td>offer</td>\n",
              "      <td>1100</td>\n",
              "      <td>test</td>\n",
              "      <td>small car</td>\n",
              "      <td>2006</td>\n",
              "      <td>manual</td>\n",
              "      <td>38</td>\n",
              "      <td>matiz</td>\n",
              "      <td>150000</td>\n",
              "      <td>10</td>\n",
              "      <td>petrol</td>\n",
              "      <td>chevrolet</td>\n",
              "      <td>no</td>\n",
              "      <td>2016-03-22</td>\n",
              "      <td>7973</td>\n",
              "      <td>2016-05-04 21:15:00</td>\n",
              "    </tr>\n",
              "  </tbody>\n",
              "</table>\n",
              "<p>50001 rows × 19 columns</p>\n",
              "</div>\n",
              "      <button class=\"colab-df-convert\" onclick=\"convertToInteractive('df-552bc139-3e54-455e-99ab-cf2e3825ef16')\"\n",
              "              title=\"Convert this dataframe to an interactive table.\"\n",
              "              style=\"display:none;\">\n",
              "        \n",
              "  <svg xmlns=\"http://www.w3.org/2000/svg\" height=\"24px\"viewBox=\"0 0 24 24\"\n",
              "       width=\"24px\">\n",
              "    <path d=\"M0 0h24v24H0V0z\" fill=\"none\"/>\n",
              "    <path d=\"M18.56 5.44l.94 2.06.94-2.06 2.06-.94-2.06-.94-.94-2.06-.94 2.06-2.06.94zm-11 1L8.5 8.5l.94-2.06 2.06-.94-2.06-.94L8.5 2.5l-.94 2.06-2.06.94zm10 10l.94 2.06.94-2.06 2.06-.94-2.06-.94-.94-2.06-.94 2.06-2.06.94z\"/><path d=\"M17.41 7.96l-1.37-1.37c-.4-.4-.92-.59-1.43-.59-.52 0-1.04.2-1.43.59L10.3 9.45l-7.72 7.72c-.78.78-.78 2.05 0 2.83L4 21.41c.39.39.9.59 1.41.59.51 0 1.02-.2 1.41-.59l7.78-7.78 2.81-2.81c.8-.78.8-2.07 0-2.86zM5.41 20L4 18.59l7.72-7.72 1.47 1.35L5.41 20z\"/>\n",
              "  </svg>\n",
              "      </button>\n",
              "      \n",
              "  <style>\n",
              "    .colab-df-container {\n",
              "      display:flex;\n",
              "      flex-wrap:wrap;\n",
              "      gap: 12px;\n",
              "    }\n",
              "\n",
              "    .colab-df-convert {\n",
              "      background-color: #E8F0FE;\n",
              "      border: none;\n",
              "      border-radius: 50%;\n",
              "      cursor: pointer;\n",
              "      display: none;\n",
              "      fill: #1967D2;\n",
              "      height: 32px;\n",
              "      padding: 0 0 0 0;\n",
              "      width: 32px;\n",
              "    }\n",
              "\n",
              "    .colab-df-convert:hover {\n",
              "      background-color: #E2EBFA;\n",
              "      box-shadow: 0px 1px 2px rgba(60, 64, 67, 0.3), 0px 1px 3px 1px rgba(60, 64, 67, 0.15);\n",
              "      fill: #174EA6;\n",
              "    }\n",
              "\n",
              "    [theme=dark] .colab-df-convert {\n",
              "      background-color: #3B4455;\n",
              "      fill: #D2E3FC;\n",
              "    }\n",
              "\n",
              "    [theme=dark] .colab-df-convert:hover {\n",
              "      background-color: #434B5C;\n",
              "      box-shadow: 0px 1px 3px 1px rgba(0, 0, 0, 0.15);\n",
              "      filter: drop-shadow(0px 1px 2px rgba(0, 0, 0, 0.3));\n",
              "      fill: #FFFFFF;\n",
              "    }\n",
              "  </style>\n",
              "\n",
              "      <script>\n",
              "        const buttonEl =\n",
              "          document.querySelector('#df-552bc139-3e54-455e-99ab-cf2e3825ef16 button.colab-df-convert');\n",
              "        buttonEl.style.display =\n",
              "          google.colab.kernel.accessAllowed ? 'block' : 'none';\n",
              "\n",
              "        async function convertToInteractive(key) {\n",
              "          const element = document.querySelector('#df-552bc139-3e54-455e-99ab-cf2e3825ef16');\n",
              "          const dataTable =\n",
              "            await google.colab.kernel.invokeFunction('convertToInteractive',\n",
              "                                                     [key], {});\n",
              "          if (!dataTable) return;\n",
              "\n",
              "          const docLinkHtml = 'Like what you see? Visit the ' +\n",
              "            '<a target=\"_blank\" href=https://colab.research.google.com/notebooks/data_table.ipynb>data table notebook</a>'\n",
              "            + ' to learn more about interactive tables.';\n",
              "          element.innerHTML = '';\n",
              "          dataTable['output_type'] = 'display_data';\n",
              "          await google.colab.output.renderOutput(dataTable, element);\n",
              "          const docLink = document.createElement('div');\n",
              "          docLink.innerHTML = docLinkHtml;\n",
              "          element.appendChild(docLink);\n",
              "        }\n",
              "      </script>\n",
              "    </div>\n",
              "  </div>\n",
              "  "
            ]
          },
          "metadata": {},
          "execution_count": 4
        }
      ],
      "source": [
        "df = pd.read_csv(\"./cars_sampled.csv\", parse_dates=dates_list)\n",
        "df"
      ]
    },
    {
      "cell_type": "markdown",
      "id": "5839f3eb",
      "metadata": {
        "id": "5839f3eb"
      },
      "source": [
        "2.\tСделайте описательную статистику: размер, типы переменных, пустые значения, уникальные имена и т.д."
      ]
    },
    {
      "cell_type": "markdown",
      "id": "3f7c2ea3",
      "metadata": {
        "id": "3f7c2ea3"
      },
      "source": [
        "Размерность"
      ]
    },
    {
      "cell_type": "code",
      "execution_count": 5,
      "id": "a0db7d1e",
      "metadata": {
        "colab": {
          "base_uri": "https://localhost:8080/"
        },
        "id": "a0db7d1e",
        "outputId": "b4953cbe-7984-474e-f6ac-fe80f22fa904"
      },
      "outputs": [
        {
          "output_type": "execute_result",
          "data": {
            "text/plain": [
              "(50001, 19)"
            ]
          },
          "metadata": {},
          "execution_count": 5
        }
      ],
      "source": [
        "df.shape"
      ]
    },
    {
      "cell_type": "code",
      "execution_count": 6,
      "id": "16d7b38e",
      "metadata": {
        "colab": {
          "base_uri": "https://localhost:8080/"
        },
        "id": "16d7b38e",
        "outputId": "ce60fc5c-edb2-4e90-e878-a4aeba88de90"
      },
      "outputs": [
        {
          "output_type": "execute_result",
          "data": {
            "text/plain": [
              "Index(['dateCrawled', 'name', 'seller', 'offerType', 'price', 'abtest',\n",
              "       'vehicleType', 'yearOfRegistration', 'gearbox', 'powerPS', 'model',\n",
              "       'kilometer', 'monthOfRegistration', 'fuelType', 'brand',\n",
              "       'notRepairedDamage', 'dateCreated', 'postalCode', 'lastSeen'],\n",
              "      dtype='object')"
            ]
          },
          "metadata": {},
          "execution_count": 6
        }
      ],
      "source": [
        "df.columns"
      ]
    },
    {
      "cell_type": "markdown",
      "id": "5acca5b4",
      "metadata": {
        "id": "5acca5b4"
      },
      "source": [
        "Типы данных"
      ]
    },
    {
      "cell_type": "code",
      "execution_count": 7,
      "id": "fec1561f",
      "metadata": {
        "colab": {
          "base_uri": "https://localhost:8080/"
        },
        "id": "fec1561f",
        "outputId": "c75e3b41-4f4a-460e-989d-34b53f30e898"
      },
      "outputs": [
        {
          "output_type": "execute_result",
          "data": {
            "text/plain": [
              "dateCrawled            datetime64[ns]\n",
              "name                           object\n",
              "seller                         object\n",
              "offerType                      object\n",
              "price                           int64\n",
              "abtest                         object\n",
              "vehicleType                    object\n",
              "yearOfRegistration              int64\n",
              "gearbox                        object\n",
              "powerPS                         int64\n",
              "model                          object\n",
              "kilometer                       int64\n",
              "monthOfRegistration             int64\n",
              "fuelType                       object\n",
              "brand                          object\n",
              "notRepairedDamage              object\n",
              "dateCreated            datetime64[ns]\n",
              "postalCode                      int64\n",
              "lastSeen               datetime64[ns]\n",
              "dtype: object"
            ]
          },
          "metadata": {},
          "execution_count": 7
        }
      ],
      "source": [
        "df.dtypes"
      ]
    },
    {
      "cell_type": "code",
      "execution_count": 8,
      "id": "9da71c43",
      "metadata": {
        "colab": {
          "base_uri": "https://localhost:8080/"
        },
        "id": "9da71c43",
        "outputId": "7e220985-5ee4-4f2c-c0f2-ae5a1be31715"
      },
      "outputs": [
        {
          "output_type": "stream",
          "name": "stdout",
          "text": [
            "<class 'pandas.core.frame.DataFrame'>\n",
            "RangeIndex: 50001 entries, 0 to 50000\n",
            "Data columns (total 19 columns):\n",
            " #   Column               Non-Null Count  Dtype         \n",
            "---  ------               --------------  -----         \n",
            " 0   dateCrawled          50001 non-null  datetime64[ns]\n",
            " 1   name                 50001 non-null  object        \n",
            " 2   seller               50001 non-null  object        \n",
            " 3   offerType            50001 non-null  object        \n",
            " 4   price                50001 non-null  int64         \n",
            " 5   abtest               50001 non-null  object        \n",
            " 6   vehicleType          44813 non-null  object        \n",
            " 7   yearOfRegistration   50001 non-null  int64         \n",
            " 8   gearbox              47177 non-null  object        \n",
            " 9   powerPS              50001 non-null  int64         \n",
            " 10  model                47243 non-null  object        \n",
            " 11  kilometer            50001 non-null  int64         \n",
            " 12  monthOfRegistration  50001 non-null  int64         \n",
            " 13  fuelType             45498 non-null  object        \n",
            " 14  brand                50001 non-null  object        \n",
            " 15  notRepairedDamage    40285 non-null  object        \n",
            " 16  dateCreated          50001 non-null  datetime64[ns]\n",
            " 17  postalCode           50001 non-null  int64         \n",
            " 18  lastSeen             50001 non-null  datetime64[ns]\n",
            "dtypes: datetime64[ns](3), int64(6), object(10)\n",
            "memory usage: 7.2+ MB\n"
          ]
        }
      ],
      "source": [
        "df.info()"
      ]
    },
    {
      "cell_type": "markdown",
      "id": "445bc61b",
      "metadata": {
        "id": "445bc61b"
      },
      "source": [
        "Описательная статистика"
      ]
    },
    {
      "cell_type": "code",
      "execution_count": 9,
      "id": "4170ae7b",
      "metadata": {
        "scrolled": true,
        "colab": {
          "base_uri": "https://localhost:8080/",
          "height": 300
        },
        "id": "4170ae7b",
        "outputId": "a44944e4-1248-42a5-e60c-31efdfef851e"
      },
      "outputs": [
        {
          "output_type": "execute_result",
          "data": {
            "text/plain": [
              "              price  yearOfRegistration       powerPS      kilometer  \\\n",
              "count  5.000100e+04        50001.000000  50001.000000   50001.000000   \n",
              "mean   6.559865e+03         2005.544229    116.496130  125613.687726   \n",
              "std    8.581847e+04          122.991832    230.567709   40205.234483   \n",
              "min    0.000000e+00         1000.000000      0.000000    5000.000000   \n",
              "25%    1.150000e+03         1999.000000     69.000000  125000.000000   \n",
              "50%    2.950000e+03         2003.000000    105.000000  150000.000000   \n",
              "75%    7.190000e+03         2008.000000    150.000000  150000.000000   \n",
              "max    1.234568e+07         9999.000000  19312.000000  150000.000000   \n",
              "\n",
              "       monthOfRegistration    postalCode  \n",
              "count         50001.000000  50001.000000  \n",
              "mean              5.743725  50775.216696  \n",
              "std               3.711345  25743.701933  \n",
              "min               0.000000   1067.000000  \n",
              "25%               3.000000  30559.000000  \n",
              "50%               6.000000  49504.000000  \n",
              "75%               9.000000  71404.000000  \n",
              "max              12.000000  99998.000000  "
            ],
            "text/html": [
              "\n",
              "  <div id=\"df-85140c41-df30-44ec-9b62-1c57c5171d09\">\n",
              "    <div class=\"colab-df-container\">\n",
              "      <div>\n",
              "<style scoped>\n",
              "    .dataframe tbody tr th:only-of-type {\n",
              "        vertical-align: middle;\n",
              "    }\n",
              "\n",
              "    .dataframe tbody tr th {\n",
              "        vertical-align: top;\n",
              "    }\n",
              "\n",
              "    .dataframe thead th {\n",
              "        text-align: right;\n",
              "    }\n",
              "</style>\n",
              "<table border=\"1\" class=\"dataframe\">\n",
              "  <thead>\n",
              "    <tr style=\"text-align: right;\">\n",
              "      <th></th>\n",
              "      <th>price</th>\n",
              "      <th>yearOfRegistration</th>\n",
              "      <th>powerPS</th>\n",
              "      <th>kilometer</th>\n",
              "      <th>monthOfRegistration</th>\n",
              "      <th>postalCode</th>\n",
              "    </tr>\n",
              "  </thead>\n",
              "  <tbody>\n",
              "    <tr>\n",
              "      <th>count</th>\n",
              "      <td>5.000100e+04</td>\n",
              "      <td>50001.000000</td>\n",
              "      <td>50001.000000</td>\n",
              "      <td>50001.000000</td>\n",
              "      <td>50001.000000</td>\n",
              "      <td>50001.000000</td>\n",
              "    </tr>\n",
              "    <tr>\n",
              "      <th>mean</th>\n",
              "      <td>6.559865e+03</td>\n",
              "      <td>2005.544229</td>\n",
              "      <td>116.496130</td>\n",
              "      <td>125613.687726</td>\n",
              "      <td>5.743725</td>\n",
              "      <td>50775.216696</td>\n",
              "    </tr>\n",
              "    <tr>\n",
              "      <th>std</th>\n",
              "      <td>8.581847e+04</td>\n",
              "      <td>122.991832</td>\n",
              "      <td>230.567709</td>\n",
              "      <td>40205.234483</td>\n",
              "      <td>3.711345</td>\n",
              "      <td>25743.701933</td>\n",
              "    </tr>\n",
              "    <tr>\n",
              "      <th>min</th>\n",
              "      <td>0.000000e+00</td>\n",
              "      <td>1000.000000</td>\n",
              "      <td>0.000000</td>\n",
              "      <td>5000.000000</td>\n",
              "      <td>0.000000</td>\n",
              "      <td>1067.000000</td>\n",
              "    </tr>\n",
              "    <tr>\n",
              "      <th>25%</th>\n",
              "      <td>1.150000e+03</td>\n",
              "      <td>1999.000000</td>\n",
              "      <td>69.000000</td>\n",
              "      <td>125000.000000</td>\n",
              "      <td>3.000000</td>\n",
              "      <td>30559.000000</td>\n",
              "    </tr>\n",
              "    <tr>\n",
              "      <th>50%</th>\n",
              "      <td>2.950000e+03</td>\n",
              "      <td>2003.000000</td>\n",
              "      <td>105.000000</td>\n",
              "      <td>150000.000000</td>\n",
              "      <td>6.000000</td>\n",
              "      <td>49504.000000</td>\n",
              "    </tr>\n",
              "    <tr>\n",
              "      <th>75%</th>\n",
              "      <td>7.190000e+03</td>\n",
              "      <td>2008.000000</td>\n",
              "      <td>150.000000</td>\n",
              "      <td>150000.000000</td>\n",
              "      <td>9.000000</td>\n",
              "      <td>71404.000000</td>\n",
              "    </tr>\n",
              "    <tr>\n",
              "      <th>max</th>\n",
              "      <td>1.234568e+07</td>\n",
              "      <td>9999.000000</td>\n",
              "      <td>19312.000000</td>\n",
              "      <td>150000.000000</td>\n",
              "      <td>12.000000</td>\n",
              "      <td>99998.000000</td>\n",
              "    </tr>\n",
              "  </tbody>\n",
              "</table>\n",
              "</div>\n",
              "      <button class=\"colab-df-convert\" onclick=\"convertToInteractive('df-85140c41-df30-44ec-9b62-1c57c5171d09')\"\n",
              "              title=\"Convert this dataframe to an interactive table.\"\n",
              "              style=\"display:none;\">\n",
              "        \n",
              "  <svg xmlns=\"http://www.w3.org/2000/svg\" height=\"24px\"viewBox=\"0 0 24 24\"\n",
              "       width=\"24px\">\n",
              "    <path d=\"M0 0h24v24H0V0z\" fill=\"none\"/>\n",
              "    <path d=\"M18.56 5.44l.94 2.06.94-2.06 2.06-.94-2.06-.94-.94-2.06-.94 2.06-2.06.94zm-11 1L8.5 8.5l.94-2.06 2.06-.94-2.06-.94L8.5 2.5l-.94 2.06-2.06.94zm10 10l.94 2.06.94-2.06 2.06-.94-2.06-.94-.94-2.06-.94 2.06-2.06.94z\"/><path d=\"M17.41 7.96l-1.37-1.37c-.4-.4-.92-.59-1.43-.59-.52 0-1.04.2-1.43.59L10.3 9.45l-7.72 7.72c-.78.78-.78 2.05 0 2.83L4 21.41c.39.39.9.59 1.41.59.51 0 1.02-.2 1.41-.59l7.78-7.78 2.81-2.81c.8-.78.8-2.07 0-2.86zM5.41 20L4 18.59l7.72-7.72 1.47 1.35L5.41 20z\"/>\n",
              "  </svg>\n",
              "      </button>\n",
              "      \n",
              "  <style>\n",
              "    .colab-df-container {\n",
              "      display:flex;\n",
              "      flex-wrap:wrap;\n",
              "      gap: 12px;\n",
              "    }\n",
              "\n",
              "    .colab-df-convert {\n",
              "      background-color: #E8F0FE;\n",
              "      border: none;\n",
              "      border-radius: 50%;\n",
              "      cursor: pointer;\n",
              "      display: none;\n",
              "      fill: #1967D2;\n",
              "      height: 32px;\n",
              "      padding: 0 0 0 0;\n",
              "      width: 32px;\n",
              "    }\n",
              "\n",
              "    .colab-df-convert:hover {\n",
              "      background-color: #E2EBFA;\n",
              "      box-shadow: 0px 1px 2px rgba(60, 64, 67, 0.3), 0px 1px 3px 1px rgba(60, 64, 67, 0.15);\n",
              "      fill: #174EA6;\n",
              "    }\n",
              "\n",
              "    [theme=dark] .colab-df-convert {\n",
              "      background-color: #3B4455;\n",
              "      fill: #D2E3FC;\n",
              "    }\n",
              "\n",
              "    [theme=dark] .colab-df-convert:hover {\n",
              "      background-color: #434B5C;\n",
              "      box-shadow: 0px 1px 3px 1px rgba(0, 0, 0, 0.15);\n",
              "      filter: drop-shadow(0px 1px 2px rgba(0, 0, 0, 0.3));\n",
              "      fill: #FFFFFF;\n",
              "    }\n",
              "  </style>\n",
              "\n",
              "      <script>\n",
              "        const buttonEl =\n",
              "          document.querySelector('#df-85140c41-df30-44ec-9b62-1c57c5171d09 button.colab-df-convert');\n",
              "        buttonEl.style.display =\n",
              "          google.colab.kernel.accessAllowed ? 'block' : 'none';\n",
              "\n",
              "        async function convertToInteractive(key) {\n",
              "          const element = document.querySelector('#df-85140c41-df30-44ec-9b62-1c57c5171d09');\n",
              "          const dataTable =\n",
              "            await google.colab.kernel.invokeFunction('convertToInteractive',\n",
              "                                                     [key], {});\n",
              "          if (!dataTable) return;\n",
              "\n",
              "          const docLinkHtml = 'Like what you see? Visit the ' +\n",
              "            '<a target=\"_blank\" href=https://colab.research.google.com/notebooks/data_table.ipynb>data table notebook</a>'\n",
              "            + ' to learn more about interactive tables.';\n",
              "          element.innerHTML = '';\n",
              "          dataTable['output_type'] = 'display_data';\n",
              "          await google.colab.output.renderOutput(dataTable, element);\n",
              "          const docLink = document.createElement('div');\n",
              "          docLink.innerHTML = docLinkHtml;\n",
              "          element.appendChild(docLink);\n",
              "        }\n",
              "      </script>\n",
              "    </div>\n",
              "  </div>\n",
              "  "
            ]
          },
          "metadata": {},
          "execution_count": 9
        }
      ],
      "source": [
        "df.describe()"
      ]
    },
    {
      "cell_type": "markdown",
      "id": "5fa01181",
      "metadata": {
        "id": "5fa01181"
      },
      "source": [
        "Пустые значения"
      ]
    },
    {
      "cell_type": "code",
      "execution_count": 10,
      "id": "015d7ef3",
      "metadata": {
        "colab": {
          "base_uri": "https://localhost:8080/"
        },
        "id": "015d7ef3",
        "outputId": "e29c01c0-f10c-4995-d232-e5e558805e23"
      },
      "outputs": [
        {
          "output_type": "execute_result",
          "data": {
            "text/plain": [
              "dateCrawled               0\n",
              "name                      0\n",
              "seller                    0\n",
              "offerType                 0\n",
              "price                     0\n",
              "abtest                    0\n",
              "vehicleType            5188\n",
              "yearOfRegistration        0\n",
              "gearbox                2824\n",
              "powerPS                   0\n",
              "model                  2758\n",
              "kilometer                 0\n",
              "monthOfRegistration       0\n",
              "fuelType               4503\n",
              "brand                     0\n",
              "notRepairedDamage      9716\n",
              "dateCreated               0\n",
              "postalCode                0\n",
              "lastSeen                  0\n",
              "dtype: int64"
            ]
          },
          "metadata": {},
          "execution_count": 10
        }
      ],
      "source": [
        "df.isna().sum()"
      ]
    },
    {
      "cell_type": "markdown",
      "id": "c60929eb",
      "metadata": {
        "id": "c60929eb"
      },
      "source": [
        "Шкалы измерения каждого существенного признака"
      ]
    },
    {
      "cell_type": "code",
      "execution_count": 12,
      "id": "61a4ff42",
      "metadata": {
        "scrolled": true,
        "colab": {
          "base_uri": "https://localhost:8080/",
          "height": 741
        },
        "id": "61a4ff42",
        "outputId": "b5d77e4b-08d5-4830-b236-17f2458ec27b"
      },
      "outputs": [
        {
          "output_type": "execute_result",
          "data": {
            "text/plain": [
              "                               type  shape            min_value  \\\n",
              "dateCrawled          datetime64[ns]  12039  2016-01-04 00:25:00   \n",
              "name                         object  38766                    -   \n",
              "seller                       object      2                    -   \n",
              "offerType                    object      2                    -   \n",
              "price                         int64   2393                    0   \n",
              "abtest                       object      2                    -   \n",
              "vehicleType                  object      8                    -   \n",
              "yearOfRegistration            int64     97                 1000   \n",
              "gearbox                      object      2                    -   \n",
              "powerPS                       int64    460                    0   \n",
              "model                        object    248                    -   \n",
              "kilometer                     int64     13                 5000   \n",
              "monthOfRegistration           int64     13                    0   \n",
              "fuelType                     object      7                    -   \n",
              "brand                        object     40                    -   \n",
              "notRepairedDamage            object      2                    -   \n",
              "dateCreated          datetime64[ns]     75  2015-02-11 00:00:00   \n",
              "postalCode                    int64   7018                 1067   \n",
              "lastSeen             datetime64[ns]  10413  2016-01-04 00:15:00   \n",
              "\n",
              "                               max_value  \\\n",
              "dateCrawled          2016-12-03 23:59:00   \n",
              "name                                   -   \n",
              "seller                                 -   \n",
              "offerType                              -   \n",
              "price                           12345678   \n",
              "abtest                                 -   \n",
              "vehicleType                            -   \n",
              "yearOfRegistration                  9999   \n",
              "gearbox                                -   \n",
              "powerPS                            19312   \n",
              "model                                  -   \n",
              "kilometer                         150000   \n",
              "monthOfRegistration                   12   \n",
              "fuelType                               -   \n",
              "brand                                  -   \n",
              "notRepairedDamage                      -   \n",
              "dateCreated          2016-12-03 00:00:00   \n",
              "postalCode                         99998   \n",
              "lastSeen             2016-12-03 23:47:00   \n",
              "\n",
              "                                                           uniq_values  \n",
              "dateCrawled          [2016-01-04T00:25:00.000000000, 2016-01-04T00:...  \n",
              "name                 [!!!!!!!!__Skoda_Superb_2.0_TDI_DSG__Elegance_...  \n",
              "seller                                           [commercial, private]  \n",
              "offerType                                             [offer, request]  \n",
              "price                [0, 1, 2, 3, 5, 7, 8, 10, 11, 12, 14, 15, 20, ...  \n",
              "abtest                                                 [control, test]  \n",
              "vehicleType          [bus, cabrio, coupe, limousine, others, small ...  \n",
              "yearOfRegistration   [1000, 1255, 1500, 1910, 1928, 1929, 1933, 193...  \n",
              "gearbox                                            [automatic, manual]  \n",
              "powerPS              [0, 1, 2, 3, 4, 5, 6, 7, 9, 10, 11, 12, 13, 14...  \n",
              "model                [100, 145, 147, 156, 159, 1_reihe, 1er, 200, 2...  \n",
              "kilometer            [5000, 10000, 20000, 30000, 40000, 50000, 6000...  \n",
              "monthOfRegistration         [0, 1, 2, 3, 4, 5, 6, 7, 8, 9, 10, 11, 12]  \n",
              "fuelType             [cng, diesel, electro, hybrid, lpg, other, pet...  \n",
              "brand                [alfa_romeo, audi, bmw, chevrolet, chrysler, c...  \n",
              "notRepairedDamage                                            [no, yes]  \n",
              "dateCreated          [2015-02-11T00:00:00.000000000, 2015-04-09T00:...  \n",
              "postalCode           [1067, 1069, 1097, 1099, 1108, 1109, 1127, 112...  \n",
              "lastSeen             [2016-01-04T00:15:00.000000000, 2016-01-04T00:...  "
            ],
            "text/html": [
              "\n",
              "  <div id=\"df-980be6b9-f160-471d-91d5-3aecdb8132e6\">\n",
              "    <div class=\"colab-df-container\">\n",
              "      <div>\n",
              "<style scoped>\n",
              "    .dataframe tbody tr th:only-of-type {\n",
              "        vertical-align: middle;\n",
              "    }\n",
              "\n",
              "    .dataframe tbody tr th {\n",
              "        vertical-align: top;\n",
              "    }\n",
              "\n",
              "    .dataframe thead th {\n",
              "        text-align: right;\n",
              "    }\n",
              "</style>\n",
              "<table border=\"1\" class=\"dataframe\">\n",
              "  <thead>\n",
              "    <tr style=\"text-align: right;\">\n",
              "      <th></th>\n",
              "      <th>type</th>\n",
              "      <th>shape</th>\n",
              "      <th>min_value</th>\n",
              "      <th>max_value</th>\n",
              "      <th>uniq_values</th>\n",
              "    </tr>\n",
              "  </thead>\n",
              "  <tbody>\n",
              "    <tr>\n",
              "      <th>dateCrawled</th>\n",
              "      <td>datetime64[ns]</td>\n",
              "      <td>12039</td>\n",
              "      <td>2016-01-04 00:25:00</td>\n",
              "      <td>2016-12-03 23:59:00</td>\n",
              "      <td>[2016-01-04T00:25:00.000000000, 2016-01-04T00:...</td>\n",
              "    </tr>\n",
              "    <tr>\n",
              "      <th>name</th>\n",
              "      <td>object</td>\n",
              "      <td>38766</td>\n",
              "      <td>-</td>\n",
              "      <td>-</td>\n",
              "      <td>[!!!!!!!!__Skoda_Superb_2.0_TDI_DSG__Elegance_...</td>\n",
              "    </tr>\n",
              "    <tr>\n",
              "      <th>seller</th>\n",
              "      <td>object</td>\n",
              "      <td>2</td>\n",
              "      <td>-</td>\n",
              "      <td>-</td>\n",
              "      <td>[commercial, private]</td>\n",
              "    </tr>\n",
              "    <tr>\n",
              "      <th>offerType</th>\n",
              "      <td>object</td>\n",
              "      <td>2</td>\n",
              "      <td>-</td>\n",
              "      <td>-</td>\n",
              "      <td>[offer, request]</td>\n",
              "    </tr>\n",
              "    <tr>\n",
              "      <th>price</th>\n",
              "      <td>int64</td>\n",
              "      <td>2393</td>\n",
              "      <td>0</td>\n",
              "      <td>12345678</td>\n",
              "      <td>[0, 1, 2, 3, 5, 7, 8, 10, 11, 12, 14, 15, 20, ...</td>\n",
              "    </tr>\n",
              "    <tr>\n",
              "      <th>abtest</th>\n",
              "      <td>object</td>\n",
              "      <td>2</td>\n",
              "      <td>-</td>\n",
              "      <td>-</td>\n",
              "      <td>[control, test]</td>\n",
              "    </tr>\n",
              "    <tr>\n",
              "      <th>vehicleType</th>\n",
              "      <td>object</td>\n",
              "      <td>8</td>\n",
              "      <td>-</td>\n",
              "      <td>-</td>\n",
              "      <td>[bus, cabrio, coupe, limousine, others, small ...</td>\n",
              "    </tr>\n",
              "    <tr>\n",
              "      <th>yearOfRegistration</th>\n",
              "      <td>int64</td>\n",
              "      <td>97</td>\n",
              "      <td>1000</td>\n",
              "      <td>9999</td>\n",
              "      <td>[1000, 1255, 1500, 1910, 1928, 1929, 1933, 193...</td>\n",
              "    </tr>\n",
              "    <tr>\n",
              "      <th>gearbox</th>\n",
              "      <td>object</td>\n",
              "      <td>2</td>\n",
              "      <td>-</td>\n",
              "      <td>-</td>\n",
              "      <td>[automatic, manual]</td>\n",
              "    </tr>\n",
              "    <tr>\n",
              "      <th>powerPS</th>\n",
              "      <td>int64</td>\n",
              "      <td>460</td>\n",
              "      <td>0</td>\n",
              "      <td>19312</td>\n",
              "      <td>[0, 1, 2, 3, 4, 5, 6, 7, 9, 10, 11, 12, 13, 14...</td>\n",
              "    </tr>\n",
              "    <tr>\n",
              "      <th>model</th>\n",
              "      <td>object</td>\n",
              "      <td>248</td>\n",
              "      <td>-</td>\n",
              "      <td>-</td>\n",
              "      <td>[100, 145, 147, 156, 159, 1_reihe, 1er, 200, 2...</td>\n",
              "    </tr>\n",
              "    <tr>\n",
              "      <th>kilometer</th>\n",
              "      <td>int64</td>\n",
              "      <td>13</td>\n",
              "      <td>5000</td>\n",
              "      <td>150000</td>\n",
              "      <td>[5000, 10000, 20000, 30000, 40000, 50000, 6000...</td>\n",
              "    </tr>\n",
              "    <tr>\n",
              "      <th>monthOfRegistration</th>\n",
              "      <td>int64</td>\n",
              "      <td>13</td>\n",
              "      <td>0</td>\n",
              "      <td>12</td>\n",
              "      <td>[0, 1, 2, 3, 4, 5, 6, 7, 8, 9, 10, 11, 12]</td>\n",
              "    </tr>\n",
              "    <tr>\n",
              "      <th>fuelType</th>\n",
              "      <td>object</td>\n",
              "      <td>7</td>\n",
              "      <td>-</td>\n",
              "      <td>-</td>\n",
              "      <td>[cng, diesel, electro, hybrid, lpg, other, pet...</td>\n",
              "    </tr>\n",
              "    <tr>\n",
              "      <th>brand</th>\n",
              "      <td>object</td>\n",
              "      <td>40</td>\n",
              "      <td>-</td>\n",
              "      <td>-</td>\n",
              "      <td>[alfa_romeo, audi, bmw, chevrolet, chrysler, c...</td>\n",
              "    </tr>\n",
              "    <tr>\n",
              "      <th>notRepairedDamage</th>\n",
              "      <td>object</td>\n",
              "      <td>2</td>\n",
              "      <td>-</td>\n",
              "      <td>-</td>\n",
              "      <td>[no, yes]</td>\n",
              "    </tr>\n",
              "    <tr>\n",
              "      <th>dateCreated</th>\n",
              "      <td>datetime64[ns]</td>\n",
              "      <td>75</td>\n",
              "      <td>2015-02-11 00:00:00</td>\n",
              "      <td>2016-12-03 00:00:00</td>\n",
              "      <td>[2015-02-11T00:00:00.000000000, 2015-04-09T00:...</td>\n",
              "    </tr>\n",
              "    <tr>\n",
              "      <th>postalCode</th>\n",
              "      <td>int64</td>\n",
              "      <td>7018</td>\n",
              "      <td>1067</td>\n",
              "      <td>99998</td>\n",
              "      <td>[1067, 1069, 1097, 1099, 1108, 1109, 1127, 112...</td>\n",
              "    </tr>\n",
              "    <tr>\n",
              "      <th>lastSeen</th>\n",
              "      <td>datetime64[ns]</td>\n",
              "      <td>10413</td>\n",
              "      <td>2016-01-04 00:15:00</td>\n",
              "      <td>2016-12-03 23:47:00</td>\n",
              "      <td>[2016-01-04T00:15:00.000000000, 2016-01-04T00:...</td>\n",
              "    </tr>\n",
              "  </tbody>\n",
              "</table>\n",
              "</div>\n",
              "      <button class=\"colab-df-convert\" onclick=\"convertToInteractive('df-980be6b9-f160-471d-91d5-3aecdb8132e6')\"\n",
              "              title=\"Convert this dataframe to an interactive table.\"\n",
              "              style=\"display:none;\">\n",
              "        \n",
              "  <svg xmlns=\"http://www.w3.org/2000/svg\" height=\"24px\"viewBox=\"0 0 24 24\"\n",
              "       width=\"24px\">\n",
              "    <path d=\"M0 0h24v24H0V0z\" fill=\"none\"/>\n",
              "    <path d=\"M18.56 5.44l.94 2.06.94-2.06 2.06-.94-2.06-.94-.94-2.06-.94 2.06-2.06.94zm-11 1L8.5 8.5l.94-2.06 2.06-.94-2.06-.94L8.5 2.5l-.94 2.06-2.06.94zm10 10l.94 2.06.94-2.06 2.06-.94-2.06-.94-.94-2.06-.94 2.06-2.06.94z\"/><path d=\"M17.41 7.96l-1.37-1.37c-.4-.4-.92-.59-1.43-.59-.52 0-1.04.2-1.43.59L10.3 9.45l-7.72 7.72c-.78.78-.78 2.05 0 2.83L4 21.41c.39.39.9.59 1.41.59.51 0 1.02-.2 1.41-.59l7.78-7.78 2.81-2.81c.8-.78.8-2.07 0-2.86zM5.41 20L4 18.59l7.72-7.72 1.47 1.35L5.41 20z\"/>\n",
              "  </svg>\n",
              "      </button>\n",
              "      \n",
              "  <style>\n",
              "    .colab-df-container {\n",
              "      display:flex;\n",
              "      flex-wrap:wrap;\n",
              "      gap: 12px;\n",
              "    }\n",
              "\n",
              "    .colab-df-convert {\n",
              "      background-color: #E8F0FE;\n",
              "      border: none;\n",
              "      border-radius: 50%;\n",
              "      cursor: pointer;\n",
              "      display: none;\n",
              "      fill: #1967D2;\n",
              "      height: 32px;\n",
              "      padding: 0 0 0 0;\n",
              "      width: 32px;\n",
              "    }\n",
              "\n",
              "    .colab-df-convert:hover {\n",
              "      background-color: #E2EBFA;\n",
              "      box-shadow: 0px 1px 2px rgba(60, 64, 67, 0.3), 0px 1px 3px 1px rgba(60, 64, 67, 0.15);\n",
              "      fill: #174EA6;\n",
              "    }\n",
              "\n",
              "    [theme=dark] .colab-df-convert {\n",
              "      background-color: #3B4455;\n",
              "      fill: #D2E3FC;\n",
              "    }\n",
              "\n",
              "    [theme=dark] .colab-df-convert:hover {\n",
              "      background-color: #434B5C;\n",
              "      box-shadow: 0px 1px 3px 1px rgba(0, 0, 0, 0.15);\n",
              "      filter: drop-shadow(0px 1px 2px rgba(0, 0, 0, 0.3));\n",
              "      fill: #FFFFFF;\n",
              "    }\n",
              "  </style>\n",
              "\n",
              "      <script>\n",
              "        const buttonEl =\n",
              "          document.querySelector('#df-980be6b9-f160-471d-91d5-3aecdb8132e6 button.colab-df-convert');\n",
              "        buttonEl.style.display =\n",
              "          google.colab.kernel.accessAllowed ? 'block' : 'none';\n",
              "\n",
              "        async function convertToInteractive(key) {\n",
              "          const element = document.querySelector('#df-980be6b9-f160-471d-91d5-3aecdb8132e6');\n",
              "          const dataTable =\n",
              "            await google.colab.kernel.invokeFunction('convertToInteractive',\n",
              "                                                     [key], {});\n",
              "          if (!dataTable) return;\n",
              "\n",
              "          const docLinkHtml = 'Like what you see? Visit the ' +\n",
              "            '<a target=\"_blank\" href=https://colab.research.google.com/notebooks/data_table.ipynb>data table notebook</a>'\n",
              "            + ' to learn more about interactive tables.';\n",
              "          element.innerHTML = '';\n",
              "          dataTable['output_type'] = 'display_data';\n",
              "          await google.colab.output.renderOutput(dataTable, element);\n",
              "          const docLink = document.createElement('div');\n",
              "          docLink.innerHTML = docLinkHtml;\n",
              "          element.appendChild(docLink);\n",
              "        }\n",
              "      </script>\n",
              "    </div>\n",
              "  </div>\n",
              "  "
            ]
          },
          "metadata": {},
          "execution_count": 12
        }
      ],
      "source": [
        "from typing import Tuple, Union\n",
        "\n",
        "def scale_values_getter(value: pd.Series) -> Tuple[np.dtype, int, Union[int, str], Union[int, str], list]:\n",
        "\n",
        "    uniq_values = sorted(value.dropna().unique())\n",
        "    shape_value = len(uniq_values)\n",
        "    min_value = pd.Series(uniq_values).dropna().min()\n",
        "    max_value = pd.Series(uniq_values).dropna().max()\n",
        "    \n",
        "    if value.dtype == object:\n",
        "        min_value, max_value = \"-\"*2\n",
        "\n",
        "    return value.dtype, shape_value, min_value, max_value, uniq_values\n",
        "\n",
        "res = df.apply(scale_values_getter).transpose()\n",
        "res.columns = [\"type\",\"shape\",\"min_value\", \"max_value\", \"uniq_values\"]\n",
        "res"
      ]
    },
    {
      "cell_type": "markdown",
      "id": "8177663d",
      "metadata": {
        "id": "8177663d"
      },
      "source": [
        "3.\tПоработайте с типами переменных. Все числовые значения переведите в формат int."
      ]
    },
    {
      "cell_type": "markdown",
      "id": "55acae4a",
      "metadata": {
        "id": "55acae4a"
      },
      "source": [
        "Все числовые значения уже переведены в формат int"
      ]
    },
    {
      "cell_type": "markdown",
      "id": "011ccd22",
      "metadata": {
        "id": "011ccd22"
      },
      "source": [
        "4.\tПоработайте со столбцом price. Постройте гистограмму, найдите выбросы (ящиковая диаграмма), удалите аномальные значения, постарайтесь привести к нормальному распределению."
      ]
    },
    {
      "cell_type": "code",
      "execution_count": 13,
      "id": "091ca61b",
      "metadata": {
        "colab": {
          "base_uri": "https://localhost:8080/",
          "height": 296
        },
        "id": "091ca61b",
        "outputId": "6f07bccb-025d-473c-c514-910e436864ba"
      },
      "outputs": [
        {
          "output_type": "execute_result",
          "data": {
            "text/plain": [
              "<matplotlib.axes._subplots.AxesSubplot at 0x7f7e24885520>"
            ]
          },
          "metadata": {},
          "execution_count": 13
        },
        {
          "output_type": "display_data",
          "data": {
            "text/plain": [
              "<Figure size 432x288 with 1 Axes>"
            ],
            "image/png": "[encoded data removed]"
          },
          "metadata": {
            "needs_background": "light"
          }
        }
      ],
      "source": [
        "df[\"price\"].hist()"
      ]
    },
    {
      "cell_type": "markdown",
      "id": "8004ef67",
      "metadata": {
        "id": "8004ef67"
      },
      "source": [
        "Все значения оч сильно смещены влево т.к. много выбросов"
      ]
    },
    {
      "cell_type": "code",
      "execution_count": 14,
      "id": "6621e520",
      "metadata": {
        "colab": {
          "base_uri": "https://localhost:8080/",
          "height": 294
        },
        "id": "6621e520",
        "outputId": "61b01489-fb85-455d-96af-b0e2ee78ed92"
      },
      "outputs": [
        {
          "output_type": "execute_result",
          "data": {
            "text/plain": [
              "<matplotlib.axes._subplots.AxesSubplot at 0x7f7e247ca700>"
            ]
          },
          "metadata": {},
          "execution_count": 14
        },
        {
          "output_type": "display_data",
          "data": {
            "text/plain": [
              "<Figure size 432x288 with 1 Axes>"
            ],
            "image/png": "[encoded data removed]"
          },
          "metadata": {
            "needs_background": "light"
          }
        }
      ],
      "source": [
        "df[\"price\"].plot.box()"
      ]
    },
    {
      "cell_type": "code",
      "execution_count": 15,
      "id": "c6548214",
      "metadata": {
        "colab": {
          "base_uri": "https://localhost:8080/"
        },
        "id": "c6548214",
        "outputId": "1af0fcec-0cb2-4bd2-c673-3da24341b5b3"
      },
      "outputs": [
        {
          "output_type": "execute_result",
          "data": {
            "text/plain": [
              "0"
            ]
          },
          "metadata": {},
          "execution_count": 15
        }
      ],
      "source": [
        "df[\"price\"].isna().sum()"
      ]
    },
    {
      "cell_type": "markdown",
      "id": "0aa28ac4",
      "metadata": {
        "id": "0aa28ac4"
      },
      "source": [
        "Убираем выбросы"
      ]
    },
    {
      "cell_type": "code",
      "execution_count": 16,
      "id": "44ecf3e0",
      "metadata": {
        "id": "44ecf3e0"
      },
      "outputs": [],
      "source": [
        "for x in [\"price\"]:\n",
        "    q75,q25 = np.percentile(df.loc[:,x],[75,25])\n",
        "    intr_qr = q75-q25\n",
        "\n",
        "    max = q75+(1.5*intr_qr)\n",
        "    min = q25-(1.5*intr_qr)\n",
        "\n",
        "    df.loc[df[x] < min,x] = np.nan\n",
        "    df.loc[df[x] > max,x] = np.nan"
      ]
    },
    {
      "cell_type": "code",
      "execution_count": 17,
      "id": "a4d6736b",
      "metadata": {
        "scrolled": true,
        "colab": {
          "base_uri": "https://localhost:8080/",
          "height": 283
        },
        "id": "a4d6736b",
        "outputId": "8715c673-3510-494f-b234-feef04a856cc"
      },
      "outputs": [
        {
          "output_type": "execute_result",
          "data": {
            "text/plain": [
              "<matplotlib.axes._subplots.AxesSubplot at 0x7f7e24b45ca0>"
            ]
          },
          "metadata": {},
          "execution_count": 17
        },
        {
          "output_type": "display_data",
          "data": {
            "text/plain": [
              "<Figure size 432x288 with 1 Axes>"
            ],
            "image/png": "[encoded data removed]"
          },
          "metadata": {
            "needs_background": "light"
          }
        }
      ],
      "source": [
        "df[\"price\"].plot.box()"
      ]
    },
    {
      "cell_type": "code",
      "execution_count": 18,
      "id": "534eb8df",
      "metadata": {
        "scrolled": true,
        "colab": {
          "base_uri": "https://localhost:8080/",
          "height": 283
        },
        "id": "534eb8df",
        "outputId": "22f5bc23-9dd7-4db8-f4f4-53495919245e"
      },
      "outputs": [
        {
          "output_type": "execute_result",
          "data": {
            "text/plain": [
              "<matplotlib.axes._subplots.AxesSubplot at 0x7f7e25103dc0>"
            ]
          },
          "metadata": {},
          "execution_count": 18
        },
        {
          "output_type": "display_data",
          "data": {
            "text/plain": [
              "<Figure size 432x288 with 1 Axes>"
            ],
            "image/png": "[encoded data removed]"
          },
          "metadata": {
            "needs_background": "light"
          }
        }
      ],
      "source": [
        "df[\"price\"].hist()"
      ]
    },
    {
      "cell_type": "markdown",
      "id": "cfc841d0",
      "metadata": {
        "id": "cfc841d0"
      },
      "source": [
        "Нормализация с помощью log"
      ]
    },
    {
      "cell_type": "code",
      "execution_count": 19,
      "id": "3104a66e",
      "metadata": {
        "colab": {
          "base_uri": "https://localhost:8080/",
          "height": 283
        },
        "id": "3104a66e",
        "outputId": "bc27011f-8e6a-4d31-bcaa-8615c8e41f1c"
      },
      "outputs": [
        {
          "output_type": "execute_result",
          "data": {
            "text/plain": [
              "<matplotlib.axes._subplots.AxesSubplot at 0x7f7e24273730>"
            ]
          },
          "metadata": {},
          "execution_count": 19
        },
        {
          "output_type": "display_data",
          "data": {
            "text/plain": [
              "<Figure size 432x288 with 1 Axes>"
            ],
            "image/png": "[encoded data removed]"
          },
          "metadata": {
            "needs_background": "light"
          }
        }
      ],
      "source": [
        "df['price'] = np.log(df['price']+1)\n",
        "df['price'].hist()"
      ]
    },
    {
      "cell_type": "code",
      "execution_count": 20,
      "id": "3d6e9636",
      "metadata": {
        "colab": {
          "base_uri": "https://localhost:8080/"
        },
        "id": "3d6e9636",
        "outputId": "e5abf2c7-712f-4fa2-c146-bedf94d45b8a"
      },
      "outputs": [
        {
          "output_type": "execute_result",
          "data": {
            "text/plain": [
              "3757"
            ]
          },
          "metadata": {},
          "execution_count": 20
        }
      ],
      "source": [
        "df[\"price\"].isna().sum()"
      ]
    },
    {
      "cell_type": "markdown",
      "id": "dc5d642e",
      "metadata": {
        "id": "dc5d642e"
      },
      "source": [
        "5.\tАналогично поработайте и с другими «важными для целевой функции price» параметрами (powerPS, yearOfRegistration, kilometer и т.д). «Важность» докажите через коэффициент корреляции. Сделайте визуализацию."
      ]
    },
    {
      "cell_type": "markdown",
      "id": "78c73a6c",
      "metadata": {
        "id": "78c73a6c"
      },
      "source": [
        "Корреляционная матрица"
      ]
    },
    {
      "cell_type": "code",
      "execution_count": 21,
      "id": "2b0048e7",
      "metadata": {
        "colab": {
          "base_uri": "https://localhost:8080/",
          "height": 238
        },
        "id": "2b0048e7",
        "outputId": "31e9d77e-dc3c-4ad2-9f98-e592ff1776bb"
      },
      "outputs": [
        {
          "output_type": "execute_result",
          "data": {
            "text/plain": [
              "                        price  yearOfRegistration   powerPS  kilometer  \\\n",
              "price                1.000000            0.005603  0.096838  -0.108628   \n",
              "yearOfRegistration   0.005603            1.000000 -0.004394  -0.064188   \n",
              "powerPS              0.096838           -0.004394  1.000000  -0.016447   \n",
              "kilometer           -0.108628           -0.064188 -0.016447   1.000000   \n",
              "monthOfRegistration  0.170537           -0.023152  0.034345   0.001985   \n",
              "postalCode           0.068389           -0.001615  0.017415  -0.024076   \n",
              "\n",
              "                     monthOfRegistration  postalCode  \n",
              "price                           0.170537    0.068389  \n",
              "yearOfRegistration             -0.023152   -0.001615  \n",
              "powerPS                         0.034345    0.017415  \n",
              "kilometer                       0.001985   -0.024076  \n",
              "monthOfRegistration             1.000000    0.019050  \n",
              "postalCode                      0.019050    1.000000  "
            ],
            "text/html": [
              "\n",
              "  <div id=\"df-c86b66db-78c0-4812-85c5-6da800956770\">\n",
              "    <div class=\"colab-df-container\">\n",
              "      <div>\n",
              "<style scoped>\n",
              "    .dataframe tbody tr th:only-of-type {\n",
              "        vertical-align: middle;\n",
              "    }\n",
              "\n",
              "    .dataframe tbody tr th {\n",
              "        vertical-align: top;\n",
              "    }\n",
              "\n",
              "    .dataframe thead th {\n",
              "        text-align: right;\n",
              "    }\n",
              "</style>\n",
              "<table border=\"1\" class=\"dataframe\">\n",
              "  <thead>\n",
              "    <tr style=\"text-align: right;\">\n",
              "      <th></th>\n",
              "      <th>price</th>\n",
              "      <th>yearOfRegistration</th>\n",
              "      <th>powerPS</th>\n",
              "      <th>kilometer</th>\n",
              "      <th>monthOfRegistration</th>\n",
              "      <th>postalCode</th>\n",
              "    </tr>\n",
              "  </thead>\n",
              "  <tbody>\n",
              "    <tr>\n",
              "      <th>price</th>\n",
              "      <td>1.000000</td>\n",
              "      <td>0.005603</td>\n",
              "      <td>0.096838</td>\n",
              "      <td>-0.108628</td>\n",
              "      <td>0.170537</td>\n",
              "      <td>0.068389</td>\n",
              "    </tr>\n",
              "    <tr>\n",
              "      <th>yearOfRegistration</th>\n",
              "      <td>0.005603</td>\n",
              "      <td>1.000000</td>\n",
              "      <td>-0.004394</td>\n",
              "      <td>-0.064188</td>\n",
              "      <td>-0.023152</td>\n",
              "      <td>-0.001615</td>\n",
              "    </tr>\n",
              "    <tr>\n",
              "      <th>powerPS</th>\n",
              "      <td>0.096838</td>\n",
              "      <td>-0.004394</td>\n",
              "      <td>1.000000</td>\n",
              "      <td>-0.016447</td>\n",
              "      <td>0.034345</td>\n",
              "      <td>0.017415</td>\n",
              "    </tr>\n",
              "    <tr>\n",
              "      <th>kilometer</th>\n",
              "      <td>-0.108628</td>\n",
              "      <td>-0.064188</td>\n",
              "      <td>-0.016447</td>\n",
              "      <td>1.000000</td>\n",
              "      <td>0.001985</td>\n",
              "      <td>-0.024076</td>\n",
              "    </tr>\n",
              "    <tr>\n",
              "      <th>monthOfRegistration</th>\n",
              "      <td>0.170537</td>\n",
              "      <td>-0.023152</td>\n",
              "      <td>0.034345</td>\n",
              "      <td>0.001985</td>\n",
              "      <td>1.000000</td>\n",
              "      <td>0.019050</td>\n",
              "    </tr>\n",
              "    <tr>\n",
              "      <th>postalCode</th>\n",
              "      <td>0.068389</td>\n",
              "      <td>-0.001615</td>\n",
              "      <td>0.017415</td>\n",
              "      <td>-0.024076</td>\n",
              "      <td>0.019050</td>\n",
              "      <td>1.000000</td>\n",
              "    </tr>\n",
              "  </tbody>\n",
              "</table>\n",
              "</div>\n",
              "      <button class=\"colab-df-convert\" onclick=\"convertToInteractive('df-c86b66db-78c0-4812-85c5-6da800956770')\"\n",
              "              title=\"Convert this dataframe to an interactive table.\"\n",
              "              style=\"display:none;\">\n",
              "        \n",
              "  <svg xmlns=\"http://www.w3.org/2000/svg\" height=\"24px\"viewBox=\"0 0 24 24\"\n",
              "       width=\"24px\">\n",
              "    <path d=\"M0 0h24v24H0V0z\" fill=\"none\"/>\n",
              "    <path d=\"M18.56 5.44l.94 2.06.94-2.06 2.06-.94-2.06-.94-.94-2.06-.94 2.06-2.06.94zm-11 1L8.5 8.5l.94-2.06 2.06-.94-2.06-.94L8.5 2.5l-.94 2.06-2.06.94zm10 10l.94 2.06.94-2.06 2.06-.94-2.06-.94-.94-2.06-.94 2.06-2.06.94z\"/><path d=\"M17.41 7.96l-1.37-1.37c-.4-.4-.92-.59-1.43-.59-.52 0-1.04.2-1.43.59L10.3 9.45l-7.72 7.72c-.78.78-.78 2.05 0 2.83L4 21.41c.39.39.9.59 1.41.59.51 0 1.02-.2 1.41-.59l7.78-7.78 2.81-2.81c.8-.78.8-2.07 0-2.86zM5.41 20L4 18.59l7.72-7.72 1.47 1.35L5.41 20z\"/>\n",
              "  </svg>\n",
              "      </button>\n",
              "      \n",
              "  <style>\n",
              "    .colab-df-container {\n",
              "      display:flex;\n",
              "      flex-wrap:wrap;\n",
              "      gap: 12px;\n",
              "    }\n",
              "\n",
              "    .colab-df-convert {\n",
              "      background-color: #E8F0FE;\n",
              "      border: none;\n",
              "      border-radius: 50%;\n",
              "      cursor: pointer;\n",
              "      display: none;\n",
              "      fill: #1967D2;\n",
              "      height: 32px;\n",
              "      padding: 0 0 0 0;\n",
              "      width: 32px;\n",
              "    }\n",
              "\n",
              "    .colab-df-convert:hover {\n",
              "      background-color: #E2EBFA;\n",
              "      box-shadow: 0px 1px 2px rgba(60, 64, 67, 0.3), 0px 1px 3px 1px rgba(60, 64, 67, 0.15);\n",
              "      fill: #174EA6;\n",
              "    }\n",
              "\n",
              "    [theme=dark] .colab-df-convert {\n",
              "      background-color: #3B4455;\n",
              "      fill: #D2E3FC;\n",
              "    }\n",
              "\n",
              "    [theme=dark] .colab-df-convert:hover {\n",
              "      background-color: #434B5C;\n",
              "      box-shadow: 0px 1px 3px 1px rgba(0, 0, 0, 0.15);\n",
              "      filter: drop-shadow(0px 1px 2px rgba(0, 0, 0, 0.3));\n",
              "      fill: #FFFFFF;\n",
              "    }\n",
              "  </style>\n",
              "\n",
              "      <script>\n",
              "        const buttonEl =\n",
              "          document.querySelector('#df-c86b66db-78c0-4812-85c5-6da800956770 button.colab-df-convert');\n",
              "        buttonEl.style.display =\n",
              "          google.colab.kernel.accessAllowed ? 'block' : 'none';\n",
              "\n",
              "        async function convertToInteractive(key) {\n",
              "          const element = document.querySelector('#df-c86b66db-78c0-4812-85c5-6da800956770');\n",
              "          const dataTable =\n",
              "            await google.colab.kernel.invokeFunction('convertToInteractive',\n",
              "                                                     [key], {});\n",
              "          if (!dataTable) return;\n",
              "\n",
              "          const docLinkHtml = 'Like what you see? Visit the ' +\n",
              "            '<a target=\"_blank\" href=https://colab.research.google.com/notebooks/data_table.ipynb>data table notebook</a>'\n",
              "            + ' to learn more about interactive tables.';\n",
              "          element.innerHTML = '';\n",
              "          dataTable['output_type'] = 'display_data';\n",
              "          await google.colab.output.renderOutput(dataTable, element);\n",
              "          const docLink = document.createElement('div');\n",
              "          docLink.innerHTML = docLinkHtml;\n",
              "          element.appendChild(docLink);\n",
              "        }\n",
              "      </script>\n",
              "    </div>\n",
              "  </div>\n",
              "  "
            ]
          },
          "metadata": {},
          "execution_count": 21
        }
      ],
      "source": [
        "df.corr()"
      ]
    },
    {
      "cell_type": "code",
      "execution_count": 22,
      "id": "64db80cb",
      "metadata": {
        "colab": {
          "base_uri": "https://localhost:8080/",
          "height": 690
        },
        "id": "64db80cb",
        "outputId": "69ae5dbc-eab0-43b6-f4a7-4caf65a2d7e1"
      },
      "outputs": [
        {
          "output_type": "display_data",
          "data": {
            "text/plain": [
              "<Figure size 792x792 with 2 Axes>"
            ],
            "image/png": "[encoded data removed]"
          },
          "metadata": {
            "needs_background": "light"
          }
        }
      ],
      "source": [
        "ax = sns.heatmap(\n",
        "    df.corr(),\n",
        "    annot=True,\n",
        "    annot_kws={'size': 12},\n",
        "    vmin=-1, vmax=1, center=0,\n",
        "    square=True\n",
        ")\n",
        "ax.figure.set_size_inches(11, 11)"
      ]
    },
    {
      "cell_type": "markdown",
      "id": "b9ec043e",
      "metadata": {
        "id": "b9ec043e"
      },
      "source": [
        "Факторы слабо коррелируют с целевой функцией price"
      ]
    },
    {
      "cell_type": "markdown",
      "id": "19c88485",
      "metadata": {
        "id": "19c88485"
      },
      "source": [
        "6.\tПостройте ящиковые диаграммы зависимости gearbox, fuelType, vehicleType, notRepairedDamage от price. Сделайте выводы. Можно ли убрать значения с малой частотой? Повлияет ли это на дальнейшее исследование?"
      ]
    },
    {
      "cell_type": "code",
      "execution_count": 23,
      "id": "8dec962f",
      "metadata": {
        "colab": {
          "base_uri": "https://localhost:8080/",
          "height": 298
        },
        "id": "8dec962f",
        "outputId": "816e2316-b7ea-490f-a996-a4d80a4928fa"
      },
      "outputs": [
        {
          "output_type": "execute_result",
          "data": {
            "text/plain": [
              "<matplotlib.axes._subplots.AxesSubplot at 0x7f7e218ddf70>"
            ]
          },
          "metadata": {},
          "execution_count": 23
        },
        {
          "output_type": "display_data",
          "data": {
            "text/plain": [
              "<Figure size 432x288 with 1 Axes>"
            ],
            "image/png": "[encoded data removed]"
          },
          "metadata": {
            "needs_background": "light"
          }
        }
      ],
      "source": [
        "sns.boxplot(x=df[\"gearbox\"], y=df[\"price\"])"
      ]
    },
    {
      "cell_type": "markdown",
      "id": "25670aee",
      "metadata": {
        "id": "25670aee"
      },
      "source": [
        "Авто с автоматической коробкой передач дороже"
      ]
    },
    {
      "cell_type": "code",
      "execution_count": 24,
      "id": "6072596c",
      "metadata": {
        "colab": {
          "base_uri": "https://localhost:8080/",
          "height": 298
        },
        "id": "6072596c",
        "outputId": "301cbe9b-da48-492d-9f85-c6afe3ce6fe4"
      },
      "outputs": [
        {
          "output_type": "execute_result",
          "data": {
            "text/plain": [
              "<matplotlib.axes._subplots.AxesSubplot at 0x7f7e2186b2b0>"
            ]
          },
          "metadata": {},
          "execution_count": 24
        },
        {
          "output_type": "display_data",
          "data": {
            "text/plain": [
              "<Figure size 432x288 with 1 Axes>"
            ],
            "image/png": "[encoded data removed]"
          },
          "metadata": {
            "needs_background": "light"
          }
        }
      ],
      "source": [
        "sns.boxplot(x=df[\"fuelType\"], y=df[\"price\"])"
      ]
    },
    {
      "cell_type": "markdown",
      "id": "4af9b1f0",
      "metadata": {
        "id": "4af9b1f0"
      },
      "source": [
        "Гибриды дороже всех остальных, бензин - самый популярный"
      ]
    },
    {
      "cell_type": "code",
      "execution_count": 25,
      "id": "a045f087",
      "metadata": {
        "colab": {
          "base_uri": "https://localhost:8080/",
          "height": 298
        },
        "id": "a045f087",
        "outputId": "fb1ab7b4-c642-427c-99ff-2737eec2c563"
      },
      "outputs": [
        {
          "output_type": "execute_result",
          "data": {
            "text/plain": [
              "<matplotlib.axes._subplots.AxesSubplot at 0x7f7e2173dc40>"
            ]
          },
          "metadata": {},
          "execution_count": 25
        },
        {
          "output_type": "display_data",
          "data": {
            "text/plain": [
              "<Figure size 432x288 with 1 Axes>"
            ],
            "image/png": "[encoded data removed]"
          },
          "metadata": {
            "needs_background": "light"
          }
        }
      ],
      "source": [
        "sns.boxplot(x=df[\"vehicleType\"], y=df[\"price\"])"
      ]
    },
    {
      "cell_type": "markdown",
      "id": "bf381047",
      "metadata": {
        "id": "bf381047"
      },
      "source": [
        "Внедорожники дороже всех"
      ]
    },
    {
      "cell_type": "code",
      "execution_count": 26,
      "id": "378742cf",
      "metadata": {
        "colab": {
          "base_uri": "https://localhost:8080/",
          "height": 298
        },
        "id": "378742cf",
        "outputId": "6da8c0f2-96e9-40ae-b148-65a48e918f6b"
      },
      "outputs": [
        {
          "output_type": "execute_result",
          "data": {
            "text/plain": [
              "<matplotlib.axes._subplots.AxesSubplot at 0x7f7e216a37f0>"
            ]
          },
          "metadata": {},
          "execution_count": 26
        },
        {
          "output_type": "display_data",
          "data": {
            "text/plain": [
              "<Figure size 432x288 with 1 Axes>"
            ],
            "image/png": "[encoded data removed]"
          },
          "metadata": {
            "needs_background": "light"
          }
        }
      ],
      "source": [
        "sns.boxplot(x=df[\"notRepairedDamage\"], y=df[\"price\"])"
      ]
    },
    {
      "cell_type": "markdown",
      "id": "a39b3932",
      "metadata": {
        "id": "a39b3932"
      },
      "source": [
        "Авто, которые невозможно восстановить, стоят меньше"
      ]
    },
    {
      "cell_type": "markdown",
      "id": "345bb8e3",
      "metadata": {
        "id": "345bb8e3"
      },
      "source": [
        "Судя по графикам, у каждого фактора есть выбросы, но они не очень значительные, следовательно, на этом можно остановиться"
      ]
    },
    {
      "cell_type": "markdown",
      "id": "400882ef",
      "metadata": {
        "id": "400882ef"
      },
      "source": [
        "7.\tНайдите пропуски. Удалите столбцы, которые содержат большое количество пропусков. В остальных случаях постарайтесь восстановить пропущенные значения."
      ]
    },
    {
      "cell_type": "code",
      "execution_count": 27,
      "id": "22a84dcd",
      "metadata": {
        "colab": {
          "base_uri": "https://localhost:8080/"
        },
        "id": "22a84dcd",
        "outputId": "218afe40-96c1-400e-d397-588f86025b2a"
      },
      "outputs": [
        {
          "output_type": "execute_result",
          "data": {
            "text/plain": [
              "(50001, 19)"
            ]
          },
          "metadata": {},
          "execution_count": 27
        }
      ],
      "source": [
        "df.shape"
      ]
    },
    {
      "cell_type": "code",
      "execution_count": 28,
      "id": "f8abff73",
      "metadata": {
        "scrolled": true,
        "colab": {
          "base_uri": "https://localhost:8080/"
        },
        "id": "f8abff73",
        "outputId": "e73a6020-01d8-4ef7-de5c-6c2e99a36a88"
      },
      "outputs": [
        {
          "output_type": "execute_result",
          "data": {
            "text/plain": [
              "price                3757\n",
              "vehicleType          5188\n",
              "gearbox              2824\n",
              "model                2758\n",
              "fuelType             4503\n",
              "notRepairedDamage    9716\n",
              "dtype: int64"
            ]
          },
          "metadata": {},
          "execution_count": 28
        }
      ],
      "source": [
        "nan_series = df.isna().sum()\n",
        "nan_series[nan_series > 0]"
      ]
    },
    {
      "cell_type": "markdown",
      "id": "2fa01457",
      "metadata": {
        "id": "2fa01457"
      },
      "source": [
        "Удаляем notRepairedDamage т.к. пропущенных значений слишком много относительно других"
      ]
    },
    {
      "cell_type": "code",
      "execution_count": 29,
      "id": "636b4574",
      "metadata": {
        "id": "636b4574"
      },
      "outputs": [],
      "source": [
        "df = df.dropna(subset=[\"notRepairedDamage\"])"
      ]
    },
    {
      "cell_type": "code",
      "execution_count": 30,
      "id": "1dbbd93d",
      "metadata": {
        "id": "1dbbd93d"
      },
      "outputs": [],
      "source": [
        "assert df[\"notRepairedDamage\"].isna().sum() == 0"
      ]
    },
    {
      "cell_type": "markdown",
      "id": "5c58c630",
      "metadata": {
        "id": "5c58c630"
      },
      "source": [
        "Исследуем остальные пропущенные значения. Все пропущенные значение - категориальные, значит у нас есть два пути: удаление и установка по медиане"
      ]
    },
    {
      "cell_type": "code",
      "execution_count": 31,
      "id": "b4473243",
      "metadata": {
        "colab": {
          "base_uri": "https://localhost:8080/",
          "height": 1000
        },
        "id": "b4473243",
        "outputId": "df7c32f2-5a76-4824-f0ba-803c4eb827e6"
      },
      "outputs": [
        {
          "output_type": "display_data",
          "data": {
            "text/plain": [
              "<Figure size 432x288 with 1 Axes>"
            ],
            "image/png": "[encoded data removed]"
          },
          "metadata": {
            "needs_background": "light"
          }
        },
        {
          "output_type": "display_data",
          "data": {
            "text/plain": [
              "<Figure size 432x288 with 1 Axes>"
            ],
            "image/png": "[encoded data removed]"
          },
          "metadata": {
            "needs_background": "light"
          }
        },
        {
          "output_type": "display_data",
          "data": {
            "text/plain": [
              "<Figure size 432x288 with 1 Axes>"
            ],
            "image/png": "[encoded data removed]"
          },
          "metadata": {
            "needs_background": "light"
          }
        },
        {
          "output_type": "display_data",
          "data": {
            "text/plain": [
              "<Figure size 432x288 with 1 Axes>"
            ],
            "image/png": "[encoded data removed]"
          },
          "metadata": {
            "needs_background": "light"
          }
        },
        {
          "output_type": "display_data",
          "data": {
            "text/plain": [
              "<Figure size 432x288 with 1 Axes>"
            ],
            "image/png": "[encoded data removed]"
          },
          "metadata": {
            "needs_background": "light"
          }
        },
        {
          "output_type": "display_data",
          "data": {
            "text/plain": [
              "<Figure size 432x288 with 1 Axes>"
            ],
            "image/png": "[encoded data removed]"
          },
          "metadata": {
            "needs_background": "light"
          }
        }
      ],
      "source": [
        "for column in nan_series[nan_series > 0].to_dict().keys():\n",
        "    sns.countplot(df[column])\n",
        "    plt.show()"
      ]
    },
    {
      "cell_type": "markdown",
      "id": "4641e6e1",
      "metadata": {
        "id": "4641e6e1"
      },
      "source": [
        "Для всех презнаков, кроме model, поставим моду. Выкидываем модели, которые не указаны"
      ]
    },
    {
      "cell_type": "code",
      "execution_count": 33,
      "id": "5efa1a82",
      "metadata": {
        "colab": {
          "base_uri": "https://localhost:8080/"
        },
        "id": "5efa1a82",
        "outputId": "14415062-ddf9-4463-e6df-3ec33f9ac172"
      },
      "outputs": [
        {
          "output_type": "execute_result",
          "data": {
            "text/plain": [
              "Index(['dateCrawled', 'name', 'seller', 'offerType', 'price', 'abtest',\n",
              "       'vehicleType', 'yearOfRegistration', 'gearbox', 'powerPS', 'model',\n",
              "       'kilometer', 'monthOfRegistration', 'fuelType', 'brand',\n",
              "       'notRepairedDamage', 'dateCreated', 'postalCode', 'lastSeen'],\n",
              "      dtype='object')"
            ]
          },
          "metadata": {},
          "execution_count": 33
        }
      ],
      "source": [
        "df.columns"
      ]
    },
    {
      "cell_type": "code",
      "execution_count": 34,
      "id": "aaea933e",
      "metadata": {
        "colab": {
          "base_uri": "https://localhost:8080/"
        },
        "id": "aaea933e",
        "outputId": "33d73cc8-435c-4bac-cc7c-f6ac09c737d2"
      },
      "outputs": [
        {
          "output_type": "stream",
          "name": "stderr",
          "text": [
            "<ipython-input-34-0328faa84e80>:3: SettingWithCopyWarning: \n",
            "A value is trying to be set on a copy of a slice from a DataFrame.\n",
            "Try using .loc[row_indexer,col_indexer] = value instead\n",
            "\n",
            "See the caveats in the documentation: https://pandas.pydata.org/pandas-docs/stable/user_guide/indexing.html#returning-a-view-versus-a-copy\n",
            "  df[column] = df[column].fillna(df[column].value_counts().index[0])\n"
          ]
        }
      ],
      "source": [
        "# Выставляем моду\n",
        "for column in [\"fuelType\", \"gearbox\", \"vehicleType\"]:\n",
        "    df[column] = df[column].fillna(df[column].value_counts().index[0])"
      ]
    },
    {
      "cell_type": "code",
      "execution_count": 35,
      "id": "bcccc454",
      "metadata": {
        "colab": {
          "base_uri": "https://localhost:8080/"
        },
        "id": "bcccc454",
        "outputId": "6db4e13b-de64-4eb6-aba9-d9014d76bb63"
      },
      "outputs": [
        {
          "output_type": "execute_result",
          "data": {
            "text/plain": [
              "price    3548\n",
              "model    1519\n",
              "dtype: int64"
            ]
          },
          "metadata": {},
          "execution_count": 35
        }
      ],
      "source": [
        "nan_series = df.isna().sum()\n",
        "nan_series[nan_series >0]"
      ]
    },
    {
      "cell_type": "markdown",
      "id": "528f7352",
      "metadata": {
        "id": "528f7352"
      },
      "source": [
        "price и model удаляем из выборки"
      ]
    },
    {
      "cell_type": "code",
      "execution_count": 36,
      "id": "d9d906c6",
      "metadata": {
        "colab": {
          "base_uri": "https://localhost:8080/"
        },
        "id": "d9d906c6",
        "outputId": "0320be50-9bfe-4865-c9c7-1a8879d47839"
      },
      "outputs": [
        {
          "output_type": "execute_result",
          "data": {
            "text/plain": [
              "(35348, 19)"
            ]
          },
          "metadata": {},
          "execution_count": 36
        }
      ],
      "source": [
        "df = df.dropna()\n",
        "df.shape"
      ]
    },
    {
      "cell_type": "markdown",
      "id": "c1225db4",
      "metadata": {
        "id": "c1225db4"
      },
      "source": [
        "8.\tСохраните полученный датасет и выведете его."
      ]
    },
    {
      "cell_type": "code",
      "execution_count": 37,
      "id": "23c5f2e9",
      "metadata": {
        "colab": {
          "base_uri": "https://localhost:8080/",
          "height": 444
        },
        "id": "23c5f2e9",
        "outputId": "e38c378c-fe6b-4805-d86c-285ac4bcc90b"
      },
      "outputs": [
        {
          "output_type": "execute_result",
          "data": {
            "text/plain": [
              "          dateCrawled                                               name  \\\n",
              "1 2016-07-03 09:54:00                             Volvo_XC90_2.4D_Summum   \n",
              "3 2016-03-19 17:50:00                       Seat_Ibiza_1.4_16V_Reference   \n",
              "5 2016-02-04 12:51:00           VW_Passat_35i_Facelift_Limousine_TÜV_Neu   \n",
              "7 2016-03-24 15:52:00                        Mercedes_Benz_CLK_Coupe_200   \n",
              "8 2016-03-28 14:40:00  Vectra_C_Caravan_1_8_Edition_Facelift_m_AHK_In...   \n",
              "\n",
              "    seller offerType     price   abtest    vehicleType  yearOfRegistration  \\\n",
              "1  private     offer  9.495519  control            suv                2005   \n",
              "3  private     offer  8.412055  control      small car                2006   \n",
              "5  private     offer  6.896694     test      limousine                1995   \n",
              "7  private     offer  7.244228     test          coupe                1997   \n",
              "8  private     offer  8.451267     test  station wagon                2005   \n",
              "\n",
              "  gearbox  powerPS     model  kilometer  monthOfRegistration fuelType  \\\n",
              "1  manual      163  xc_reihe     150000                    6   diesel   \n",
              "3  manual       86     ibiza      60000                   12   petrol   \n",
              "5  manual       90    passat     150000                    2   petrol   \n",
              "7  manual      136       clk     150000                   11   petrol   \n",
              "8  manual      122    vectra     150000                   12   petrol   \n",
              "\n",
              "           brand notRepairedDamage dateCreated  postalCode            lastSeen  \n",
              "1          volvo                no  2016-07-03       88045 2016-03-26 13:17:00  \n",
              "3           seat                no  2016-03-19       34537 2016-07-04 04:44:00  \n",
              "5     volkswagen                no  2016-02-04       26826 2016-02-04 12:51:00  \n",
              "7  mercedes_benz                no  2016-03-24       13353 2016-03-27 12:45:00  \n",
              "8           opel                no  2016-03-28       28307 2016-06-04 18:19:00  "
            ],
            "text/html": [
              "\n",
              "  <div id=\"df-153a3acd-cb96-416e-a40b-fc1c5544f0e0\">\n",
              "    <div class=\"colab-df-container\">\n",
              "      <div>\n",
              "<style scoped>\n",
              "    .dataframe tbody tr th:only-of-type {\n",
              "        vertical-align: middle;\n",
              "    }\n",
              "\n",
              "    .dataframe tbody tr th {\n",
              "        vertical-align: top;\n",
              "    }\n",
              "\n",
              "    .dataframe thead th {\n",
              "        text-align: right;\n",
              "    }\n",
              "</style>\n",
              "<table border=\"1\" class=\"dataframe\">\n",
              "  <thead>\n",
              "    <tr style=\"text-align: right;\">\n",
              "      <th></th>\n",
              "      <th>dateCrawled</th>\n",
              "      <th>name</th>\n",
              "      <th>seller</th>\n",
              "      <th>offerType</th>\n",
              "      <th>price</th>\n",
              "      <th>abtest</th>\n",
              "      <th>vehicleType</th>\n",
              "      <th>yearOfRegistration</th>\n",
              "      <th>gearbox</th>\n",
              "      <th>powerPS</th>\n",
              "      <th>model</th>\n",
              "      <th>kilometer</th>\n",
              "      <th>monthOfRegistration</th>\n",
              "      <th>fuelType</th>\n",
              "      <th>brand</th>\n",
              "      <th>notRepairedDamage</th>\n",
              "      <th>dateCreated</th>\n",
              "      <th>postalCode</th>\n",
              "      <th>lastSeen</th>\n",
              "    </tr>\n",
              "  </thead>\n",
              "  <tbody>\n",
              "    <tr>\n",
              "      <th>1</th>\n",
              "      <td>2016-07-03 09:54:00</td>\n",
              "      <td>Volvo_XC90_2.4D_Summum</td>\n",
              "      <td>private</td>\n",
              "      <td>offer</td>\n",
              "      <td>9.495519</td>\n",
              "      <td>control</td>\n",
              "      <td>suv</td>\n",
              "      <td>2005</td>\n",
              "      <td>manual</td>\n",
              "      <td>163</td>\n",
              "      <td>xc_reihe</td>\n",
              "      <td>150000</td>\n",
              "      <td>6</td>\n",
              "      <td>diesel</td>\n",
              "      <td>volvo</td>\n",
              "      <td>no</td>\n",
              "      <td>2016-07-03</td>\n",
              "      <td>88045</td>\n",
              "      <td>2016-03-26 13:17:00</td>\n",
              "    </tr>\n",
              "    <tr>\n",
              "      <th>3</th>\n",
              "      <td>2016-03-19 17:50:00</td>\n",
              "      <td>Seat_Ibiza_1.4_16V_Reference</td>\n",
              "      <td>private</td>\n",
              "      <td>offer</td>\n",
              "      <td>8.412055</td>\n",
              "      <td>control</td>\n",
              "      <td>small car</td>\n",
              "      <td>2006</td>\n",
              "      <td>manual</td>\n",
              "      <td>86</td>\n",
              "      <td>ibiza</td>\n",
              "      <td>60000</td>\n",
              "      <td>12</td>\n",
              "      <td>petrol</td>\n",
              "      <td>seat</td>\n",
              "      <td>no</td>\n",
              "      <td>2016-03-19</td>\n",
              "      <td>34537</td>\n",
              "      <td>2016-07-04 04:44:00</td>\n",
              "    </tr>\n",
              "    <tr>\n",
              "      <th>5</th>\n",
              "      <td>2016-02-04 12:51:00</td>\n",
              "      <td>VW_Passat_35i_Facelift_Limousine_TÜV_Neu</td>\n",
              "      <td>private</td>\n",
              "      <td>offer</td>\n",
              "      <td>6.896694</td>\n",
              "      <td>test</td>\n",
              "      <td>limousine</td>\n",
              "      <td>1995</td>\n",
              "      <td>manual</td>\n",
              "      <td>90</td>\n",
              "      <td>passat</td>\n",
              "      <td>150000</td>\n",
              "      <td>2</td>\n",
              "      <td>petrol</td>\n",
              "      <td>volkswagen</td>\n",
              "      <td>no</td>\n",
              "      <td>2016-02-04</td>\n",
              "      <td>26826</td>\n",
              "      <td>2016-02-04 12:51:00</td>\n",
              "    </tr>\n",
              "    <tr>\n",
              "      <th>7</th>\n",
              "      <td>2016-03-24 15:52:00</td>\n",
              "      <td>Mercedes_Benz_CLK_Coupe_200</td>\n",
              "      <td>private</td>\n",
              "      <td>offer</td>\n",
              "      <td>7.244228</td>\n",
              "      <td>test</td>\n",
              "      <td>coupe</td>\n",
              "      <td>1997</td>\n",
              "      <td>manual</td>\n",
              "      <td>136</td>\n",
              "      <td>clk</td>\n",
              "      <td>150000</td>\n",
              "      <td>11</td>\n",
              "      <td>petrol</td>\n",
              "      <td>mercedes_benz</td>\n",
              "      <td>no</td>\n",
              "      <td>2016-03-24</td>\n",
              "      <td>13353</td>\n",
              "      <td>2016-03-27 12:45:00</td>\n",
              "    </tr>\n",
              "    <tr>\n",
              "      <th>8</th>\n",
              "      <td>2016-03-28 14:40:00</td>\n",
              "      <td>Vectra_C_Caravan_1_8_Edition_Facelift_m_AHK_In...</td>\n",
              "      <td>private</td>\n",
              "      <td>offer</td>\n",
              "      <td>8.451267</td>\n",
              "      <td>test</td>\n",
              "      <td>station wagon</td>\n",
              "      <td>2005</td>\n",
              "      <td>manual</td>\n",
              "      <td>122</td>\n",
              "      <td>vectra</td>\n",
              "      <td>150000</td>\n",
              "      <td>12</td>\n",
              "      <td>petrol</td>\n",
              "      <td>opel</td>\n",
              "      <td>no</td>\n",
              "      <td>2016-03-28</td>\n",
              "      <td>28307</td>\n",
              "      <td>2016-06-04 18:19:00</td>\n",
              "    </tr>\n",
              "  </tbody>\n",
              "</table>\n",
              "</div>\n",
              "      <button class=\"colab-df-convert\" onclick=\"convertToInteractive('df-153a3acd-cb96-416e-a40b-fc1c5544f0e0')\"\n",
              "              title=\"Convert this dataframe to an interactive table.\"\n",
              "              style=\"display:none;\">\n",
              "        \n",
              "  <svg xmlns=\"http://www.w3.org/2000/svg\" height=\"24px\"viewBox=\"0 0 24 24\"\n",
              "       width=\"24px\">\n",
              "    <path d=\"M0 0h24v24H0V0z\" fill=\"none\"/>\n",
              "    <path d=\"M18.56 5.44l.94 2.06.94-2.06 2.06-.94-2.06-.94-.94-2.06-.94 2.06-2.06.94zm-11 1L8.5 8.5l.94-2.06 2.06-.94-2.06-.94L8.5 2.5l-.94 2.06-2.06.94zm10 10l.94 2.06.94-2.06 2.06-.94-2.06-.94-.94-2.06-.94 2.06-2.06.94z\"/><path d=\"M17.41 7.96l-1.37-1.37c-.4-.4-.92-.59-1.43-.59-.52 0-1.04.2-1.43.59L10.3 9.45l-7.72 7.72c-.78.78-.78 2.05 0 2.83L4 21.41c.39.39.9.59 1.41.59.51 0 1.02-.2 1.41-.59l7.78-7.78 2.81-2.81c.8-.78.8-2.07 0-2.86zM5.41 20L4 18.59l7.72-7.72 1.47 1.35L5.41 20z\"/>\n",
              "  </svg>\n",
              "      </button>\n",
              "      \n",
              "  <style>\n",
              "    .colab-df-container {\n",
              "      display:flex;\n",
              "      flex-wrap:wrap;\n",
              "      gap: 12px;\n",
              "    }\n",
              "\n",
              "    .colab-df-convert {\n",
              "      background-color: #E8F0FE;\n",
              "      border: none;\n",
              "      border-radius: 50%;\n",
              "      cursor: pointer;\n",
              "      display: none;\n",
              "      fill: #1967D2;\n",
              "      height: 32px;\n",
              "      padding: 0 0 0 0;\n",
              "      width: 32px;\n",
              "    }\n",
              "\n",
              "    .colab-df-convert:hover {\n",
              "      background-color: #E2EBFA;\n",
              "      box-shadow: 0px 1px 2px rgba(60, 64, 67, 0.3), 0px 1px 3px 1px rgba(60, 64, 67, 0.15);\n",
              "      fill: #174EA6;\n",
              "    }\n",
              "\n",
              "    [theme=dark] .colab-df-convert {\n",
              "      background-color: #3B4455;\n",
              "      fill: #D2E3FC;\n",
              "    }\n",
              "\n",
              "    [theme=dark] .colab-df-convert:hover {\n",
              "      background-color: #434B5C;\n",
              "      box-shadow: 0px 1px 3px 1px rgba(0, 0, 0, 0.15);\n",
              "      filter: drop-shadow(0px 1px 2px rgba(0, 0, 0, 0.3));\n",
              "      fill: #FFFFFF;\n",
              "    }\n",
              "  </style>\n",
              "\n",
              "      <script>\n",
              "        const buttonEl =\n",
              "          document.querySelector('#df-153a3acd-cb96-416e-a40b-fc1c5544f0e0 button.colab-df-convert');\n",
              "        buttonEl.style.display =\n",
              "          google.colab.kernel.accessAllowed ? 'block' : 'none';\n",
              "\n",
              "        async function convertToInteractive(key) {\n",
              "          const element = document.querySelector('#df-153a3acd-cb96-416e-a40b-fc1c5544f0e0');\n",
              "          const dataTable =\n",
              "            await google.colab.kernel.invokeFunction('convertToInteractive',\n",
              "                                                     [key], {});\n",
              "          if (!dataTable) return;\n",
              "\n",
              "          const docLinkHtml = 'Like what you see? Visit the ' +\n",
              "            '<a target=\"_blank\" href=https://colab.research.google.com/notebooks/data_table.ipynb>data table notebook</a>'\n",
              "            + ' to learn more about interactive tables.';\n",
              "          element.innerHTML = '';\n",
              "          dataTable['output_type'] = 'display_data';\n",
              "          await google.colab.output.renderOutput(dataTable, element);\n",
              "          const docLink = document.createElement('div');\n",
              "          docLink.innerHTML = docLinkHtml;\n",
              "          element.appendChild(docLink);\n",
              "        }\n",
              "      </script>\n",
              "    </div>\n",
              "  </div>\n",
              "  "
            ]
          },
          "metadata": {},
          "execution_count": 37
        }
      ],
      "source": [
        "df.head()"
      ]
    },
    {
      "cell_type": "code",
      "execution_count": 38,
      "id": "9874594b",
      "metadata": {
        "colab": {
          "base_uri": "https://localhost:8080/"
        },
        "id": "9874594b",
        "outputId": "b9af4da4-0e02-48c8-dd59-473cef224fb8"
      },
      "outputs": [
        {
          "output_type": "stream",
          "name": "stdout",
          "text": [
            "<class 'pandas.core.frame.DataFrame'>\n",
            "Int64Index: 35348 entries, 1 to 50000\n",
            "Data columns (total 19 columns):\n",
            " #   Column               Non-Null Count  Dtype         \n",
            "---  ------               --------------  -----         \n",
            " 0   dateCrawled          35348 non-null  datetime64[ns]\n",
            " 1   name                 35348 non-null  object        \n",
            " 2   seller               35348 non-null  object        \n",
            " 3   offerType            35348 non-null  object        \n",
            " 4   price                35348 non-null  float64       \n",
            " 5   abtest               35348 non-null  object        \n",
            " 6   vehicleType          35348 non-null  object        \n",
            " 7   yearOfRegistration   35348 non-null  int64         \n",
            " 8   gearbox              35348 non-null  object        \n",
            " 9   powerPS              35348 non-null  int64         \n",
            " 10  model                35348 non-null  object        \n",
            " 11  kilometer            35348 non-null  int64         \n",
            " 12  monthOfRegistration  35348 non-null  int64         \n",
            " 13  fuelType             35348 non-null  object        \n",
            " 14  brand                35348 non-null  object        \n",
            " 15  notRepairedDamage    35348 non-null  object        \n",
            " 16  dateCreated          35348 non-null  datetime64[ns]\n",
            " 17  postalCode           35348 non-null  int64         \n",
            " 18  lastSeen             35348 non-null  datetime64[ns]\n",
            "dtypes: datetime64[ns](3), float64(1), int64(5), object(10)\n",
            "memory usage: 5.4+ MB\n"
          ]
        }
      ],
      "source": [
        "df.info()"
      ]
    },
    {
      "cell_type": "code",
      "execution_count": 39,
      "id": "43c08b5a",
      "metadata": {
        "colab": {
          "base_uri": "https://localhost:8080/"
        },
        "id": "43c08b5a",
        "outputId": "bbd2b897-b5c2-4a71-f5de-7d7576170d20"
      },
      "outputs": [
        {
          "output_type": "execute_result",
          "data": {
            "text/plain": [
              "dateCrawled            0\n",
              "name                   0\n",
              "seller                 0\n",
              "offerType              0\n",
              "price                  0\n",
              "abtest                 0\n",
              "vehicleType            0\n",
              "yearOfRegistration     0\n",
              "gearbox                0\n",
              "powerPS                0\n",
              "model                  0\n",
              "kilometer              0\n",
              "monthOfRegistration    0\n",
              "fuelType               0\n",
              "brand                  0\n",
              "notRepairedDamage      0\n",
              "dateCreated            0\n",
              "postalCode             0\n",
              "lastSeen               0\n",
              "dtype: int64"
            ]
          },
          "metadata": {},
          "execution_count": 39
        }
      ],
      "source": [
        "df.isna().sum()"
      ]
    },
    {
      "cell_type": "code",
      "execution_count": 40,
      "id": "916d6ba2",
      "metadata": {
        "colab": {
          "base_uri": "https://localhost:8080/",
          "height": 300
        },
        "id": "916d6ba2",
        "outputId": "e3a775a9-e503-45ca-9e20-0d5eb0bcef2a"
      },
      "outputs": [
        {
          "output_type": "execute_result",
          "data": {
            "text/plain": [
              "              price  yearOfRegistration       powerPS      kilometer  \\\n",
              "count  35348.000000        35348.000000  35348.000000   35348.000000   \n",
              "mean       7.801996         2003.403502    114.790653  129262.193052   \n",
              "std        1.513854           33.939824    202.245335   35893.868823   \n",
              "min        0.000000         1910.000000      0.000000    5000.000000   \n",
              "25%        7.170888         1999.000000     75.000000  125000.000000   \n",
              "50%        8.006701         2003.000000    107.000000  150000.000000   \n",
              "75%        8.779711         2007.000000    143.000000  150000.000000   \n",
              "max        9.695910         7500.000000  19312.000000  150000.000000   \n",
              "\n",
              "       monthOfRegistration    postalCode  \n",
              "count         35348.000000  35348.000000  \n",
              "mean              6.072989  50975.709432  \n",
              "std               3.544398  25729.256193  \n",
              "min               0.000000   1067.000000  \n",
              "25%               3.000000  30855.000000  \n",
              "50%               6.000000  49759.500000  \n",
              "75%               9.000000  71697.250000  \n",
              "max              12.000000  99998.000000  "
            ],
            "text/html": [
              "\n",
              "  <div id=\"df-993d1b7c-0cc3-4309-b18c-bed9885c4fc2\">\n",
              "    <div class=\"colab-df-container\">\n",
              "      <div>\n",
              "<style scoped>\n",
              "    .dataframe tbody tr th:only-of-type {\n",
              "        vertical-align: middle;\n",
              "    }\n",
              "\n",
              "    .dataframe tbody tr th {\n",
              "        vertical-align: top;\n",
              "    }\n",
              "\n",
              "    .dataframe thead th {\n",
              "        text-align: right;\n",
              "    }\n",
              "</style>\n",
              "<table border=\"1\" class=\"dataframe\">\n",
              "  <thead>\n",
              "    <tr style=\"text-align: right;\">\n",
              "      <th></th>\n",
              "      <th>price</th>\n",
              "      <th>yearOfRegistration</th>\n",
              "      <th>powerPS</th>\n",
              "      <th>kilometer</th>\n",
              "      <th>monthOfRegistration</th>\n",
              "      <th>postalCode</th>\n",
              "    </tr>\n",
              "  </thead>\n",
              "  <tbody>\n",
              "    <tr>\n",
              "      <th>count</th>\n",
              "      <td>35348.000000</td>\n",
              "      <td>35348.000000</td>\n",
              "      <td>35348.000000</td>\n",
              "      <td>35348.000000</td>\n",
              "      <td>35348.000000</td>\n",
              "      <td>35348.000000</td>\n",
              "    </tr>\n",
              "    <tr>\n",
              "      <th>mean</th>\n",
              "      <td>7.801996</td>\n",
              "      <td>2003.403502</td>\n",
              "      <td>114.790653</td>\n",
              "      <td>129262.193052</td>\n",
              "      <td>6.072989</td>\n",
              "      <td>50975.709432</td>\n",
              "    </tr>\n",
              "    <tr>\n",
              "      <th>std</th>\n",
              "      <td>1.513854</td>\n",
              "      <td>33.939824</td>\n",
              "      <td>202.245335</td>\n",
              "      <td>35893.868823</td>\n",
              "      <td>3.544398</td>\n",
              "      <td>25729.256193</td>\n",
              "    </tr>\n",
              "    <tr>\n",
              "      <th>min</th>\n",
              "      <td>0.000000</td>\n",
              "      <td>1910.000000</td>\n",
              "      <td>0.000000</td>\n",
              "      <td>5000.000000</td>\n",
              "      <td>0.000000</td>\n",
              "      <td>1067.000000</td>\n",
              "    </tr>\n",
              "    <tr>\n",
              "      <th>25%</th>\n",
              "      <td>7.170888</td>\n",
              "      <td>1999.000000</td>\n",
              "      <td>75.000000</td>\n",
              "      <td>125000.000000</td>\n",
              "      <td>3.000000</td>\n",
              "      <td>30855.000000</td>\n",
              "    </tr>\n",
              "    <tr>\n",
              "      <th>50%</th>\n",
              "      <td>8.006701</td>\n",
              "      <td>2003.000000</td>\n",
              "      <td>107.000000</td>\n",
              "      <td>150000.000000</td>\n",
              "      <td>6.000000</td>\n",
              "      <td>49759.500000</td>\n",
              "    </tr>\n",
              "    <tr>\n",
              "      <th>75%</th>\n",
              "      <td>8.779711</td>\n",
              "      <td>2007.000000</td>\n",
              "      <td>143.000000</td>\n",
              "      <td>150000.000000</td>\n",
              "      <td>9.000000</td>\n",
              "      <td>71697.250000</td>\n",
              "    </tr>\n",
              "    <tr>\n",
              "      <th>max</th>\n",
              "      <td>9.695910</td>\n",
              "      <td>7500.000000</td>\n",
              "      <td>19312.000000</td>\n",
              "      <td>150000.000000</td>\n",
              "      <td>12.000000</td>\n",
              "      <td>99998.000000</td>\n",
              "    </tr>\n",
              "  </tbody>\n",
              "</table>\n",
              "</div>\n",
              "      <button class=\"colab-df-convert\" onclick=\"convertToInteractive('df-993d1b7c-0cc3-4309-b18c-bed9885c4fc2')\"\n",
              "              title=\"Convert this dataframe to an interactive table.\"\n",
              "              style=\"display:none;\">\n",
              "        \n",
              "  <svg xmlns=\"http://www.w3.org/2000/svg\" height=\"24px\"viewBox=\"0 0 24 24\"\n",
              "       width=\"24px\">\n",
              "    <path d=\"M0 0h24v24H0V0z\" fill=\"none\"/>\n",
              "    <path d=\"M18.56 5.44l.94 2.06.94-2.06 2.06-.94-2.06-.94-.94-2.06-.94 2.06-2.06.94zm-11 1L8.5 8.5l.94-2.06 2.06-.94-2.06-.94L8.5 2.5l-.94 2.06-2.06.94zm10 10l.94 2.06.94-2.06 2.06-.94-2.06-.94-.94-2.06-.94 2.06-2.06.94z\"/><path d=\"M17.41 7.96l-1.37-1.37c-.4-.4-.92-.59-1.43-.59-.52 0-1.04.2-1.43.59L10.3 9.45l-7.72 7.72c-.78.78-.78 2.05 0 2.83L4 21.41c.39.39.9.59 1.41.59.51 0 1.02-.2 1.41-.59l7.78-7.78 2.81-2.81c.8-.78.8-2.07 0-2.86zM5.41 20L4 18.59l7.72-7.72 1.47 1.35L5.41 20z\"/>\n",
              "  </svg>\n",
              "      </button>\n",
              "      \n",
              "  <style>\n",
              "    .colab-df-container {\n",
              "      display:flex;\n",
              "      flex-wrap:wrap;\n",
              "      gap: 12px;\n",
              "    }\n",
              "\n",
              "    .colab-df-convert {\n",
              "      background-color: #E8F0FE;\n",
              "      border: none;\n",
              "      border-radius: 50%;\n",
              "      cursor: pointer;\n",
              "      display: none;\n",
              "      fill: #1967D2;\n",
              "      height: 32px;\n",
              "      padding: 0 0 0 0;\n",
              "      width: 32px;\n",
              "    }\n",
              "\n",
              "    .colab-df-convert:hover {\n",
              "      background-color: #E2EBFA;\n",
              "      box-shadow: 0px 1px 2px rgba(60, 64, 67, 0.3), 0px 1px 3px 1px rgba(60, 64, 67, 0.15);\n",
              "      fill: #174EA6;\n",
              "    }\n",
              "\n",
              "    [theme=dark] .colab-df-convert {\n",
              "      background-color: #3B4455;\n",
              "      fill: #D2E3FC;\n",
              "    }\n",
              "\n",
              "    [theme=dark] .colab-df-convert:hover {\n",
              "      background-color: #434B5C;\n",
              "      box-shadow: 0px 1px 3px 1px rgba(0, 0, 0, 0.15);\n",
              "      filter: drop-shadow(0px 1px 2px rgba(0, 0, 0, 0.3));\n",
              "      fill: #FFFFFF;\n",
              "    }\n",
              "  </style>\n",
              "\n",
              "      <script>\n",
              "        const buttonEl =\n",
              "          document.querySelector('#df-993d1b7c-0cc3-4309-b18c-bed9885c4fc2 button.colab-df-convert');\n",
              "        buttonEl.style.display =\n",
              "          google.colab.kernel.accessAllowed ? 'block' : 'none';\n",
              "\n",
              "        async function convertToInteractive(key) {\n",
              "          const element = document.querySelector('#df-993d1b7c-0cc3-4309-b18c-bed9885c4fc2');\n",
              "          const dataTable =\n",
              "            await google.colab.kernel.invokeFunction('convertToInteractive',\n",
              "                                                     [key], {});\n",
              "          if (!dataTable) return;\n",
              "\n",
              "          const docLinkHtml = 'Like what you see? Visit the ' +\n",
              "            '<a target=\"_blank\" href=https://colab.research.google.com/notebooks/data_table.ipynb>data table notebook</a>'\n",
              "            + ' to learn more about interactive tables.';\n",
              "          element.innerHTML = '';\n",
              "          dataTable['output_type'] = 'display_data';\n",
              "          await google.colab.output.renderOutput(dataTable, element);\n",
              "          const docLink = document.createElement('div');\n",
              "          docLink.innerHTML = docLinkHtml;\n",
              "          element.appendChild(docLink);\n",
              "        }\n",
              "      </script>\n",
              "    </div>\n",
              "  </div>\n",
              "  "
            ]
          },
          "metadata": {},
          "execution_count": 40
        }
      ],
      "source": [
        "df.describe()"
      ]
    },
    {
      "cell_type": "code",
      "execution_count": 41,
      "id": "cb0b6e9d",
      "metadata": {
        "colab": {
          "base_uri": "https://localhost:8080/",
          "height": 741
        },
        "id": "cb0b6e9d",
        "outputId": "c7ae6526-f8fe-4446-f3e5-d07d85749443"
      },
      "outputs": [
        {
          "output_type": "execute_result",
          "data": {
            "text/plain": [
              "                               type  shape            min_value  \\\n",
              "dateCrawled          datetime64[ns]  11188  2016-01-04 00:25:00   \n",
              "name                         object  26295                    -   \n",
              "seller                       object      2                    -   \n",
              "offerType                    object      2                    -   \n",
              "price                       float64   1403                  0.0   \n",
              "abtest                       object      2                    -   \n",
              "vehicleType                  object      8                    -   \n",
              "yearOfRegistration            int64     73                 1910   \n",
              "gearbox                      object      2                    -   \n",
              "powerPS                       int64    344                    0   \n",
              "model                        object    243                    -   \n",
              "kilometer                     int64     13                 5000   \n",
              "monthOfRegistration           int64     13                    0   \n",
              "fuelType                     object      7                    -   \n",
              "brand                        object     39                    -   \n",
              "notRepairedDamage            object      2                    -   \n",
              "dateCreated          datetime64[ns]     66  2015-02-11 00:00:00   \n",
              "postalCode                    int64   6556                 1067   \n",
              "lastSeen             datetime64[ns]   8929  2016-01-04 00:15:00   \n",
              "\n",
              "                               max_value  \\\n",
              "dateCrawled          2016-12-03 23:59:00   \n",
              "name                                   -   \n",
              "seller                                 -   \n",
              "offerType                              -   \n",
              "price                            9.69591   \n",
              "abtest                                 -   \n",
              "vehicleType                            -   \n",
              "yearOfRegistration                  7500   \n",
              "gearbox                                -   \n",
              "powerPS                            19312   \n",
              "model                                  -   \n",
              "kilometer                         150000   \n",
              "monthOfRegistration                   12   \n",
              "fuelType                               -   \n",
              "brand                                  -   \n",
              "notRepairedDamage                      -   \n",
              "dateCreated          2016-12-03 00:00:00   \n",
              "postalCode                         99998   \n",
              "lastSeen             2016-12-03 23:47:00   \n",
              "\n",
              "                                                           uniq_values  \n",
              "dateCrawled          [2016-01-04T00:25:00.000000000, 2016-01-04T00:...  \n",
              "name                 [!!!!!!!!__Skoda_Superb_2.0_TDI_DSG__Elegance_...  \n",
              "seller                                           [commercial, private]  \n",
              "offerType                                             [offer, request]  \n",
              "price                [0.0, 0.6931471805599453, 1.791759469228055, 2...  \n",
              "abtest                                                 [control, test]  \n",
              "vehicleType          [bus, cabrio, coupe, limousine, others, small ...  \n",
              "yearOfRegistration   [1910, 1929, 1934, 1945, 1950, 1951, 1953, 195...  \n",
              "gearbox                                            [automatic, manual]  \n",
              "powerPS              [0, 1, 2, 5, 9, 10, 11, 12, 14, 15, 18, 19, 23...  \n",
              "model                [100, 145, 147, 156, 159, 1_reihe, 1er, 200, 2...  \n",
              "kilometer            [5000, 10000, 20000, 30000, 40000, 50000, 6000...  \n",
              "monthOfRegistration         [0, 1, 2, 3, 4, 5, 6, 7, 8, 9, 10, 11, 12]  \n",
              "fuelType             [cng, diesel, electro, hybrid, lpg, other, pet...  \n",
              "brand                [alfa_romeo, audi, bmw, chevrolet, chrysler, c...  \n",
              "notRepairedDamage                                            [no, yes]  \n",
              "dateCreated          [2015-02-11T00:00:00.000000000, 2015-04-09T00:...  \n",
              "postalCode           [1067, 1069, 1097, 1099, 1108, 1109, 1127, 112...  \n",
              "lastSeen             [2016-01-04T00:15:00.000000000, 2016-01-04T00:...  "
            ],
            "text/html": [
              "\n",
              "  <div id=\"df-0e2b57b2-94c7-40ca-8657-bb3a6a44980c\">\n",
              "    <div class=\"colab-df-container\">\n",
              "      <div>\n",
              "<style scoped>\n",
              "    .dataframe tbody tr th:only-of-type {\n",
              "        vertical-align: middle;\n",
              "    }\n",
              "\n",
              "    .dataframe tbody tr th {\n",
              "        vertical-align: top;\n",
              "    }\n",
              "\n",
              "    .dataframe thead th {\n",
              "        text-align: right;\n",
              "    }\n",
              "</style>\n",
              "<table border=\"1\" class=\"dataframe\">\n",
              "  <thead>\n",
              "    <tr style=\"text-align: right;\">\n",
              "      <th></th>\n",
              "      <th>type</th>\n",
              "      <th>shape</th>\n",
              "      <th>min_value</th>\n",
              "      <th>max_value</th>\n",
              "      <th>uniq_values</th>\n",
              "    </tr>\n",
              "  </thead>\n",
              "  <tbody>\n",
              "    <tr>\n",
              "      <th>dateCrawled</th>\n",
              "      <td>datetime64[ns]</td>\n",
              "      <td>11188</td>\n",
              "      <td>2016-01-04 00:25:00</td>\n",
              "      <td>2016-12-03 23:59:00</td>\n",
              "      <td>[2016-01-04T00:25:00.000000000, 2016-01-04T00:...</td>\n",
              "    </tr>\n",
              "    <tr>\n",
              "      <th>name</th>\n",
              "      <td>object</td>\n",
              "      <td>26295</td>\n",
              "      <td>-</td>\n",
              "      <td>-</td>\n",
              "      <td>[!!!!!!!!__Skoda_Superb_2.0_TDI_DSG__Elegance_...</td>\n",
              "    </tr>\n",
              "    <tr>\n",
              "      <th>seller</th>\n",
              "      <td>object</td>\n",
              "      <td>2</td>\n",
              "      <td>-</td>\n",
              "      <td>-</td>\n",
              "      <td>[commercial, private]</td>\n",
              "    </tr>\n",
              "    <tr>\n",
              "      <th>offerType</th>\n",
              "      <td>object</td>\n",
              "      <td>2</td>\n",
              "      <td>-</td>\n",
              "      <td>-</td>\n",
              "      <td>[offer, request]</td>\n",
              "    </tr>\n",
              "    <tr>\n",
              "      <th>price</th>\n",
              "      <td>float64</td>\n",
              "      <td>1403</td>\n",
              "      <td>0.0</td>\n",
              "      <td>9.69591</td>\n",
              "      <td>[0.0, 0.6931471805599453, 1.791759469228055, 2...</td>\n",
              "    </tr>\n",
              "    <tr>\n",
              "      <th>abtest</th>\n",
              "      <td>object</td>\n",
              "      <td>2</td>\n",
              "      <td>-</td>\n",
              "      <td>-</td>\n",
              "      <td>[control, test]</td>\n",
              "    </tr>\n",
              "    <tr>\n",
              "      <th>vehicleType</th>\n",
              "      <td>object</td>\n",
              "      <td>8</td>\n",
              "      <td>-</td>\n",
              "      <td>-</td>\n",
              "      <td>[bus, cabrio, coupe, limousine, others, small ...</td>\n",
              "    </tr>\n",
              "    <tr>\n",
              "      <th>yearOfRegistration</th>\n",
              "      <td>int64</td>\n",
              "      <td>73</td>\n",
              "      <td>1910</td>\n",
              "      <td>7500</td>\n",
              "      <td>[1910, 1929, 1934, 1945, 1950, 1951, 1953, 195...</td>\n",
              "    </tr>\n",
              "    <tr>\n",
              "      <th>gearbox</th>\n",
              "      <td>object</td>\n",
              "      <td>2</td>\n",
              "      <td>-</td>\n",
              "      <td>-</td>\n",
              "      <td>[automatic, manual]</td>\n",
              "    </tr>\n",
              "    <tr>\n",
              "      <th>powerPS</th>\n",
              "      <td>int64</td>\n",
              "      <td>344</td>\n",
              "      <td>0</td>\n",
              "      <td>19312</td>\n",
              "      <td>[0, 1, 2, 5, 9, 10, 11, 12, 14, 15, 18, 19, 23...</td>\n",
              "    </tr>\n",
              "    <tr>\n",
              "      <th>model</th>\n",
              "      <td>object</td>\n",
              "      <td>243</td>\n",
              "      <td>-</td>\n",
              "      <td>-</td>\n",
              "      <td>[100, 145, 147, 156, 159, 1_reihe, 1er, 200, 2...</td>\n",
              "    </tr>\n",
              "    <tr>\n",
              "      <th>kilometer</th>\n",
              "      <td>int64</td>\n",
              "      <td>13</td>\n",
              "      <td>5000</td>\n",
              "      <td>150000</td>\n",
              "      <td>[5000, 10000, 20000, 30000, 40000, 50000, 6000...</td>\n",
              "    </tr>\n",
              "    <tr>\n",
              "      <th>monthOfRegistration</th>\n",
              "      <td>int64</td>\n",
              "      <td>13</td>\n",
              "      <td>0</td>\n",
              "      <td>12</td>\n",
              "      <td>[0, 1, 2, 3, 4, 5, 6, 7, 8, 9, 10, 11, 12]</td>\n",
              "    </tr>\n",
              "    <tr>\n",
              "      <th>fuelType</th>\n",
              "      <td>object</td>\n",
              "      <td>7</td>\n",
              "      <td>-</td>\n",
              "      <td>-</td>\n",
              "      <td>[cng, diesel, electro, hybrid, lpg, other, pet...</td>\n",
              "    </tr>\n",
              "    <tr>\n",
              "      <th>brand</th>\n",
              "      <td>object</td>\n",
              "      <td>39</td>\n",
              "      <td>-</td>\n",
              "      <td>-</td>\n",
              "      <td>[alfa_romeo, audi, bmw, chevrolet, chrysler, c...</td>\n",
              "    </tr>\n",
              "    <tr>\n",
              "      <th>notRepairedDamage</th>\n",
              "      <td>object</td>\n",
              "      <td>2</td>\n",
              "      <td>-</td>\n",
              "      <td>-</td>\n",
              "      <td>[no, yes]</td>\n",
              "    </tr>\n",
              "    <tr>\n",
              "      <th>dateCreated</th>\n",
              "      <td>datetime64[ns]</td>\n",
              "      <td>66</td>\n",
              "      <td>2015-02-11 00:00:00</td>\n",
              "      <td>2016-12-03 00:00:00</td>\n",
              "      <td>[2015-02-11T00:00:00.000000000, 2015-04-09T00:...</td>\n",
              "    </tr>\n",
              "    <tr>\n",
              "      <th>postalCode</th>\n",
              "      <td>int64</td>\n",
              "      <td>6556</td>\n",
              "      <td>1067</td>\n",
              "      <td>99998</td>\n",
              "      <td>[1067, 1069, 1097, 1099, 1108, 1109, 1127, 112...</td>\n",
              "    </tr>\n",
              "    <tr>\n",
              "      <th>lastSeen</th>\n",
              "      <td>datetime64[ns]</td>\n",
              "      <td>8929</td>\n",
              "      <td>2016-01-04 00:15:00</td>\n",
              "      <td>2016-12-03 23:47:00</td>\n",
              "      <td>[2016-01-04T00:15:00.000000000, 2016-01-04T00:...</td>\n",
              "    </tr>\n",
              "  </tbody>\n",
              "</table>\n",
              "</div>\n",
              "      <button class=\"colab-df-convert\" onclick=\"convertToInteractive('df-0e2b57b2-94c7-40ca-8657-bb3a6a44980c')\"\n",
              "              title=\"Convert this dataframe to an interactive table.\"\n",
              "              style=\"display:none;\">\n",
              "        \n",
              "  <svg xmlns=\"http://www.w3.org/2000/svg\" height=\"24px\"viewBox=\"0 0 24 24\"\n",
              "       width=\"24px\">\n",
              "    <path d=\"M0 0h24v24H0V0z\" fill=\"none\"/>\n",
              "    <path d=\"M18.56 5.44l.94 2.06.94-2.06 2.06-.94-2.06-.94-.94-2.06-.94 2.06-2.06.94zm-11 1L8.5 8.5l.94-2.06 2.06-.94-2.06-.94L8.5 2.5l-.94 2.06-2.06.94zm10 10l.94 2.06.94-2.06 2.06-.94-2.06-.94-.94-2.06-.94 2.06-2.06.94z\"/><path d=\"M17.41 7.96l-1.37-1.37c-.4-.4-.92-.59-1.43-.59-.52 0-1.04.2-1.43.59L10.3 9.45l-7.72 7.72c-.78.78-.78 2.05 0 2.83L4 21.41c.39.39.9.59 1.41.59.51 0 1.02-.2 1.41-.59l7.78-7.78 2.81-2.81c.8-.78.8-2.07 0-2.86zM5.41 20L4 18.59l7.72-7.72 1.47 1.35L5.41 20z\"/>\n",
              "  </svg>\n",
              "      </button>\n",
              "      \n",
              "  <style>\n",
              "    .colab-df-container {\n",
              "      display:flex;\n",
              "      flex-wrap:wrap;\n",
              "      gap: 12px;\n",
              "    }\n",
              "\n",
              "    .colab-df-convert {\n",
              "      background-color: #E8F0FE;\n",
              "      border: none;\n",
              "      border-radius: 50%;\n",
              "      cursor: pointer;\n",
              "      display: none;\n",
              "      fill: #1967D2;\n",
              "      height: 32px;\n",
              "      padding: 0 0 0 0;\n",
              "      width: 32px;\n",
              "    }\n",
              "\n",
              "    .colab-df-convert:hover {\n",
              "      background-color: #E2EBFA;\n",
              "      box-shadow: 0px 1px 2px rgba(60, 64, 67, 0.3), 0px 1px 3px 1px rgba(60, 64, 67, 0.15);\n",
              "      fill: #174EA6;\n",
              "    }\n",
              "\n",
              "    [theme=dark] .colab-df-convert {\n",
              "      background-color: #3B4455;\n",
              "      fill: #D2E3FC;\n",
              "    }\n",
              "\n",
              "    [theme=dark] .colab-df-convert:hover {\n",
              "      background-color: #434B5C;\n",
              "      box-shadow: 0px 1px 3px 1px rgba(0, 0, 0, 0.15);\n",
              "      filter: drop-shadow(0px 1px 2px rgba(0, 0, 0, 0.3));\n",
              "      fill: #FFFFFF;\n",
              "    }\n",
              "  </style>\n",
              "\n",
              "      <script>\n",
              "        const buttonEl =\n",
              "          document.querySelector('#df-0e2b57b2-94c7-40ca-8657-bb3a6a44980c button.colab-df-convert');\n",
              "        buttonEl.style.display =\n",
              "          google.colab.kernel.accessAllowed ? 'block' : 'none';\n",
              "\n",
              "        async function convertToInteractive(key) {\n",
              "          const element = document.querySelector('#df-0e2b57b2-94c7-40ca-8657-bb3a6a44980c');\n",
              "          const dataTable =\n",
              "            await google.colab.kernel.invokeFunction('convertToInteractive',\n",
              "                                                     [key], {});\n",
              "          if (!dataTable) return;\n",
              "\n",
              "          const docLinkHtml = 'Like what you see? Visit the ' +\n",
              "            '<a target=\"_blank\" href=https://colab.research.google.com/notebooks/data_table.ipynb>data table notebook</a>'\n",
              "            + ' to learn more about interactive tables.';\n",
              "          element.innerHTML = '';\n",
              "          dataTable['output_type'] = 'display_data';\n",
              "          await google.colab.output.renderOutput(dataTable, element);\n",
              "          const docLink = document.createElement('div');\n",
              "          docLink.innerHTML = docLinkHtml;\n",
              "          element.appendChild(docLink);\n",
              "        }\n",
              "      </script>\n",
              "    </div>\n",
              "  </div>\n",
              "  "
            ]
          },
          "metadata": {},
          "execution_count": 41
        }
      ],
      "source": [
        "res = df.apply(scale_values_getter).transpose()\n",
        "res.columns = [\"type\",\"shape\",\"min_value\", \"max_value\", \"uniq_values\"]\n",
        "res"
      ]
    },
    {
      "cell_type": "code",
      "execution_count": 42,
      "id": "178c2aa4",
      "metadata": {
        "id": "178c2aa4"
      },
      "outputs": [],
      "source": [
        "df.to_csv(\"./out.csv\")"
      ]
    }
  ],
  "metadata": {
    "kernelspec": {
      "display_name": "Python 3 (ipykernel)",
      "language": "python",
      "name": "python3"
    },
    "language_info": {
      "codemirror_mode": {
        "name": "ipython",
        "version": 3
      },
      "file_extension": ".py",
      "mimetype": "text/x-python",
      "name": "python",
      "nbconvert_exporter": "python",
      "pygments_lexer": "ipython3",
      "version": "3.9.12"
    },
    "colab": {
      "provenance": []
    }
  },
  "nbformat": 4,
  "nbformat_minor": 5
}