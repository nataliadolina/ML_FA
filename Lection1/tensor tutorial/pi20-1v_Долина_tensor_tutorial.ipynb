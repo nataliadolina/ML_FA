{
  "cells": [
    {
      "cell_type": "code",
      "execution_count": null,
      "metadata": {
        "id": "BzNjiDVSx_Xi"
      },
      "outputs": [],
      "source": [
        "%matplotlib inline"
      ]
    },
    {
      "cell_type": "markdown",
      "metadata": {
        "id": "8RutPIIDx_X4"
      },
      "source": [
        "\n",
        "Введение в PyTorch\n",
        "================\n",
        "\n",
        "Это основанный на Python научный вычислительный пакет, ориентированный на два набора аудиторий:\n",
        "\n",
        "* замена NumPy для использования мощности графических процессоров\n",
        "* исследовательская платформа глубокого обучения которая обеспечивает максимальную гибкость и скорость\n",
        "\n",
        "Начало\n",
        "---------------\n",
        "\n",
        "Тензоры\n",
        "\n",
        "^^^^^^^\n",
        "\n",
        "Тензоры похожи на ndarrays библиотеки numpy, с добавлением того, что\n",
        "Тензоры также могут быть использованы на графическом процессоре для ускорения вычислений.\n",
        "\n"
      ]
    },
    {
      "cell_type": "code",
      "execution_count": 1,
      "metadata": {
        "colab": {
          "base_uri": "https://localhost:8080/"
        },
        "id": "A2JxeXfUx_X6",
        "outputId": "a44338c4-8a5b-47ed-98d3-6d7512abf664"
      },
      "outputs": [
        {
          "output_type": "stream",
          "name": "stdout",
          "text": [
            "True\n"
          ]
        }
      ],
      "source": [
        "from __future__ import print_function\n",
        "import torch\n",
        "print(torch.cuda.is_available())"
      ]
    },
    {
      "cell_type": "markdown",
      "metadata": {
        "id": "0m5kEnxk2KGu"
      },
      "source": []
    },
    {
      "cell_type": "markdown",
      "metadata": {
        "id": "MbcopNIRx_YE"
      },
      "source": [
        "#### Примечание\n",
        "Неинициализированная тензор объявляется, но не содержит определенных известных значений до ее использования. Когда создается неинициализированная матрица, все значения, которые были в выделенной памяти в то время, будут отображаться как начальные значения.\n",
        "\n"
      ]
    },
    {
      "cell_type": "markdown",
      "metadata": {
        "id": "fwO9_lbox_YF"
      },
      "source": [
        "Создадим неинициализированный тензор 5x3:\n",
        "\n"
      ]
    },
    {
      "cell_type": "code",
      "execution_count": 2,
      "metadata": {
        "colab": {
          "base_uri": "https://localhost:8080/"
        },
        "id": "7DwQCcFGx_YH",
        "outputId": "1748100e-07c0-464d-bf70-234366ceaac3"
      },
      "outputs": [
        {
          "output_type": "stream",
          "name": "stdout",
          "text": [
            "tensor([[0., 0., 0.],\n",
            "        [0., 0., 0.],\n",
            "        [0., 0., 0.],\n",
            "        [0., 0., 0.],\n",
            "        [0., 0., 0.]])\n"
          ]
        },
        {
          "output_type": "execute_result",
          "data": {
            "text/plain": [
              "torch.Tensor"
            ]
          },
          "metadata": {},
          "execution_count": 2
        }
      ],
      "source": [
        "x = torch.empty(5, 3)\n",
        "print(x)\n",
        "type(x)"
      ]
    },
    {
      "cell_type": "markdown",
      "metadata": {
        "id": "D3NVKqpvx_YW"
      },
      "source": [
        "Создадим тензор со случайным набором:"
      ]
    },
    {
      "cell_type": "code",
      "execution_count": 3,
      "metadata": {
        "colab": {
          "base_uri": "https://localhost:8080/"
        },
        "id": "sfr4xtu-x_YX",
        "outputId": "27a167ab-67cf-4fe2-8cd2-cb8b7983287a"
      },
      "outputs": [
        {
          "output_type": "stream",
          "name": "stdout",
          "text": [
            "tensor([[0.1494, 0.5984, 0.3142],\n",
            "        [0.8836, 0.0737, 0.7727],\n",
            "        [0.0510, 0.4903, 0.8239],\n",
            "        [0.3205, 0.4145, 0.3501],\n",
            "        [0.3415, 0.7868, 0.1584]])\n"
          ]
        }
      ],
      "source": [
        "x = torch.rand(5, 3)\n",
        "print(x)"
      ]
    },
    {
      "cell_type": "markdown",
      "metadata": {
        "id": "dH3qNpUHx_Yi"
      },
      "source": [
        "Создадим тензор заполненный 0 типа long:"
      ]
    },
    {
      "cell_type": "code",
      "execution_count": 4,
      "metadata": {
        "colab": {
          "base_uri": "https://localhost:8080/"
        },
        "id": "2u3gcwWpx_Yk",
        "outputId": "8551cd37-90b5-4373-edc9-d0025b4c0aa7"
      },
      "outputs": [
        {
          "output_type": "stream",
          "name": "stdout",
          "text": [
            "tensor([[0, 0, 0],\n",
            "        [0, 0, 0],\n",
            "        [0, 0, 0],\n",
            "        [0, 0, 0],\n",
            "        [0, 0, 0]])\n"
          ]
        }
      ],
      "source": [
        "x = torch.zeros(5, 3, dtype=torch.long)\n",
        "print(x)"
      ]
    },
    {
      "cell_type": "markdown",
      "metadata": {
        "id": "nRYvQICxx_Yt"
      },
      "source": [
        "Создадим тензор из списка и изменим его тип:\n",
        "\n",
        "\n",
        "\n"
      ]
    },
    {
      "cell_type": "code",
      "execution_count": 5,
      "metadata": {
        "colab": {
          "base_uri": "https://localhost:8080/"
        },
        "id": "patrBSwmx_Yv",
        "outputId": "9b38ca60-5b8e-403a-bb61-8d8e00e652cc"
      },
      "outputs": [
        {
          "output_type": "stream",
          "name": "stdout",
          "text": [
            "tensor([5.5000, 3.0000])\n"
          ]
        },
        {
          "output_type": "execute_result",
          "data": {
            "text/plain": [
              "tensor([5, 3], dtype=torch.int32)"
            ]
          },
          "metadata": {},
          "execution_count": 5
        }
      ],
      "source": [
        "x = torch.tensor([5.5, 3])\n",
        "print(x)\n",
        "x.type(torch.int)"
      ]
    },
    {
      "cell_type": "markdown",
      "metadata": {
        "id": "oc1csxcix_Y4"
      },
      "source": [
        "\n",
        "или создадим тензор на основе существующего тензора. Эти методы будут повторно использовать свойства входного тензора, например тип, если только пользователь не предоставит новые значения"
      ]
    },
    {
      "cell_type": "code",
      "execution_count": 6,
      "metadata": {
        "colab": {
          "base_uri": "https://localhost:8080/"
        },
        "id": "HTavxanZx_Y6",
        "outputId": "9ad4607a-a478-41e0-c6bd-dde618363d0f"
      },
      "outputs": [
        {
          "output_type": "stream",
          "name": "stdout",
          "text": [
            "tensor([[1., 1., 1.],\n",
            "        [1., 1., 1.],\n",
            "        [1., 1., 1.],\n",
            "        [1., 1., 1.],\n",
            "        [1., 1., 1.]], dtype=torch.float64)\n",
            "tensor([[-0.8267, -1.1563, -1.2982],\n",
            "        [ 0.6280,  0.6734, -1.5078],\n",
            "        [ 0.5554, -0.1539, -0.5424],\n",
            "        [ 1.2964, -0.9539,  1.2995],\n",
            "        [-0.2428, -1.6030,  1.9262]], dtype=torch.float64)\n"
          ]
        }
      ],
      "source": [
        "x = x.new_ones(5, 3, dtype=torch.double)      # new_* метод применяется для размера\n",
        "print(x)\n",
        "\n",
        "x = torch.randn_like(x, dtype=torch.float64)    #  dtype позволяет сменить тип!\n",
        "print(x)                                      "
      ]
    },
    {
      "cell_type": "markdown",
      "metadata": {
        "id": "pQcM1r70x_ZE"
      },
      "source": [
        "Получим размер тензора:\n",
        "\n"
      ]
    },
    {
      "cell_type": "code",
      "execution_count": 7,
      "metadata": {
        "colab": {
          "base_uri": "https://localhost:8080/"
        },
        "id": "MTco31L3x_ZG",
        "outputId": "df2e8d9f-9858-4ca7-80ba-2a57b55ca1bc"
      },
      "outputs": [
        {
          "output_type": "stream",
          "name": "stdout",
          "text": [
            "torch.Size([5, 3])\n"
          ]
        }
      ],
      "source": [
        "print(x.size())"
      ]
    },
    {
      "cell_type": "code",
      "execution_count": 8,
      "metadata": {
        "colab": {
          "base_uri": "https://localhost:8080/"
        },
        "id": "vdCVCLTpP-8c",
        "outputId": "6eeeb627-11d8-44c1-8e35-aeeaaff9dfc6"
      },
      "outputs": [
        {
          "output_type": "stream",
          "name": "stdout",
          "text": [
            "tensor([[[1, 2],\n",
            "         [3, 4]]]) torch.Size([1, 2, 2])\n",
            "tensor([[[1],\n",
            "         [2]],\n",
            "\n",
            "        [[3],\n",
            "         [4]]]) torch.Size([2, 2, 1])\n",
            "tensor([[[1, 2]],\n",
            "\n",
            "        [[3, 4]]]) torch.Size([2, 1, 2])\n"
          ]
        }
      ],
      "source": [
        "x1 = torch.tensor([[1, 2], [3, 4]])\n",
        "y=torch.unsqueeze(x1,0)\n",
        "print(y,y.size())\n",
        "z=torch.unsqueeze(x1,-1)\n",
        "print(z,z.size())\n",
        "t=torch.unsqueeze(x1,1)\n",
        "print(t,t.size())"
      ]
    },
    {
      "cell_type": "markdown",
      "metadata": {
        "id": "kdbfM0rIx_ZO"
      },
      "source": [
        "#### Примечание\n",
        "`torch.Size` это кортеж и поддерживает все операции для кортежей\n",
        "\n",
        "Операции\n",
        "\n",
        "^^^^^^^^^^\n",
        "\n",
        "Существует несколько синтаксисов для операций. В следующем\n",
        "примере мы рассмотрим операцию сложения.\n",
        "\n",
        "Сложение: синтаксис 1-й\n",
        "\n"
      ]
    },
    {
      "cell_type": "code",
      "execution_count": 9,
      "metadata": {
        "colab": {
          "base_uri": "https://localhost:8080/"
        },
        "id": "WkC6hB6-x_ZQ",
        "outputId": "9ee83cba-ca5e-4efd-f7cd-c81d0dc23655"
      },
      "outputs": [
        {
          "output_type": "stream",
          "name": "stdout",
          "text": [
            "tensor([[-0.8267, -1.1563, -1.2982],\n",
            "        [ 0.6280,  0.6734, -1.5078],\n",
            "        [ 0.5554, -0.1539, -0.5424],\n",
            "        [ 1.2964, -0.9539,  1.2995],\n",
            "        [-0.2428, -1.6030,  1.9262]], dtype=torch.float64) \n",
            " tensor([[0.3440, 0.4754, 0.7106],\n",
            "        [0.7390, 0.9189, 0.3084],\n",
            "        [0.7960, 0.3156, 0.8808],\n",
            "        [0.8521, 0.5606, 0.9925],\n",
            "        [0.3763, 0.7499, 0.4190]])\n",
            "tensor([[-0.4827, -0.6808, -0.5876],\n",
            "        [ 1.3669,  1.5923, -1.1994],\n",
            "        [ 1.3514,  0.1617,  0.3385],\n",
            "        [ 2.1485, -0.3933,  2.2920],\n",
            "        [ 0.1335, -0.8531,  2.3452]], dtype=torch.float64)\n"
          ]
        }
      ],
      "source": [
        "y = torch.rand(5, 3)\n",
        "print(x,'\\n',y)\n",
        "print(x + y)"
      ]
    },
    {
      "cell_type": "markdown",
      "metadata": {
        "id": "81SECM1zx_Zh"
      },
      "source": [
        "Сложение: синтаксис 2-й\n",
        "\n"
      ]
    },
    {
      "cell_type": "code",
      "execution_count": 10,
      "metadata": {
        "colab": {
          "base_uri": "https://localhost:8080/"
        },
        "id": "hGcSwdnkx_Zj",
        "outputId": "469f83e8-cca4-4c1b-eb2f-f4d1843b1955"
      },
      "outputs": [
        {
          "output_type": "stream",
          "name": "stdout",
          "text": [
            "tensor([[-0.4827, -0.6808, -0.5876],\n",
            "        [ 1.3669,  1.5923, -1.1994],\n",
            "        [ 1.3514,  0.1617,  0.3385],\n",
            "        [ 2.1485, -0.3933,  2.2920],\n",
            "        [ 0.1335, -0.8531,  2.3452]], dtype=torch.float64)\n"
          ]
        }
      ],
      "source": [
        "print(torch.add(x, y))"
      ]
    },
    {
      "cell_type": "markdown",
      "metadata": {
        "id": "Oui8NG4yx_Zs"
      },
      "source": [
        "Сложение: с выходным тензором в качестве аргумента\n",
        "\n"
      ]
    },
    {
      "cell_type": "code",
      "execution_count": 11,
      "metadata": {
        "colab": {
          "base_uri": "https://localhost:8080/"
        },
        "id": "6zzrYGBjx_Zt",
        "outputId": "48c83e46-b9f2-4f98-9acb-6bd3f2d1885b"
      },
      "outputs": [
        {
          "output_type": "stream",
          "name": "stdout",
          "text": [
            "tensor([[-0.4827, -0.6808, -0.5876],\n",
            "        [ 1.3669,  1.5923, -1.1994],\n",
            "        [ 1.3514,  0.1617,  0.3385],\n",
            "        [ 2.1485, -0.3933,  2.2920],\n",
            "        [ 0.1335, -0.8531,  2.3452]])\n"
          ]
        }
      ],
      "source": [
        "result = torch.empty(5, 3)\n",
        "torch.add(x, y, out=result)\n",
        "print(result)"
      ]
    },
    {
      "cell_type": "markdown",
      "metadata": {
        "id": "f-AJN2Lrx_Z3"
      },
      "source": [
        "Сложение: в одно действие (in-place)"
      ]
    },
    {
      "cell_type": "code",
      "execution_count": 12,
      "metadata": {
        "colab": {
          "base_uri": "https://localhost:8080/"
        },
        "id": "kHB-ZJDHx_Z4",
        "outputId": "bf0eaf0c-a9fc-418a-a42f-14d328a9aaf9"
      },
      "outputs": [
        {
          "output_type": "stream",
          "name": "stdout",
          "text": [
            "tensor([[-0.4827, -0.6808, -0.5876],\n",
            "        [ 1.3669,  1.5923, -1.1994],\n",
            "        [ 1.3514,  0.1617,  0.3385],\n",
            "        [ 2.1485, -0.3933,  2.2920],\n",
            "        [ 0.1335, -0.8531,  2.3452]])\n"
          ]
        }
      ],
      "source": [
        "# adds x to y\n",
        "y.add_(x)\n",
        "print(y)"
      ]
    },
    {
      "cell_type": "markdown",
      "metadata": {
        "id": "nAC8egPnx_aF"
      },
      "source": [
        "#### Примечание\n",
        "\n",
        "Любая операция, которая изменяет тензор в одно действие сопровождается ``_``. Например: ``x.copy_(y)``, ``x.t_()``, изменят ``x``.\n",
        "\n",
        "Вы можете так же использовать стандартную NumPy-подобную индексацию со всеми ее особенностями!"
      ]
    },
    {
      "cell_type": "code",
      "execution_count": 13,
      "metadata": {
        "colab": {
          "base_uri": "https://localhost:8080/"
        },
        "id": "70PxxiT4x_aI",
        "outputId": "9d980a40-6b38-4ad8-acad-3a525b77ef9f"
      },
      "outputs": [
        {
          "output_type": "stream",
          "name": "stdout",
          "text": [
            "tensor([-1.1563,  0.6734, -0.1539, -0.9539, -1.6030], dtype=torch.float64)\n"
          ]
        }
      ],
      "source": [
        "print(x[:, 1])"
      ]
    },
    {
      "cell_type": "markdown",
      "metadata": {
        "id": "b4h0kEIHx_aO"
      },
      "source": [
        "Изменение размера: Если вы хотите изменить размер/форму тензора, вы можете использовать ``torch.view``:"
      ]
    },
    {
      "cell_type": "code",
      "execution_count": 17,
      "metadata": {
        "colab": {
          "base_uri": "https://localhost:8080/"
        },
        "id": "JytFhAhwx_aR",
        "outputId": "1e4d8fdb-5d8f-4228-e4c9-e798c15d4868"
      },
      "outputs": [
        {
          "output_type": "stream",
          "name": "stdout",
          "text": [
            "torch.Size([4, 4]) torch.Size([16]) torch.Size([2, 8])\n"
          ]
        },
        {
          "output_type": "execute_result",
          "data": {
            "text/plain": [
              "(tensor([[-1.2489,  1.1025,  1.2018,  0.9876],\n",
              "         [-0.4437,  1.1579, -0.7168,  0.9765],\n",
              "         [-0.6405, -0.0598,  0.7829,  0.0752],\n",
              "         [-0.5814,  1.1910,  0.3383, -0.1666]]),\n",
              " tensor([-1.2489,  1.1025,  1.2018,  0.9876, -0.4437,  1.1579, -0.7168,  0.9765,\n",
              "         -0.6405, -0.0598,  0.7829,  0.0752, -0.5814,  1.1910,  0.3383, -0.1666]))"
            ]
          },
          "metadata": {},
          "execution_count": 17
        }
      ],
      "source": [
        "x = torch.randn(4, 4)\n",
        "y = x.view(16)\n",
        "z = x.view(-1, 8)  # размер -1 соответсвует остальным размерностям, т.е. 16/8=2 \n",
        "print(x.size(), y.size(), z.size())\n",
        "x,y"
      ]
    },
    {
      "cell_type": "markdown",
      "metadata": {
        "id": "iQZVffPdx_aa"
      },
      "source": [
        "Если у вас есть одноэлементный тензор, используйте `.item ()`, чтобы получить его значение"
      ]
    },
    {
      "cell_type": "code",
      "execution_count": 18,
      "metadata": {
        "colab": {
          "base_uri": "https://localhost:8080/"
        },
        "id": "P6ojE2oPx_ae",
        "outputId": "1c544f4c-de7a-4610-a10f-d2688e1464fa"
      },
      "outputs": [
        {
          "output_type": "stream",
          "name": "stdout",
          "text": [
            "tensor([0.2251])\n",
            "0.22505801916122437\n"
          ]
        }
      ],
      "source": [
        "x = torch.randn(1)\n",
        "print(x)\n",
        "print(x.item())"
      ]
    },
    {
      "cell_type": "markdown",
      "metadata": {
        "id": "aW6Scfoix_ap"
      },
      "source": [
        "**Далее:**\n",
        "\n",
        "100+ тензорные операции, в том числе транспонирование, индексирование, нарезка, математические операции, линейная алгебра, случайные числа и др описаны здесь: <https://pytorch.org/docs/torch>\n",
        "\n",
        "Переход с NumPy\n",
        "------------\n",
        "Преобразование Torch Tensor в массив NumPy и наоборот-это легко.\n",
        "\n",
        "Torch Tensor и массив NumPy будут совместно использовать свои базовые\n",
        "ячейки памяти (если Torch Tensor находится на процессоре), и изменение одного изменит другое.\n",
        "\n",
        "Преобразование Torch Tensor в массив NumPy\n",
        "\n",
        "^^^^^^^^^^^^^^^^^^^^^^^^^^^^^^^^^^^^^^^^^^\n"
      ]
    },
    {
      "cell_type": "code",
      "execution_count": 19,
      "metadata": {
        "colab": {
          "base_uri": "https://localhost:8080/"
        },
        "id": "9I2ebnsQx_ar",
        "outputId": "e1a5d5e5-e7df-4caf-9690-2a5d497f0d01"
      },
      "outputs": [
        {
          "output_type": "stream",
          "name": "stdout",
          "text": [
            "tensor([1., 1., 1., 1., 1.])\n"
          ]
        }
      ],
      "source": [
        "a = torch.ones(5)\n",
        "print(a)"
      ]
    },
    {
      "cell_type": "code",
      "execution_count": 20,
      "metadata": {
        "colab": {
          "base_uri": "https://localhost:8080/"
        },
        "id": "nnt8ywU4x_a1",
        "outputId": "5e68f1cd-3948-4dff-bd12-c92909d0bd68"
      },
      "outputs": [
        {
          "output_type": "stream",
          "name": "stdout",
          "text": [
            "[1. 1. 1. 1. 1.]\n"
          ]
        }
      ],
      "source": [
        "b = a.numpy()\n",
        "print(b)"
      ]
    },
    {
      "cell_type": "markdown",
      "metadata": {
        "id": "-3ZjjrZ7x_bG"
      },
      "source": [
        "Посмотрим как массив NumPy изменяется в своих значениях."
      ]
    },
    {
      "cell_type": "code",
      "execution_count": 21,
      "metadata": {
        "colab": {
          "base_uri": "https://localhost:8080/"
        },
        "id": "Wlz95Eobx_bI",
        "outputId": "d7391c9a-2fba-42fe-ef46-4962dd2dc252"
      },
      "outputs": [
        {
          "output_type": "stream",
          "name": "stdout",
          "text": [
            "tensor([2., 2., 2., 2., 2.])\n",
            "[2. 2. 2. 2. 2.]\n"
          ]
        }
      ],
      "source": [
        "a.add_(1)\n",
        "print(a)\n",
        "print(b)"
      ]
    },
    {
      "cell_type": "markdown",
      "metadata": {
        "id": "7CXLTdXox_bP"
      },
      "source": [
        "Преобразование массива NumPy в Torch тензор\n",
        "\n",
        "^^^^^^^^^^^^^^^^^^^^^^^^^^^^^^^^^^^^^^\n",
        "\n",
        "Посмотрим как изменения nparray отразятся на тензоре \n"
      ]
    },
    {
      "cell_type": "code",
      "execution_count": 22,
      "metadata": {
        "colab": {
          "base_uri": "https://localhost:8080/"
        },
        "id": "mdEfEpnCx_bQ",
        "outputId": "a202caf0-e106-435a-b9c5-ca52a5b34697"
      },
      "outputs": [
        {
          "output_type": "stream",
          "name": "stdout",
          "text": [
            "[2. 2. 2. 2. 2.]\n",
            "tensor([2., 2., 2., 2., 2.], dtype=torch.float64)\n"
          ]
        }
      ],
      "source": [
        "import numpy as np\n",
        "a = np.ones(5)\n",
        "b = torch.from_numpy(a)\n",
        "np.add(a, 1, out=a)\n",
        "print(a)\n",
        "print(b)"
      ]
    },
    {
      "cell_type": "markdown",
      "metadata": {
        "id": "szvnDJUvx_bb"
      },
      "source": [
        "\n",
        "Все тензоры на CPU за исключением CharTensor поддерживают преобразование в NumPy и обратно.\n",
        "\n",
        "CUDA тензоры\n",
        "------------\n",
        "\n",
        "Тензоры могут быть перемещены на любой процессор методом ``.to``\n",
        "\n"
      ]
    },
    {
      "cell_type": "code",
      "execution_count": 25,
      "metadata": {
        "colab": {
          "base_uri": "https://localhost:8080/"
        },
        "id": "cZwZ9cuUx_bc",
        "outputId": "bd89c958-729f-431c-bb86-1440c91f4ddc"
      },
      "outputs": [
        {
          "output_type": "stream",
          "name": "stdout",
          "text": [
            "tensor([1.2251], device='cuda:0')\n",
            "tensor([1.2251], dtype=torch.float64)\n"
          ]
        }
      ],
      "source": [
        "# Данный код выполняется только, если доступен CUDA\n",
        "# Для смены реализации тензора на и с GPU используется объект ``torch.device``\n",
        "if torch.cuda.is_available():\n",
        "    device = torch.device(\"cuda\")          # это объект device типа CUDA  \n",
        "    y = torch.ones_like(x, device=device)  # создает тензор на GPU\n",
        "    x = x.to(device)                       # можно использовать ``.to(\"cuda\")``\n",
        "    z = x + y\n",
        "    print(z)\n",
        "    print(z.to(\"cpu\", torch.double))       # метод ``.to`` может также менять dtype!"
      ]
    },
    {
      "cell_type": "markdown",
      "metadata": {
        "id": "5JnShHiOcqzk"
      },
      "source": [
        "Соединение тензоров\n",
        "--------\n",
        "\n",
        "Метод `torch.cat` соединяет тензоры вдоль заданного направления. Другой способ использовать `torch.stack`."
      ]
    },
    {
      "cell_type": "code",
      "execution_count": null,
      "metadata": {
        "colab": {
          "base_uri": "https://localhost:8080/"
        },
        "id": "Un2eCuihcYH-",
        "outputId": "e583b608-72a2-4803-9872-b97e47f69c13"
      },
      "outputs": [
        {
          "name": "stdout",
          "output_type": "stream",
          "text": [
            "tensor([1., 1., 1., 1., 1., 2., 2., 2., 2., 2., 3., 3., 3., 3., 3.])\n"
          ]
        }
      ],
      "source": [
        "x=torch.ones(5)\n",
        "y=x.add(1)\n",
        "z=x.add(2)\n",
        "t1 = torch.cat([x, y, z])\n",
        "print(t1)"
      ]
    },
    {
      "cell_type": "code",
      "execution_count": null,
      "metadata": {
        "colab": {
          "base_uri": "https://localhost:8080/"
        },
        "id": "RP2J8iFGwmrO",
        "outputId": "f295e9f7-7d8a-47de-cf5d-6e1b43f3366b"
      },
      "outputs": [
        {
          "name": "stdout",
          "output_type": "stream",
          "text": [
            "tensor([[1., 1., 1., 1., 1.],\n",
            "        [2., 2., 2., 2., 2.],\n",
            "        [3., 3., 3., 3., 3.]])\n"
          ]
        }
      ],
      "source": [
        "t2=torch.vstack([x,y,z])\n",
        "print(t2)"
      ]
    },
    {
      "cell_type": "code",
      "execution_count": 26,
      "metadata": {
        "colab": {
          "base_uri": "https://localhost:8080/"
        },
        "id": "c-0XOiOfxMlb",
        "outputId": "72b851cd-a19a-4fa9-e6e4-9e256b57359a"
      },
      "outputs": [
        {
          "output_type": "stream",
          "name": "stdout",
          "text": [
            "tensor([[0.2251, 1.0000, 1.2251]], device='cuda:0')\n"
          ]
        }
      ],
      "source": [
        "t3=torch.hstack([x.view(-1,1),y.view(-1,1),z.view(-1,1)])\n",
        "print(t3)"
      ]
    },
    {
      "cell_type": "markdown",
      "metadata": {
        "id": "VFLFDFnbxh9p"
      },
      "source": [
        "Преобразование одноэлементных тензоров.\n",
        "----\n",
        "Рссмотрим одноэлементный тензор, полученный, например агрегацией всех элементов тензора в одно значение, его можно сразу же перевести в численное значение Python методом `item()`:"
      ]
    },
    {
      "cell_type": "code",
      "execution_count": 27,
      "metadata": {
        "colab": {
          "base_uri": "https://localhost:8080/"
        },
        "id": "b3Nm1BK0xcOt",
        "outputId": "b4c46f9c-87ac-439d-e415-a6ee53286f7f"
      },
      "outputs": [
        {
          "output_type": "stream",
          "name": "stdout",
          "text": [
            "0.22505801916122437 <class 'float'>\n"
          ]
        }
      ],
      "source": [
        "agg = x.sum()\n",
        "agg_item = agg.item()  \n",
        "print(agg_item, type(agg_item))"
      ]
    },
    {
      "cell_type": "markdown",
      "metadata": {
        "id": "V8WJwCzFzWj1"
      },
      "source": [
        "Операции на месте\n",
        "----\n",
        "Операции, которые сохраняют значение вычисления в переменной которая участвовала в вычислениях называются операциями на месте. Они обозначаются суффиксом `_`. Например: `x.copy_(y)`, `x.t_()`, изменят `x`. \n",
        "\n",
        "Примечание: Операции на месте сохраняют немного памяти, но могут вызвать проблемы при вычислении производных потому, что мгновенно теряют предыдущее значение, поэтому использование их не поощеряется.\n"
      ]
    },
    {
      "cell_type": "code",
      "execution_count": 28,
      "metadata": {
        "colab": {
          "base_uri": "https://localhost:8080/"
        },
        "id": "Mqffxj1tzUrS",
        "outputId": "af7a78f9-c9da-4d37-e8cc-ece83f70f6d0"
      },
      "outputs": [
        {
          "output_type": "stream",
          "name": "stdout",
          "text": [
            "tensor([0.2251], device='cuda:0') \n",
            "\n",
            "tensor([5.2251], device='cuda:0')\n"
          ]
        }
      ],
      "source": [
        "print(x, \"\\n\")\n",
        "x.add_(5)\n",
        "print(x)"
      ]
    },
    {
      "cell_type": "markdown",
      "metadata": {
        "id": "VCv9p73aTPbd"
      },
      "source": [
        "Матричные операции\n",
        "---\n"
      ]
    },
    {
      "cell_type": "markdown",
      "metadata": {
        "id": "KfNkLnFLnkJW"
      },
      "source": [
        "## Задание 1.\n",
        "Создать тензор размера 5 на 5, содержащий случайный набор числел в ячейках на диагонали и выше, ниже диагонали содержащий 0.\n"
      ]
    },
    {
      "cell_type": "code",
      "source": [
        "import torch\n",
        "\n",
        "tensor = torch.triu(torch.rand((5, 5)))\n",
        "print(tensor)"
      ],
      "metadata": {
        "colab": {
          "base_uri": "https://localhost:8080/"
        },
        "id": "Am0PpGgv8BaR",
        "outputId": "bb13d8a4-e8d8-4414-b02d-656c1677c63a"
      },
      "execution_count": 32,
      "outputs": [
        {
          "output_type": "stream",
          "name": "stdout",
          "text": [
            "tensor([[0.8355, 0.0699, 0.2696, 0.3175, 0.7489],\n",
            "        [0.0000, 0.8252, 0.6542, 0.9899, 0.8327],\n",
            "        [0.0000, 0.0000, 0.0302, 0.0814, 0.2342],\n",
            "        [0.0000, 0.0000, 0.0000, 0.5901, 0.0161],\n",
            "        [0.0000, 0.0000, 0.0000, 0.0000, 0.7291]])\n"
          ]
        }
      ]
    },
    {
      "cell_type": "markdown",
      "metadata": {
        "id": "L4MdZy1fqcpj"
      },
      "source": [
        "## Задание 2.\n",
        "Найти тезор обратный этому тензору.Задание 2.\n",
        "Найти тезор обратный этому тензору."
      ]
    },
    {
      "cell_type": "code",
      "source": [
        "inversed = torch.inverse(tensor)\n",
        "print(inversed)"
      ],
      "metadata": {
        "colab": {
          "base_uri": "https://localhost:8080/"
        },
        "id": "Rkmf72DR8Fzp",
        "outputId": "cae63c86-d3af-4855-f793-14080cf6ff82"
      },
      "execution_count": 33,
      "outputs": [
        {
          "output_type": "stream",
          "name": "stdout",
          "text": [
            "tensor([[ 1.1969e+00, -1.0141e-01, -8.4957e+00,  6.9803e-01,  1.6003e+00],\n",
            "        [-0.0000e+00,  1.2119e+00, -2.6276e+01,  1.5917e+00,  7.0221e+00],\n",
            "        [ 0.0000e+00, -0.0000e+00,  3.3144e+01, -4.5717e+00, -1.0546e+01],\n",
            "        [ 0.0000e+00, -2.0730e-08, -5.4103e-06,  1.6945e+00, -3.7472e-02],\n",
            "        [ 0.0000e+00, -5.3748e-09, -6.9357e-07,  1.1094e-07,  1.3715e+00]])\n"
          ]
        }
      ]
    },
    {
      "cell_type": "markdown",
      "metadata": {
        "id": "ztjs0eUY0FXG",
        "tags": []
      },
      "source": [
        "Задание 3.\n",
        "---\n",
        "Сгенерируйте тензор случайных значений формы (10,10) с нормальным распределением значений со средним 2, и стандартным отклонением 3. Постройте матрицу парных расстояний между строками этой матрицы, найдите средние и стандартное отклонение нового тензора."
      ]
    },
    {
      "cell_type": "code",
      "source": [
        "tensor = torch.randn(10, 10) * 3 + 2\n",
        "print(\"Mean: \", torch.mean(tensor))\n",
        "print(\"Standard Deviation: \", torch.std(tensor))"
      ],
      "metadata": {
        "colab": {
          "base_uri": "https://localhost:8080/"
        },
        "id": "HbSZ2y_G8Uhl",
        "outputId": "0388f538-9605-47f9-9888-e8982b88f06d"
      },
      "execution_count": 39,
      "outputs": [
        {
          "output_type": "stream",
          "name": "stdout",
          "text": [
            "Mean:  tensor(1.5731)\n",
            "Standard Deviation:  tensor(2.7981)\n"
          ]
        }
      ]
    },
    {
      "cell_type": "code",
      "source": [
        "dev = torch.cdist(tensor, tensor)\n",
        "print(\"Mean: \", torch.mean(dev))\n",
        "print(\"Standard Deviation: \", torch.std(dev))"
      ],
      "metadata": {
        "colab": {
          "base_uri": "https://localhost:8080/"
        },
        "id": "8n3qBeaA9Cu9",
        "outputId": "3caf3e9e-c207-4ead-f432-5b7937303b5e"
      },
      "execution_count": 40,
      "outputs": [
        {
          "output_type": "stream",
          "name": "stdout",
          "text": [
            "Mean:  tensor(11.0053)\n",
            "Standard Deviation:  tensor(4.2861)\n"
          ]
        }
      ]
    },
    {
      "cell_type": "markdown",
      "metadata": {
        "id": "3MH1d0wN3JBf"
      },
      "source": [
        "Задание 4\n",
        "---\n",
        "Создайте тензор A, используя значения range(9). Разбить тензор на 3 одинаковых тензора a,b,c разбить тензор A на два тензора d, e, содержащие 5 и 4 значения из A, соединить тензоры d и e в обратном порядке. Составить из тензоров a, b, c тензор формы (3,3)."
      ]
    },
    {
      "cell_type": "code",
      "source": [
        "A_values = range(9)\n",
        "A = torch.tensor(A_values)\n",
        "print(\"Start data: \", A)\n",
        "\n",
        "a, b, c = torch.split(A, 3)\n",
        "print(\"a: \",a)\n",
        "print(\"b: \",b)\n",
        "print(\"c: \",c)\n",
        "\n",
        "d, e = torch.split(A, [5, 4])\n",
        "print(\"d: \",d)\n",
        "print(\"e: \",e)\n",
        "\n",
        "de = torch.cat((e, d), dim=0)\n",
        "print(\"de: \",de)"
      ],
      "metadata": {
        "colab": {
          "base_uri": "https://localhost:8080/"
        },
        "id": "t62pG__49R-P",
        "outputId": "fdf63736-3a22-4574-aa83-902926567722"
      },
      "execution_count": 41,
      "outputs": [
        {
          "output_type": "stream",
          "name": "stdout",
          "text": [
            "Start data:  tensor([0, 1, 2, 3, 4, 5, 6, 7, 8])\n",
            "a:  tensor([0, 1, 2])\n",
            "b:  tensor([3, 4, 5])\n",
            "c:  tensor([6, 7, 8])\n",
            "d:  tensor([0, 1, 2, 3, 4])\n",
            "e:  tensor([5, 6, 7, 8])\n",
            "de:  tensor([5, 6, 7, 8, 0, 1, 2, 3, 4])\n"
          ]
        }
      ]
    },
    {
      "cell_type": "markdown",
      "metadata": {
        "id": "lH61kI997VZz"
      },
      "source": [
        "Задание 5\n",
        "---\n",
        "Проверить скорость выполнения матричного умножения на CPU и GPU. "
      ]
    },
    {
      "cell_type": "code",
      "source": [
        "import time\n",
        "\n",
        "a = torch.randn(10000, 10000)\n",
        "b = torch.randn(10000, 10000)\n",
        "\n",
        "start_time = time.time()\n",
        "c = torch.matmul(a, b)\n",
        "end_time = time.time()\n",
        "execution_time_cpu = end_time - start_time\n",
        "\n",
        "print(\"Execution time for CPU:\", execution_time_cpu)\n",
        "\n",
        "a_gpu = a.cuda()\n",
        "b_gpu = b.cuda()\n",
        "start_time = time.time()\n",
        "c_gpu = torch.matmul(a_gpu, b_gpu)\n",
        "end_time = time.time()\n",
        "execution_time_gpu = end_time - start_time\n",
        "\n",
        "print(\"Execution time for GPU:\", execution_time_gpu)"
      ],
      "metadata": {
        "colab": {
          "base_uri": "https://localhost:8080/"
        },
        "id": "6nw_IINi9uBV",
        "outputId": "fd0e4751-2803-4466-b2cb-a0e0a2360136"
      },
      "execution_count": 42,
      "outputs": [
        {
          "output_type": "stream",
          "name": "stdout",
          "text": [
            "Execution time for CPU: 26.814736127853394\n",
            "Execution time for GPU: 3.109980344772339\n"
          ]
        }
      ]
    }
  ],
  "metadata": {
    "accelerator": "GPU",
    "colab": {
      "provenance": []
    },
    "kernelspec": {
      "display_name": "Python 3 (ipykernel)",
      "language": "python",
      "name": "python3"
    },
    "language_info": {
      "codemirror_mode": {
        "name": "ipython",
        "version": 3
      },
      "file_extension": ".py",
      "mimetype": "text/x-python",
      "name": "python",
      "nbconvert_exporter": "python",
      "pygments_lexer": "ipython3",
      "version": "3.7.13"
    }
  },
  "nbformat": 4,
  "nbformat_minor": 0
}