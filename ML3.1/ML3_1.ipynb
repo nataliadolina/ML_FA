{
  "nbformat": 4,
  "nbformat_minor": 0,
  "metadata": {
    "colab": {
      "provenance": []
    },
    "kernelspec": {
      "name": "python3",
      "display_name": "Python 3"
    },
    "language_info": {
      "name": "python"
    },
    "widgets": {
      "application/vnd.jupyter.widget-state+json": {
        "0c0d6cfd38be4dee88eaca7c958fcb21": {
          "model_module": "@jupyter-widgets/controls",
          "model_name": "HBoxModel",
          "model_module_version": "1.5.0",
          "state": {
            "_dom_classes": [],
            "_model_module": "@jupyter-widgets/controls",
            "_model_module_version": "1.5.0",
            "_model_name": "HBoxModel",
            "_view_count": null,
            "_view_module": "@jupyter-widgets/controls",
            "_view_module_version": "1.5.0",
            "_view_name": "HBoxView",
            "box_style": "",
            "children": [
              "IPY_MODEL_cac578e4f52542b0a0e05a09ffaca099",
              "IPY_MODEL_0e8d7c63962f46d886c2b1535f80f173",
              "IPY_MODEL_0181805977654908810e2136eeb1c5e4"
            ],
            "layout": "IPY_MODEL_40f15be54f3d4457afdb04a960f1b006"
          }
        },
        "cac578e4f52542b0a0e05a09ffaca099": {
          "model_module": "@jupyter-widgets/controls",
          "model_name": "HTMLModel",
          "model_module_version": "1.5.0",
          "state": {
            "_dom_classes": [],
            "_model_module": "@jupyter-widgets/controls",
            "_model_module_version": "1.5.0",
            "_model_name": "HTMLModel",
            "_view_count": null,
            "_view_module": "@jupyter-widgets/controls",
            "_view_module_version": "1.5.0",
            "_view_name": "HTMLView",
            "description": "",
            "description_tooltip": null,
            "layout": "IPY_MODEL_2a6ab3c40a5c44b396b7574781d60153",
            "placeholder": "​",
            "style": "IPY_MODEL_333f016d27be4d589a5d2aaacdd094e9",
            "value": "100%"
          }
        },
        "0e8d7c63962f46d886c2b1535f80f173": {
          "model_module": "@jupyter-widgets/controls",
          "model_name": "FloatProgressModel",
          "model_module_version": "1.5.0",
          "state": {
            "_dom_classes": [],
            "_model_module": "@jupyter-widgets/controls",
            "_model_module_version": "1.5.0",
            "_model_name": "FloatProgressModel",
            "_view_count": null,
            "_view_module": "@jupyter-widgets/controls",
            "_view_module_version": "1.5.0",
            "_view_name": "ProgressView",
            "bar_style": "success",
            "description": "",
            "description_tooltip": null,
            "layout": "IPY_MODEL_2d3713c4bb484444944a7fb05e3a12be",
            "max": 50,
            "min": 0,
            "orientation": "horizontal",
            "style": "IPY_MODEL_b0f76297d0d747d793619d9bcebcdb6b",
            "value": 50
          }
        },
        "0181805977654908810e2136eeb1c5e4": {
          "model_module": "@jupyter-widgets/controls",
          "model_name": "HTMLModel",
          "model_module_version": "1.5.0",
          "state": {
            "_dom_classes": [],
            "_model_module": "@jupyter-widgets/controls",
            "_model_module_version": "1.5.0",
            "_model_name": "HTMLModel",
            "_view_count": null,
            "_view_module": "@jupyter-widgets/controls",
            "_view_module_version": "1.5.0",
            "_view_name": "HTMLView",
            "description": "",
            "description_tooltip": null,
            "layout": "IPY_MODEL_41c148f0f89248d8876e93ea5a56e46f",
            "placeholder": "​",
            "style": "IPY_MODEL_0279c6fd69384e33bf444362518cd9d7",
            "value": " 50/50 [01:44&lt;00:00,  4.66s/it]"
          }
        },
        "40f15be54f3d4457afdb04a960f1b006": {
          "model_module": "@jupyter-widgets/base",
          "model_name": "LayoutModel",
          "model_module_version": "1.2.0",
          "state": {
            "_model_module": "@jupyter-widgets/base",
            "_model_module_version": "1.2.0",
            "_model_name": "LayoutModel",
            "_view_count": null,
            "_view_module": "@jupyter-widgets/base",
            "_view_module_version": "1.2.0",
            "_view_name": "LayoutView",
            "align_content": null,
            "align_items": null,
            "align_self": null,
            "border": null,
            "bottom": null,
            "display": null,
            "flex": null,
            "flex_flow": null,
            "grid_area": null,
            "grid_auto_columns": null,
            "grid_auto_flow": null,
            "grid_auto_rows": null,
            "grid_column": null,
            "grid_gap": null,
            "grid_row": null,
            "grid_template_areas": null,
            "grid_template_columns": null,
            "grid_template_rows": null,
            "height": null,
            "justify_content": null,
            "justify_items": null,
            "left": null,
            "margin": null,
            "max_height": null,
            "max_width": null,
            "min_height": null,
            "min_width": null,
            "object_fit": null,
            "object_position": null,
            "order": null,
            "overflow": null,
            "overflow_x": null,
            "overflow_y": null,
            "padding": null,
            "right": null,
            "top": null,
            "visibility": null,
            "width": null
          }
        },
        "2a6ab3c40a5c44b396b7574781d60153": {
          "model_module": "@jupyter-widgets/base",
          "model_name": "LayoutModel",
          "model_module_version": "1.2.0",
          "state": {
            "_model_module": "@jupyter-widgets/base",
            "_model_module_version": "1.2.0",
            "_model_name": "LayoutModel",
            "_view_count": null,
            "_view_module": "@jupyter-widgets/base",
            "_view_module_version": "1.2.0",
            "_view_name": "LayoutView",
            "align_content": null,
            "align_items": null,
            "align_self": null,
            "border": null,
            "bottom": null,
            "display": null,
            "flex": null,
            "flex_flow": null,
            "grid_area": null,
            "grid_auto_columns": null,
            "grid_auto_flow": null,
            "grid_auto_rows": null,
            "grid_column": null,
            "grid_gap": null,
            "grid_row": null,
            "grid_template_areas": null,
            "grid_template_columns": null,
            "grid_template_rows": null,
            "height": null,
            "justify_content": null,
            "justify_items": null,
            "left": null,
            "margin": null,
            "max_height": null,
            "max_width": null,
            "min_height": null,
            "min_width": null,
            "object_fit": null,
            "object_position": null,
            "order": null,
            "overflow": null,
            "overflow_x": null,
            "overflow_y": null,
            "padding": null,
            "right": null,
            "top": null,
            "visibility": null,
            "width": null
          }
        },
        "333f016d27be4d589a5d2aaacdd094e9": {
          "model_module": "@jupyter-widgets/controls",
          "model_name": "DescriptionStyleModel",
          "model_module_version": "1.5.0",
          "state": {
            "_model_module": "@jupyter-widgets/controls",
            "_model_module_version": "1.5.0",
            "_model_name": "DescriptionStyleModel",
            "_view_count": null,
            "_view_module": "@jupyter-widgets/base",
            "_view_module_version": "1.2.0",
            "_view_name": "StyleView",
            "description_width": ""
          }
        },
        "2d3713c4bb484444944a7fb05e3a12be": {
          "model_module": "@jupyter-widgets/base",
          "model_name": "LayoutModel",
          "model_module_version": "1.2.0",
          "state": {
            "_model_module": "@jupyter-widgets/base",
            "_model_module_version": "1.2.0",
            "_model_name": "LayoutModel",
            "_view_count": null,
            "_view_module": "@jupyter-widgets/base",
            "_view_module_version": "1.2.0",
            "_view_name": "LayoutView",
            "align_content": null,
            "align_items": null,
            "align_self": null,
            "border": null,
            "bottom": null,
            "display": null,
            "flex": null,
            "flex_flow": null,
            "grid_area": null,
            "grid_auto_columns": null,
            "grid_auto_flow": null,
            "grid_auto_rows": null,
            "grid_column": null,
            "grid_gap": null,
            "grid_row": null,
            "grid_template_areas": null,
            "grid_template_columns": null,
            "grid_template_rows": null,
            "height": null,
            "justify_content": null,
            "justify_items": null,
            "left": null,
            "margin": null,
            "max_height": null,
            "max_width": null,
            "min_height": null,
            "min_width": null,
            "object_fit": null,
            "object_position": null,
            "order": null,
            "overflow": null,
            "overflow_x": null,
            "overflow_y": null,
            "padding": null,
            "right": null,
            "top": null,
            "visibility": null,
            "width": null
          }
        },
        "b0f76297d0d747d793619d9bcebcdb6b": {
          "model_module": "@jupyter-widgets/controls",
          "model_name": "ProgressStyleModel",
          "model_module_version": "1.5.0",
          "state": {
            "_model_module": "@jupyter-widgets/controls",
            "_model_module_version": "1.5.0",
            "_model_name": "ProgressStyleModel",
            "_view_count": null,
            "_view_module": "@jupyter-widgets/base",
            "_view_module_version": "1.2.0",
            "_view_name": "StyleView",
            "bar_color": null,
            "description_width": ""
          }
        },
        "41c148f0f89248d8876e93ea5a56e46f": {
          "model_module": "@jupyter-widgets/base",
          "model_name": "LayoutModel",
          "model_module_version": "1.2.0",
          "state": {
            "_model_module": "@jupyter-widgets/base",
            "_model_module_version": "1.2.0",
            "_model_name": "LayoutModel",
            "_view_count": null,
            "_view_module": "@jupyter-widgets/base",
            "_view_module_version": "1.2.0",
            "_view_name": "LayoutView",
            "align_content": null,
            "align_items": null,
            "align_self": null,
            "border": null,
            "bottom": null,
            "display": null,
            "flex": null,
            "flex_flow": null,
            "grid_area": null,
            "grid_auto_columns": null,
            "grid_auto_flow": null,
            "grid_auto_rows": null,
            "grid_column": null,
            "grid_gap": null,
            "grid_row": null,
            "grid_template_areas": null,
            "grid_template_columns": null,
            "grid_template_rows": null,
            "height": null,
            "justify_content": null,
            "justify_items": null,
            "left": null,
            "margin": null,
            "max_height": null,
            "max_width": null,
            "min_height": null,
            "min_width": null,
            "object_fit": null,
            "object_position": null,
            "order": null,
            "overflow": null,
            "overflow_x": null,
            "overflow_y": null,
            "padding": null,
            "right": null,
            "top": null,
            "visibility": null,
            "width": null
          }
        },
        "0279c6fd69384e33bf444362518cd9d7": {
          "model_module": "@jupyter-widgets/controls",
          "model_name": "DescriptionStyleModel",
          "model_module_version": "1.5.0",
          "state": {
            "_model_module": "@jupyter-widgets/controls",
            "_model_module_version": "1.5.0",
            "_model_name": "DescriptionStyleModel",
            "_view_count": null,
            "_view_module": "@jupyter-widgets/base",
            "_view_module_version": "1.2.0",
            "_view_name": "StyleView",
            "description_width": ""
          }
        },
        "c374584b72cd4eaebd88de4698312d39": {
          "model_module": "@jupyter-widgets/controls",
          "model_name": "HBoxModel",
          "model_module_version": "1.5.0",
          "state": {
            "_dom_classes": [],
            "_model_module": "@jupyter-widgets/controls",
            "_model_module_version": "1.5.0",
            "_model_name": "HBoxModel",
            "_view_count": null,
            "_view_module": "@jupyter-widgets/controls",
            "_view_module_version": "1.5.0",
            "_view_name": "HBoxView",
            "box_style": "",
            "children": [
              "IPY_MODEL_f88457ac8000409e8c66aec0512c2a2d",
              "IPY_MODEL_130125e053244579ab8c9d283df96780",
              "IPY_MODEL_cd07775b5989478284f3e6a1098f7512"
            ],
            "layout": "IPY_MODEL_70ab11ad58dc4dbfa4ce44317202ec8d"
          }
        },
        "f88457ac8000409e8c66aec0512c2a2d": {
          "model_module": "@jupyter-widgets/controls",
          "model_name": "HTMLModel",
          "model_module_version": "1.5.0",
          "state": {
            "_dom_classes": [],
            "_model_module": "@jupyter-widgets/controls",
            "_model_module_version": "1.5.0",
            "_model_name": "HTMLModel",
            "_view_count": null,
            "_view_module": "@jupyter-widgets/controls",
            "_view_module_version": "1.5.0",
            "_view_name": "HTMLView",
            "description": "",
            "description_tooltip": null,
            "layout": "IPY_MODEL_a2e61092008b4d2d89b248230e8bf3d5",
            "placeholder": "​",
            "style": "IPY_MODEL_2b3b20814cc04a43a9e5243e4cb07402",
            "value": "100%"
          }
        },
        "130125e053244579ab8c9d283df96780": {
          "model_module": "@jupyter-widgets/controls",
          "model_name": "FloatProgressModel",
          "model_module_version": "1.5.0",
          "state": {
            "_dom_classes": [],
            "_model_module": "@jupyter-widgets/controls",
            "_model_module_version": "1.5.0",
            "_model_name": "FloatProgressModel",
            "_view_count": null,
            "_view_module": "@jupyter-widgets/controls",
            "_view_module_version": "1.5.0",
            "_view_name": "ProgressView",
            "bar_style": "success",
            "description": "",
            "description_tooltip": null,
            "layout": "IPY_MODEL_15712c0cceeb46d2a132c19b6de73c66",
            "max": 500,
            "min": 0,
            "orientation": "horizontal",
            "style": "IPY_MODEL_e20cdd7f04034f5b96e545d08ded2e43",
            "value": 500
          }
        },
        "cd07775b5989478284f3e6a1098f7512": {
          "model_module": "@jupyter-widgets/controls",
          "model_name": "HTMLModel",
          "model_module_version": "1.5.0",
          "state": {
            "_dom_classes": [],
            "_model_module": "@jupyter-widgets/controls",
            "_model_module_version": "1.5.0",
            "_model_name": "HTMLModel",
            "_view_count": null,
            "_view_module": "@jupyter-widgets/controls",
            "_view_module_version": "1.5.0",
            "_view_name": "HTMLView",
            "description": "",
            "description_tooltip": null,
            "layout": "IPY_MODEL_c20e1fe84e024bfd8bfc7d0710cc27bf",
            "placeholder": "​",
            "style": "IPY_MODEL_abe3097414204c4baec8ffb4d5e4cc98",
            "value": " 500/500 [00:04&lt;00:00, 133.54it/s]"
          }
        },
        "70ab11ad58dc4dbfa4ce44317202ec8d": {
          "model_module": "@jupyter-widgets/base",
          "model_name": "LayoutModel",
          "model_module_version": "1.2.0",
          "state": {
            "_model_module": "@jupyter-widgets/base",
            "_model_module_version": "1.2.0",
            "_model_name": "LayoutModel",
            "_view_count": null,
            "_view_module": "@jupyter-widgets/base",
            "_view_module_version": "1.2.0",
            "_view_name": "LayoutView",
            "align_content": null,
            "align_items": null,
            "align_self": null,
            "border": null,
            "bottom": null,
            "display": null,
            "flex": null,
            "flex_flow": null,
            "grid_area": null,
            "grid_auto_columns": null,
            "grid_auto_flow": null,
            "grid_auto_rows": null,
            "grid_column": null,
            "grid_gap": null,
            "grid_row": null,
            "grid_template_areas": null,
            "grid_template_columns": null,
            "grid_template_rows": null,
            "height": null,
            "justify_content": null,
            "justify_items": null,
            "left": null,
            "margin": null,
            "max_height": null,
            "max_width": null,
            "min_height": null,
            "min_width": null,
            "object_fit": null,
            "object_position": null,
            "order": null,
            "overflow": null,
            "overflow_x": null,
            "overflow_y": null,
            "padding": null,
            "right": null,
            "top": null,
            "visibility": null,
            "width": null
          }
        },
        "a2e61092008b4d2d89b248230e8bf3d5": {
          "model_module": "@jupyter-widgets/base",
          "model_name": "LayoutModel",
          "model_module_version": "1.2.0",
          "state": {
            "_model_module": "@jupyter-widgets/base",
            "_model_module_version": "1.2.0",
            "_model_name": "LayoutModel",
            "_view_count": null,
            "_view_module": "@jupyter-widgets/base",
            "_view_module_version": "1.2.0",
            "_view_name": "LayoutView",
            "align_content": null,
            "align_items": null,
            "align_self": null,
            "border": null,
            "bottom": null,
            "display": null,
            "flex": null,
            "flex_flow": null,
            "grid_area": null,
            "grid_auto_columns": null,
            "grid_auto_flow": null,
            "grid_auto_rows": null,
            "grid_column": null,
            "grid_gap": null,
            "grid_row": null,
            "grid_template_areas": null,
            "grid_template_columns": null,
            "grid_template_rows": null,
            "height": null,
            "justify_content": null,
            "justify_items": null,
            "left": null,
            "margin": null,
            "max_height": null,
            "max_width": null,
            "min_height": null,
            "min_width": null,
            "object_fit": null,
            "object_position": null,
            "order": null,
            "overflow": null,
            "overflow_x": null,
            "overflow_y": null,
            "padding": null,
            "right": null,
            "top": null,
            "visibility": null,
            "width": null
          }
        },
        "2b3b20814cc04a43a9e5243e4cb07402": {
          "model_module": "@jupyter-widgets/controls",
          "model_name": "DescriptionStyleModel",
          "model_module_version": "1.5.0",
          "state": {
            "_model_module": "@jupyter-widgets/controls",
            "_model_module_version": "1.5.0",
            "_model_name": "DescriptionStyleModel",
            "_view_count": null,
            "_view_module": "@jupyter-widgets/base",
            "_view_module_version": "1.2.0",
            "_view_name": "StyleView",
            "description_width": ""
          }
        },
        "15712c0cceeb46d2a132c19b6de73c66": {
          "model_module": "@jupyter-widgets/base",
          "model_name": "LayoutModel",
          "model_module_version": "1.2.0",
          "state": {
            "_model_module": "@jupyter-widgets/base",
            "_model_module_version": "1.2.0",
            "_model_name": "LayoutModel",
            "_view_count": null,
            "_view_module": "@jupyter-widgets/base",
            "_view_module_version": "1.2.0",
            "_view_name": "LayoutView",
            "align_content": null,
            "align_items": null,
            "align_self": null,
            "border": null,
            "bottom": null,
            "display": null,
            "flex": null,
            "flex_flow": null,
            "grid_area": null,
            "grid_auto_columns": null,
            "grid_auto_flow": null,
            "grid_auto_rows": null,
            "grid_column": null,
            "grid_gap": null,
            "grid_row": null,
            "grid_template_areas": null,
            "grid_template_columns": null,
            "grid_template_rows": null,
            "height": null,
            "justify_content": null,
            "justify_items": null,
            "left": null,
            "margin": null,
            "max_height": null,
            "max_width": null,
            "min_height": null,
            "min_width": null,
            "object_fit": null,
            "object_position": null,
            "order": null,
            "overflow": null,
            "overflow_x": null,
            "overflow_y": null,
            "padding": null,
            "right": null,
            "top": null,
            "visibility": null,
            "width": null
          }
        },
        "e20cdd7f04034f5b96e545d08ded2e43": {
          "model_module": "@jupyter-widgets/controls",
          "model_name": "ProgressStyleModel",
          "model_module_version": "1.5.0",
          "state": {
            "_model_module": "@jupyter-widgets/controls",
            "_model_module_version": "1.5.0",
            "_model_name": "ProgressStyleModel",
            "_view_count": null,
            "_view_module": "@jupyter-widgets/base",
            "_view_module_version": "1.2.0",
            "_view_name": "StyleView",
            "bar_color": null,
            "description_width": ""
          }
        },
        "c20e1fe84e024bfd8bfc7d0710cc27bf": {
          "model_module": "@jupyter-widgets/base",
          "model_name": "LayoutModel",
          "model_module_version": "1.2.0",
          "state": {
            "_model_module": "@jupyter-widgets/base",
            "_model_module_version": "1.2.0",
            "_model_name": "LayoutModel",
            "_view_count": null,
            "_view_module": "@jupyter-widgets/base",
            "_view_module_version": "1.2.0",
            "_view_name": "LayoutView",
            "align_content": null,
            "align_items": null,
            "align_self": null,
            "border": null,
            "bottom": null,
            "display": null,
            "flex": null,
            "flex_flow": null,
            "grid_area": null,
            "grid_auto_columns": null,
            "grid_auto_flow": null,
            "grid_auto_rows": null,
            "grid_column": null,
            "grid_gap": null,
            "grid_row": null,
            "grid_template_areas": null,
            "grid_template_columns": null,
            "grid_template_rows": null,
            "height": null,
            "justify_content": null,
            "justify_items": null,
            "left": null,
            "margin": null,
            "max_height": null,
            "max_width": null,
            "min_height": null,
            "min_width": null,
            "object_fit": null,
            "object_position": null,
            "order": null,
            "overflow": null,
            "overflow_x": null,
            "overflow_y": null,
            "padding": null,
            "right": null,
            "top": null,
            "visibility": null,
            "width": null
          }
        },
        "abe3097414204c4baec8ffb4d5e4cc98": {
          "model_module": "@jupyter-widgets/controls",
          "model_name": "DescriptionStyleModel",
          "model_module_version": "1.5.0",
          "state": {
            "_model_module": "@jupyter-widgets/controls",
            "_model_module_version": "1.5.0",
            "_model_name": "DescriptionStyleModel",
            "_view_count": null,
            "_view_module": "@jupyter-widgets/base",
            "_view_module_version": "1.2.0",
            "_view_name": "StyleView",
            "description_width": ""
          }
        },
        "abb75ce67dd544229bfbc62d1ea34c61": {
          "model_module": "@jupyter-widgets/controls",
          "model_name": "HBoxModel",
          "model_module_version": "1.5.0",
          "state": {
            "_dom_classes": [],
            "_model_module": "@jupyter-widgets/controls",
            "_model_module_version": "1.5.0",
            "_model_name": "HBoxModel",
            "_view_count": null,
            "_view_module": "@jupyter-widgets/controls",
            "_view_module_version": "1.5.0",
            "_view_name": "HBoxView",
            "box_style": "",
            "children": [
              "IPY_MODEL_4f5bb13765b948bd858b06e7214a9729",
              "IPY_MODEL_48220d06cc3b4cbba2457509e52f3e0e",
              "IPY_MODEL_0ee7363aa53944edb2d392abbdc27f84"
            ],
            "layout": "IPY_MODEL_766992bd44e14a328b21219b929bd79a"
          }
        },
        "4f5bb13765b948bd858b06e7214a9729": {
          "model_module": "@jupyter-widgets/controls",
          "model_name": "HTMLModel",
          "model_module_version": "1.5.0",
          "state": {
            "_dom_classes": [],
            "_model_module": "@jupyter-widgets/controls",
            "_model_module_version": "1.5.0",
            "_model_name": "HTMLModel",
            "_view_count": null,
            "_view_module": "@jupyter-widgets/controls",
            "_view_module_version": "1.5.0",
            "_view_name": "HTMLView",
            "description": "",
            "description_tooltip": null,
            "layout": "IPY_MODEL_2b816438b8a3460daef0def8d8cf1498",
            "placeholder": "​",
            "style": "IPY_MODEL_740cbcc3d47a4be78c2473c5eb2cfa56",
            "value": "100%"
          }
        },
        "48220d06cc3b4cbba2457509e52f3e0e": {
          "model_module": "@jupyter-widgets/controls",
          "model_name": "FloatProgressModel",
          "model_module_version": "1.5.0",
          "state": {
            "_dom_classes": [],
            "_model_module": "@jupyter-widgets/controls",
            "_model_module_version": "1.5.0",
            "_model_name": "FloatProgressModel",
            "_view_count": null,
            "_view_module": "@jupyter-widgets/controls",
            "_view_module_version": "1.5.0",
            "_view_name": "ProgressView",
            "bar_style": "success",
            "description": "",
            "description_tooltip": null,
            "layout": "IPY_MODEL_c42a73a76aaa4b2fbb7e730380ce4743",
            "max": 50,
            "min": 0,
            "orientation": "horizontal",
            "style": "IPY_MODEL_7aa539be23ac4f4d86ced444cd3ebc1f",
            "value": 50
          }
        },
        "0ee7363aa53944edb2d392abbdc27f84": {
          "model_module": "@jupyter-widgets/controls",
          "model_name": "HTMLModel",
          "model_module_version": "1.5.0",
          "state": {
            "_dom_classes": [],
            "_model_module": "@jupyter-widgets/controls",
            "_model_module_version": "1.5.0",
            "_model_name": "HTMLModel",
            "_view_count": null,
            "_view_module": "@jupyter-widgets/controls",
            "_view_module_version": "1.5.0",
            "_view_name": "HTMLView",
            "description": "",
            "description_tooltip": null,
            "layout": "IPY_MODEL_1e0036e51a9341c1ab2691934498c287",
            "placeholder": "​",
            "style": "IPY_MODEL_63734c1bba7043adb2d0f4f579c5071c",
            "value": " 50/50 [03:06&lt;00:00,  3.61s/it]"
          }
        },
        "766992bd44e14a328b21219b929bd79a": {
          "model_module": "@jupyter-widgets/base",
          "model_name": "LayoutModel",
          "model_module_version": "1.2.0",
          "state": {
            "_model_module": "@jupyter-widgets/base",
            "_model_module_version": "1.2.0",
            "_model_name": "LayoutModel",
            "_view_count": null,
            "_view_module": "@jupyter-widgets/base",
            "_view_module_version": "1.2.0",
            "_view_name": "LayoutView",
            "align_content": null,
            "align_items": null,
            "align_self": null,
            "border": null,
            "bottom": null,
            "display": null,
            "flex": null,
            "flex_flow": null,
            "grid_area": null,
            "grid_auto_columns": null,
            "grid_auto_flow": null,
            "grid_auto_rows": null,
            "grid_column": null,
            "grid_gap": null,
            "grid_row": null,
            "grid_template_areas": null,
            "grid_template_columns": null,
            "grid_template_rows": null,
            "height": null,
            "justify_content": null,
            "justify_items": null,
            "left": null,
            "margin": null,
            "max_height": null,
            "max_width": null,
            "min_height": null,
            "min_width": null,
            "object_fit": null,
            "object_position": null,
            "order": null,
            "overflow": null,
            "overflow_x": null,
            "overflow_y": null,
            "padding": null,
            "right": null,
            "top": null,
            "visibility": null,
            "width": null
          }
        },
        "2b816438b8a3460daef0def8d8cf1498": {
          "model_module": "@jupyter-widgets/base",
          "model_name": "LayoutModel",
          "model_module_version": "1.2.0",
          "state": {
            "_model_module": "@jupyter-widgets/base",
            "_model_module_version": "1.2.0",
            "_model_name": "LayoutModel",
            "_view_count": null,
            "_view_module": "@jupyter-widgets/base",
            "_view_module_version": "1.2.0",
            "_view_name": "LayoutView",
            "align_content": null,
            "align_items": null,
            "align_self": null,
            "border": null,
            "bottom": null,
            "display": null,
            "flex": null,
            "flex_flow": null,
            "grid_area": null,
            "grid_auto_columns": null,
            "grid_auto_flow": null,
            "grid_auto_rows": null,
            "grid_column": null,
            "grid_gap": null,
            "grid_row": null,
            "grid_template_areas": null,
            "grid_template_columns": null,
            "grid_template_rows": null,
            "height": null,
            "justify_content": null,
            "justify_items": null,
            "left": null,
            "margin": null,
            "max_height": null,
            "max_width": null,
            "min_height": null,
            "min_width": null,
            "object_fit": null,
            "object_position": null,
            "order": null,
            "overflow": null,
            "overflow_x": null,
            "overflow_y": null,
            "padding": null,
            "right": null,
            "top": null,
            "visibility": null,
            "width": null
          }
        },
        "740cbcc3d47a4be78c2473c5eb2cfa56": {
          "model_module": "@jupyter-widgets/controls",
          "model_name": "DescriptionStyleModel",
          "model_module_version": "1.5.0",
          "state": {
            "_model_module": "@jupyter-widgets/controls",
            "_model_module_version": "1.5.0",
            "_model_name": "DescriptionStyleModel",
            "_view_count": null,
            "_view_module": "@jupyter-widgets/base",
            "_view_module_version": "1.2.0",
            "_view_name": "StyleView",
            "description_width": ""
          }
        },
        "c42a73a76aaa4b2fbb7e730380ce4743": {
          "model_module": "@jupyter-widgets/base",
          "model_name": "LayoutModel",
          "model_module_version": "1.2.0",
          "state": {
            "_model_module": "@jupyter-widgets/base",
            "_model_module_version": "1.2.0",
            "_model_name": "LayoutModel",
            "_view_count": null,
            "_view_module": "@jupyter-widgets/base",
            "_view_module_version": "1.2.0",
            "_view_name": "LayoutView",
            "align_content": null,
            "align_items": null,
            "align_self": null,
            "border": null,
            "bottom": null,
            "display": null,
            "flex": null,
            "flex_flow": null,
            "grid_area": null,
            "grid_auto_columns": null,
            "grid_auto_flow": null,
            "grid_auto_rows": null,
            "grid_column": null,
            "grid_gap": null,
            "grid_row": null,
            "grid_template_areas": null,
            "grid_template_columns": null,
            "grid_template_rows": null,
            "height": null,
            "justify_content": null,
            "justify_items": null,
            "left": null,
            "margin": null,
            "max_height": null,
            "max_width": null,
            "min_height": null,
            "min_width": null,
            "object_fit": null,
            "object_position": null,
            "order": null,
            "overflow": null,
            "overflow_x": null,
            "overflow_y": null,
            "padding": null,
            "right": null,
            "top": null,
            "visibility": null,
            "width": null
          }
        },
        "7aa539be23ac4f4d86ced444cd3ebc1f": {
          "model_module": "@jupyter-widgets/controls",
          "model_name": "ProgressStyleModel",
          "model_module_version": "1.5.0",
          "state": {
            "_model_module": "@jupyter-widgets/controls",
            "_model_module_version": "1.5.0",
            "_model_name": "ProgressStyleModel",
            "_view_count": null,
            "_view_module": "@jupyter-widgets/base",
            "_view_module_version": "1.2.0",
            "_view_name": "StyleView",
            "bar_color": null,
            "description_width": ""
          }
        },
        "1e0036e51a9341c1ab2691934498c287": {
          "model_module": "@jupyter-widgets/base",
          "model_name": "LayoutModel",
          "model_module_version": "1.2.0",
          "state": {
            "_model_module": "@jupyter-widgets/base",
            "_model_module_version": "1.2.0",
            "_model_name": "LayoutModel",
            "_view_count": null,
            "_view_module": "@jupyter-widgets/base",
            "_view_module_version": "1.2.0",
            "_view_name": "LayoutView",
            "align_content": null,
            "align_items": null,
            "align_self": null,
            "border": null,
            "bottom": null,
            "display": null,
            "flex": null,
            "flex_flow": null,
            "grid_area": null,
            "grid_auto_columns": null,
            "grid_auto_flow": null,
            "grid_auto_rows": null,
            "grid_column": null,
            "grid_gap": null,
            "grid_row": null,
            "grid_template_areas": null,
            "grid_template_columns": null,
            "grid_template_rows": null,
            "height": null,
            "justify_content": null,
            "justify_items": null,
            "left": null,
            "margin": null,
            "max_height": null,
            "max_width": null,
            "min_height": null,
            "min_width": null,
            "object_fit": null,
            "object_position": null,
            "order": null,
            "overflow": null,
            "overflow_x": null,
            "overflow_y": null,
            "padding": null,
            "right": null,
            "top": null,
            "visibility": null,
            "width": null
          }
        },
        "63734c1bba7043adb2d0f4f579c5071c": {
          "model_module": "@jupyter-widgets/controls",
          "model_name": "DescriptionStyleModel",
          "model_module_version": "1.5.0",
          "state": {
            "_model_module": "@jupyter-widgets/controls",
            "_model_module_version": "1.5.0",
            "_model_name": "DescriptionStyleModel",
            "_view_count": null,
            "_view_module": "@jupyter-widgets/base",
            "_view_module_version": "1.2.0",
            "_view_name": "StyleView",
            "description_width": ""
          }
        }
      }
    }
  },
  "cells": [
    {
      "cell_type": "markdown",
      "source": [
        "Импорт библиотек"
      ],
      "metadata": {
        "id": "CrNW4K8MBr3m"
      }
    },
    {
      "cell_type": "code",
      "execution_count": 1,
      "metadata": {
        "id": "AujoJFdhBbrf"
      },
      "outputs": [],
      "source": [
        "import numpy as np\n",
        "import matplotlib.pyplot as plt\n",
        "\n",
        "from sklearn.datasets import load_breast_cancer\n",
        "from sklearn.model_selection import train_test_split\n",
        "from sklearn.svm import SVC"
      ]
    },
    {
      "cell_type": "markdown",
      "source": [
        "1.\tЗагрузите датасет breast_cancer."
      ],
      "metadata": {
        "id": "L18HVu0WCCP2"
      }
    },
    {
      "cell_type": "code",
      "source": [
        "breast_cancer = load_breast_cancer()\n",
        "data = breast_cancer.data\n",
        "target = breast_cancer.target"
      ],
      "metadata": {
        "id": "E09ter3VB9Ra"
      },
      "execution_count": 3,
      "outputs": []
    },
    {
      "cell_type": "markdown",
      "source": [
        "2.\tВыберите два первых признака. Таким образом мы уменьшим размерность задачи. У нас была задача множественной классификации, а стала - бинарная."
      ],
      "metadata": {
        "id": "Gkf7lxyHCYE-"
      }
    },
    {
      "cell_type": "code",
      "source": [
        "data_2d = data[:, :2]\n",
        "data"
      ],
      "metadata": {
        "colab": {
          "base_uri": "https://localhost:8080/"
        },
        "id": "iffacTL0B-Fr",
        "outputId": "ae8b7a13-3474-4762-e494-4c6b84aa97c0"
      },
      "execution_count": 5,
      "outputs": [
        {
          "output_type": "execute_result",
          "data": {
            "text/plain": [
              "array([[1.799e+01, 1.038e+01, 1.228e+02, ..., 2.654e-01, 4.601e-01,\n",
              "        1.189e-01],\n",
              "       [2.057e+01, 1.777e+01, 1.329e+02, ..., 1.860e-01, 2.750e-01,\n",
              "        8.902e-02],\n",
              "       [1.969e+01, 2.125e+01, 1.300e+02, ..., 2.430e-01, 3.613e-01,\n",
              "        8.758e-02],\n",
              "       ...,\n",
              "       [1.660e+01, 2.808e+01, 1.083e+02, ..., 1.418e-01, 2.218e-01,\n",
              "        7.820e-02],\n",
              "       [2.060e+01, 2.933e+01, 1.401e+02, ..., 2.650e-01, 4.087e-01,\n",
              "        1.240e-01],\n",
              "       [7.760e+00, 2.454e+01, 4.792e+01, ..., 0.000e+00, 2.871e-01,\n",
              "        7.039e-02]])"
            ]
          },
          "metadata": {},
          "execution_count": 5
        }
      ]
    },
    {
      "cell_type": "markdown",
      "source": [
        "3.\tРазделите датасет на обучающую и тестовую выборки в пропорции 80-20."
      ],
      "metadata": {
        "id": "iSSlDxkhDEzi"
      }
    },
    {
      "cell_type": "code",
      "source": [
        "X_train, X_test, y_train, y_test = train_test_split(data_2d, target, test_size=0.2, random_state=0)"
      ],
      "metadata": {
        "id": "RQXLJJxwDGfg"
      },
      "execution_count": 7,
      "outputs": []
    },
    {
      "cell_type": "markdown",
      "source": [
        "4.\tПостройте классификатор на опорных векторах с гауссовым ядром с параметром регуляризации C=0.01. Выведите на экран значение точности на тестовой и обучающей выборке. Сделайте предварительный вывод о степени обученности модели."
      ],
      "metadata": {
        "id": "fNMGTmrDDldJ"
      }
    },
    {
      "cell_type": "code",
      "source": [
        "clf = SVC(C=0.01, kernel=\"rbf\")\n",
        "clf.fit(X_train, y_train)\n",
        "\n",
        "print(f\"Точность (train): {clf.score(X_train, y_train)}\")\n",
        "print(f\"Точность (test): {clf.score(X_test, y_test)}\")"
      ],
      "metadata": {
        "colab": {
          "base_uri": "https://localhost:8080/"
        },
        "id": "c9ZWUkEyDnkc",
        "outputId": "dc4be6c3-420d-4226-ef0f-e6a08f605478"
      },
      "execution_count": 9,
      "outputs": [
        {
          "output_type": "stream",
          "name": "stdout",
          "text": [
            "Точность (train): 0.6923076923076923\n",
            "Точность (test): 0.6666666666666666\n"
          ]
        }
      ]
    },
    {
      "cell_type": "markdown",
      "source": [
        "#Вывод:\n",
        "Модель обучена средне, так как точноть не сильно больше 0,5; однако предсказания сделанные на основе выборки будут точнее, чем рандомно подобранные значения"
      ],
      "metadata": {
        "id": "W1hRT_kqEBnd"
      }
    },
    {
      "cell_type": "markdown",
      "source": [
        "5.\tПостройте графически зависимость тестовой и обучающей точности от размера обучающей выборки. Прокомментируйте получившийся результат. Сделайте вывод о том, недообучается или переобучается модель? В зависимости от этого выберите варианты, которые могут привести к увеличению точности модели (обычно подходит больше одного варианта):\n",
        "\n",
        "a.\tсобрать больше объектов наблюдения;\n",
        "\n",
        "b.\tпровести обучение на меньшем объеме данных;\n",
        "\n",
        "c.\tисключить часть признаков из модели;\n",
        "\n",
        "d.\tдобавить новые признаки в модель;\n",
        "\n",
        "e.\tдобавить полиномиальные признаки;\n",
        "\n",
        "f.\tпопробовать более сложные модели;\n",
        "\n",
        "g.\tпопробовать более простые модели;\n",
        "\n",
        "h.\tувеличить регуляризацию модели;\n",
        "\n",
        "i.\tуменьшить регуляризацию модели;\n"
      ],
      "metadata": {
        "id": "SQ5PAD_lE0tG"
      }
    },
    {
      "cell_type": "code",
      "source": [
        "data = np.linspace(len(X_train) // 100 + 10, len(X_train), 100, dtype=int)\n",
        "test_scores = []\n",
        "train_scores = []\n",
        "\n",
        "for i in data:\n",
        "    clf = SVC(C=0.01, kernel='rbf')\n",
        "\n",
        "    x_ = X_train[:i]\n",
        "    y_ = y_train[:i]\n",
        "\n",
        "    clf.fit(x_, y_)\n",
        "\n",
        "    test_scores.append(clf.score(X_test, y_test))\n",
        "    train_scores.append(clf.score(x_, y_))\n",
        "\n",
        "ax = plt.axes()\n",
        "ax.plot(data, test_scores, label=\"test\")\n",
        "ax.plot(data, train_scores, label=\"train\")\n",
        "ax.set_xlabel('size')\n",
        "ax.set_ylabel('score')\n",
        "_ = ax.legend()"
      ],
      "metadata": {
        "colab": {
          "base_uri": "https://localhost:8080/",
          "height": 279
        },
        "id": "maGdeL1tEE_Y",
        "outputId": "757f2cb3-6d6c-46de-878c-000eb4eb47fa"
      },
      "execution_count": 10,
      "outputs": [
        {
          "output_type": "display_data",
          "data": {
            "text/plain": [
              "<Figure size 432x288 with 1 Axes>"
            ],
            "image/png": "[encoded data removed]"
          },
          "metadata": {
            "needs_background": "light"
          }
        }
      ]
    },
    {
      "cell_type": "markdown",
      "source": [
        "#Вывод:\n",
        "Из-за небольшой точности и слабой зависимости точности от размера выборке, можно сделать вывод о том, что модель не доучена.\n",
        "Видно, что в начале с увеличением размера выборки начинает падать ее точность, но, как только размер выборки стал больше 400, точность обеих выборок начала увеличиваться. Чтобы продолжить эту тенденцию, нужно a. собрать больше объектов наблюдения; Чтобы увеличить точность, необходимо выявить наиболее важные признаки и возвести их в степень (e. добавить полиномиальные признаки;). То есть, h. увеличить регуляризацию модели;"
      ],
      "metadata": {
        "id": "U-dmp92nFVw1"
      }
    },
    {
      "cell_type": "markdown",
      "source": [
        "#Увеличение регуляризации"
      ],
      "metadata": {
        "id": "-xfP1B-VJLn9"
      }
    },
    {
      "cell_type": "code",
      "source": [
        "clf = SVC(kernel='rbf', C=100)\n",
        "clf.fit(X_train, y_train)\n",
        "print(f\"Score (test): {clf.score(X_test, y_test)}\")\n",
        "print(f\"Score (train): {clf.score(X_train, y_train)}\")"
      ],
      "metadata": {
        "colab": {
          "base_uri": "https://localhost:8080/"
        },
        "id": "49973N4qH4n3",
        "outputId": "fdca871c-bc67-49f1-db1d-f8ace6b66a9b"
      },
      "execution_count": 11,
      "outputs": [
        {
          "output_type": "stream",
          "name": "stdout",
          "text": [
            "Score (test): 0.868421052631579\n",
            "Score (train): 0.9142857142857143\n"
          ]
        }
      ]
    },
    {
      "cell_type": "markdown",
      "source": [
        "#Использование классификатора k-ближайших соседей\n"
      ],
      "metadata": {
        "id": "CJqmZb42Jm3U"
      }
    },
    {
      "cell_type": "code",
      "source": [
        "import sklearn.neighbors as neigh\n",
        "\n",
        "kn = neigh.KNeighborsClassifier(n_neighbors=90, n_jobs=6).fit(X_train,y_train)\n",
        "print(f\"Score (test): {kn.score(X_test, y_test)}\")\n",
        "print(f\"Score (train): {kn.score(X_train, y_train)}\")"
      ],
      "metadata": {
        "colab": {
          "base_uri": "https://localhost:8080/"
        },
        "id": "d0iLg0-uJqzd",
        "outputId": "5c13b026-2f43-4434-8ff4-0c471b6f3776"
      },
      "execution_count": 12,
      "outputs": [
        {
          "output_type": "stream",
          "name": "stdout",
          "text": [
            "Score (test): 0.8947368421052632\n",
            "Score (train): 0.8879120879120879\n"
          ]
        }
      ]
    },
    {
      "cell_type": "markdown",
      "source": [
        "#Использование логистической регрессии"
      ],
      "metadata": {
        "id": "DMI9H22bJ2jU"
      }
    },
    {
      "cell_type": "code",
      "source": [
        "from sklearn.linear_model import LogisticRegression\n",
        "\n",
        "logr = LogisticRegression(max_iter=5000, n_jobs=6).fit(X_train, y_train)\n",
        "print(f\"Score (test): {logr.score(X_test, y_test)}\")\n",
        "print(f\"Score (train): {logr.score(X_train, y_train)}\")"
      ],
      "metadata": {
        "colab": {
          "base_uri": "https://localhost:8080/"
        },
        "id": "tCBGvKpwJyE1",
        "outputId": "3b94014f-1043-4854-81a9-061ba89c5acd"
      },
      "execution_count": 14,
      "outputs": [
        {
          "output_type": "stream",
          "name": "stdout",
          "text": [
            "Score (test): 0.8947368421052632\n",
            "Score (train): 0.8989010989010989\n"
          ]
        }
      ]
    },
    {
      "cell_type": "markdown",
      "source": [
        "7. Повторите предыдущий пункт для различных значений C в диапазоне от 0,0001 до 1 000 000. Обратите внимание на шкалу по вертикальной оси. Для каких значений тестовая точность оптимальна? Какие значения дают недообучение? Какие - переобучение?"
      ],
      "metadata": {
        "id": "xvMBo2mfJ-O-"
      }
    },
    {
      "cell_type": "code",
      "source": [
        "from tqdm.notebook import tqdm\n",
        "data = np.linspace(1, 100000, 50)\n",
        "\n",
        "test_scores = []\n",
        "train_scores = []\n",
        "\n",
        "for i in tqdm(data):\n",
        "    clf = SVC(C=i, kernel=\"rbf\")\n",
        "\n",
        "    clf.fit(X_train, y_train)\n",
        "\n",
        "    test_scores.append(clf.score(X_test, y_test))\n",
        "    train_scores.append(clf.score(X_train, y_train))\n",
        "\n",
        "ax = plt.axes()\n",
        "ax.plot(data, test_scores, label=\"test\")\n",
        "ax.plot(data, train_scores, label=\"train\")\n",
        "ax.set_xlabel('С')\n",
        "ax.set_ylabel('score')\n",
        "ax.set_ylim([0.75, 1])\n",
        "ax.legend()\n",
        "\n",
        "max(test_scores)"
      ],
      "metadata": {
        "colab": {
          "base_uri": "https://localhost:8080/",
          "height": 333,
          "referenced_widgets": [
            "0c0d6cfd38be4dee88eaca7c958fcb21",
            "cac578e4f52542b0a0e05a09ffaca099",
            "0e8d7c63962f46d886c2b1535f80f173",
            "0181805977654908810e2136eeb1c5e4",
            "40f15be54f3d4457afdb04a960f1b006",
            "2a6ab3c40a5c44b396b7574781d60153",
            "333f016d27be4d589a5d2aaacdd094e9",
            "2d3713c4bb484444944a7fb05e3a12be",
            "b0f76297d0d747d793619d9bcebcdb6b",
            "41c148f0f89248d8876e93ea5a56e46f",
            "0279c6fd69384e33bf444362518cd9d7"
          ]
        },
        "id": "ridUEKj5Jzxs",
        "outputId": "060ac376-2e22-4a9d-edae-8de5c36edcf4"
      },
      "execution_count": 15,
      "outputs": [
        {
          "output_type": "display_data",
          "data": {
            "text/plain": [
              "  0%|          | 0/50 [00:00<?, ?it/s]"
            ],
            "application/vnd.jupyter.widget-view+json": {
              "version_major": 2,
              "version_minor": 0,
              "model_id": "0c0d6cfd38be4dee88eaca7c958fcb21"
            }
          },
          "metadata": {}
        },
        {
          "output_type": "execute_result",
          "data": {
            "text/plain": [
              "0.8771929824561403"
            ]
          },
          "metadata": {},
          "execution_count": 15
        },
        {
          "output_type": "display_data",
          "data": {
            "text/plain": [
              "<Figure size 432x288 with 1 Axes>"
            ],
            "image/png": "[encoded data removed]"
          },
          "metadata": {
            "needs_background": "light"
          }
        }
      ]
    },
    {
      "cell_type": "markdown",
      "source": [
        "8.Постройте график зависимости тестовой и обучающей точности от значения регуляризационного параметра. Сделайте вывод о зависимости степени регуляризации на точность модели."
      ],
      "metadata": {
        "id": "9WIzxGVCKHCd"
      }
    },
    {
      "cell_type": "code",
      "source": [
        "data = np.linspace(0.0001, 1, 500)\n",
        "\n",
        "test_scores = []\n",
        "train_scores = []\n",
        "\n",
        "for i in tqdm(data):\n",
        "    clf = SVC(C=i, kernel=\"rbf\")\n",
        "\n",
        "    clf.fit(X_train, y_train)\n",
        "\n",
        "    test_scores.append(clf.score(X_test, y_test))\n",
        "    train_scores.append(clf.score(X_train, y_train))\n",
        "\n",
        "ax = plt.axes()\n",
        "ax.plot(data, test_scores, label=\"test\")\n",
        "ax.plot(data, train_scores, label=\"train\")\n",
        "ax.set_xlabel('С')\n",
        "ax.set_ylabel('score')\n",
        "ax.set_ylim([0.75, 1])\n",
        "ax.legend()\n",
        "\n",
        "max(test_scores)"
      ],
      "metadata": {
        "colab": {
          "base_uri": "https://localhost:8080/",
          "height": 333,
          "referenced_widgets": [
            "c374584b72cd4eaebd88de4698312d39",
            "f88457ac8000409e8c66aec0512c2a2d",
            "130125e053244579ab8c9d283df96780",
            "cd07775b5989478284f3e6a1098f7512",
            "70ab11ad58dc4dbfa4ce44317202ec8d",
            "a2e61092008b4d2d89b248230e8bf3d5",
            "2b3b20814cc04a43a9e5243e4cb07402",
            "15712c0cceeb46d2a132c19b6de73c66",
            "e20cdd7f04034f5b96e545d08ded2e43",
            "c20e1fe84e024bfd8bfc7d0710cc27bf",
            "abe3097414204c4baec8ffb4d5e4cc98"
          ]
        },
        "id": "pCOjyYjDKC6-",
        "outputId": "398fa02f-bc50-4bf9-8be6-8a32b003ca12"
      },
      "execution_count": 20,
      "outputs": [
        {
          "output_type": "display_data",
          "data": {
            "text/plain": [
              "  0%|          | 0/500 [00:00<?, ?it/s]"
            ],
            "application/vnd.jupyter.widget-view+json": {
              "version_major": 2,
              "version_minor": 0,
              "model_id": "c374584b72cd4eaebd88de4698312d39"
            }
          },
          "metadata": {}
        },
        {
          "output_type": "execute_result",
          "data": {
            "text/plain": [
              "0.8771929824561403"
            ]
          },
          "metadata": {},
          "execution_count": 20
        },
        {
          "output_type": "display_data",
          "data": {
            "text/plain": [
              "<Figure size 432x288 with 1 Axes>"
            ],
            "image/png": "[encoded data removed]"
          },
          "metadata": {
            "needs_background": "light"
          }
        }
      ]
    },
    {
      "cell_type": "markdown",
      "source": [
        "С большим значением C модель переобучается\n",
        "C малым - недообучается.\n",
        "\n",
        "\n",
        "С увеличением аргумента C точность модели на тренируемых данных увеличивается, а на тестовых - уменьшается."
      ],
      "metadata": {
        "id": "Dpn4W6HEKMHU"
      }
    },
    {
      "cell_type": "markdown",
      "source": [
        "9. Найдите методом подбора оптимальное значение параметра регуляризации (примерное)."
      ],
      "metadata": {
        "id": "qnOzbEJuKU4U"
      }
    },
    {
      "cell_type": "code",
      "source": [
        "clf = SVC(kernel='rbf', C=51.1)\n",
        "clf.fit(X_train, y_train)\n",
        "print(f'test accuracy: {clf.score(X_test, y_test)}')\n",
        "print(f'train accuracy: {clf.score(X_train, y_train)}')"
      ],
      "metadata": {
        "colab": {
          "base_uri": "https://localhost:8080/"
        },
        "id": "f4NFVQKJKQkP",
        "outputId": "f354ed01-591c-4499-d1a7-a4e203d90ac6"
      },
      "execution_count": 21,
      "outputs": [
        {
          "output_type": "stream",
          "name": "stdout",
          "text": [
            "test accuracy: 0.8771929824561403\n",
            "train accuracy: 0.9164835164835164\n"
          ]
        }
      ]
    },
    {
      "cell_type": "code",
      "source": [
        "results = []\n",
        "for i in range(1,1000):\n",
        "    value = i * 0.1\n",
        "    clf = SVC(kernel='rbf', C=value)\n",
        "    clf.fit(X_train, y_train)\n",
        "    test_acc = clf.score(X_test, y_test)\n",
        "    train_acc = clf.score(X_train, y_train)\n",
        "    results.append((value, test_acc, train_acc))\n",
        "    \n",
        "results.sort(key=lambda x: x[1])\n",
        "print(results[-1])"
      ],
      "metadata": {
        "colab": {
          "base_uri": "https://localhost:8080/"
        },
        "id": "6JEr1TNfKZKQ",
        "outputId": "d4858f51-91cd-4f94-f963-8dc9358ed812"
      },
      "execution_count": 22,
      "outputs": [
        {
          "output_type": "stream",
          "name": "stdout",
          "text": [
            "(51.1, 0.8771929824561403, 0.9164835164835164)\n"
          ]
        }
      ]
    },
    {
      "cell_type": "markdown",
      "source": [
        "При C = 51.1 получаем 87.7% на тестовой выборке и 91.6% на тренировочной, что очень хорошо."
      ],
      "metadata": {
        "id": "lrOlu3mwKhpt"
      }
    },
    {
      "cell_type": "markdown",
      "source": [
        "10. Повторите два предыдущих пункта для метода опорных векторов с линейным ядром. Сравните получившиеся результаты. Сделайте вывод о сравнительной эффективности двух этих моделей."
      ],
      "metadata": {
        "id": "npnl-g28LFQU"
      }
    },
    {
      "cell_type": "markdown",
      "source": [
        "График зависимости тестовой и обучающей точности от значения регуляризационного параметра."
      ],
      "metadata": {
        "id": "ja3HFHKcLJXR"
      }
    },
    {
      "cell_type": "code",
      "source": [
        "data = np.linspace(1, 100000, 50)\n",
        "\n",
        "test_scores = []\n",
        "train_scores = []\n",
        "\n",
        "for i in tqdm(data):\n",
        "    clf = SVC(C=i, kernel=\"linear\")\n",
        "\n",
        "    clf.fit(X_train, y_train)\n",
        "\n",
        "    test_scores.append(clf.score(X_test, y_test))\n",
        "    train_scores.append(clf.score(X_train, y_train))\n",
        "\n",
        "ax = plt.axes()\n",
        "ax.plot(data, test_scores, label=\"test\")\n",
        "ax.plot(data, train_scores, label=\"train\")\n",
        "ax.set_xlabel('С')\n",
        "ax.set_ylabel('score')\n",
        "ax.set_ylim([0.75, 1])\n",
        "ax.legend()\n",
        "\n",
        "max(test_scores)"
      ],
      "metadata": {
        "colab": {
          "base_uri": "https://localhost:8080/",
          "height": 333,
          "referenced_widgets": [
            "abb75ce67dd544229bfbc62d1ea34c61",
            "4f5bb13765b948bd858b06e7214a9729",
            "48220d06cc3b4cbba2457509e52f3e0e",
            "0ee7363aa53944edb2d392abbdc27f84",
            "766992bd44e14a328b21219b929bd79a",
            "2b816438b8a3460daef0def8d8cf1498",
            "740cbcc3d47a4be78c2473c5eb2cfa56",
            "c42a73a76aaa4b2fbb7e730380ce4743",
            "7aa539be23ac4f4d86ced444cd3ebc1f",
            "1e0036e51a9341c1ab2691934498c287",
            "63734c1bba7043adb2d0f4f579c5071c"
          ]
        },
        "id": "lDGxoCF-KjQh",
        "outputId": "97fec02b-2929-4489-a6be-4b3419fa4dc7"
      },
      "execution_count": 23,
      "outputs": [
        {
          "output_type": "display_data",
          "data": {
            "text/plain": [
              "  0%|          | 0/50 [00:00<?, ?it/s]"
            ],
            "application/vnd.jupyter.widget-view+json": {
              "version_major": 2,
              "version_minor": 0,
              "model_id": "abb75ce67dd544229bfbc62d1ea34c61"
            }
          },
          "metadata": {}
        },
        {
          "output_type": "execute_result",
          "data": {
            "text/plain": [
              "0.9035087719298246"
            ]
          },
          "metadata": {},
          "execution_count": 23
        },
        {
          "output_type": "display_data",
          "data": {
            "text/plain": [
              "<Figure size 432x288 with 1 Axes>"
            ],
            "image/png": "[encoded data removed]"
          },
          "metadata": {
            "needs_background": "light"
          }
        }
      ]
    },
    {
      "cell_type": "markdown",
      "source": [
        "Найти методом подбора оптимальное значение параметра регуляризации"
      ],
      "metadata": {
        "id": "LTyDJ2v0LS7M"
      }
    },
    {
      "cell_type": "code",
      "source": [
        "clf = SVC(kernel='linear', C=9.9)\n",
        "clf.fit(X_train, y_train)\n",
        "print(f'test accuracy: {clf.score(X_test, y_test)}')\n",
        "print(f'train accuracy: {clf.score(X_train, y_train)}')"
      ],
      "metadata": {
        "colab": {
          "base_uri": "https://localhost:8080/"
        },
        "id": "fQccLazeLMUu",
        "outputId": "fbb41379-5bfc-4256-bf91-2f6f7658dcfe"
      },
      "execution_count": 24,
      "outputs": [
        {
          "output_type": "stream",
          "name": "stdout",
          "text": [
            "test accuracy: 0.8947368421052632\n",
            "train accuracy: 0.8879120879120879\n"
          ]
        }
      ]
    },
    {
      "cell_type": "code",
      "source": [
        "results = []\n",
        "for i in range(1,100):\n",
        "    value = i * 0.1\n",
        "    clf = SVC(kernel='linear', C=value)\n",
        "    clf.fit(X_train, y_train)\n",
        "    test_acc = clf.score(X_test, y_test)\n",
        "    train_acc = clf.score(X_train, y_train)\n",
        "    results.append((value, test_acc, train_acc))\n",
        "    \n",
        "results.sort(key=lambda x: x[2])\n",
        "print(results[-1])"
      ],
      "metadata": {
        "colab": {
          "base_uri": "https://localhost:8080/"
        },
        "id": "M-8p1YnhLWd0",
        "outputId": "e58cffed-bed4-4414-c1d0-569fcc076f1b"
      },
      "execution_count": 25,
      "outputs": [
        {
          "output_type": "stream",
          "name": "stdout",
          "text": [
            "(9.9, 0.8947368421052632, 0.8879120879120879)\n"
          ]
        }
      ]
    },
    {
      "cell_type": "markdown",
      "source": [
        "#Вывод\n",
        "Модели примерно одинаковые, так как при одинаковых значениях регуляции и объема выборки, их значения точности почти не отличаются. Следовательно, для обучения можно использовать обе модели"
      ],
      "metadata": {
        "id": "2iib4pDPLgTW"
      }
    }
  ]
}