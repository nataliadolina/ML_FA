{
  "cells": [
    {
      "cell_type": "markdown",
      "metadata": {
        "id": "-CCqjhRvU3ng"
      },
      "source": [
        "<h1 align='center'>Numpy - многомерные массивы данных</h1>"
      ]
    },
    {
      "cell_type": "markdown",
      "metadata": {
        "id": "kdO6HAoYU3nt"
      },
      "source": [
        "[В.Г. Попов](mailto:VGPopov@fa.ru)\n",
        "\n",
        "[Cсылка](https://disk.yandex.ru/d/EKVy5IuePR__iw) на лекции и тетради"
      ]
    },
    {
      "cell_type": "code",
      "execution_count": null,
      "metadata": {
        "id": "mHPvkWSmU3nv"
      },
      "outputs": [],
      "source": [
        "# комменарий\n",
        "%matplotlib inline \n",
        "#команда об интерактивном использовании matplotlib\n",
        "import matplotlib.pyplot as plt #импорт функций подмодуля pyplot об интерактивном \n",
        "#использовании matplotlib"
      ]
    },
    {
      "cell_type": "markdown",
      "metadata": {
        "id": "vB4o3GV2U3ny"
      },
      "source": [
        "## Введение"
      ]
    },
    {
      "cell_type": "markdown",
      "metadata": {
        "id": "MOAEMqL1U3nz"
      },
      "source": [
        "Пакет `numpy` (модуль) используется почти во всех численных вычислениях с использованием Python. Это пакет, который обеспечивает высокопроизводительные векторные, матричные и многомерные структуры данных для Python. Он реализован на C и Fortran, поэтому, когда вычисления векторизуются (формулируются векторами и матрицами), производительность очень хорошая.\n",
        "Чтобы использовать `numpy`, вам нужно импортировать модуль, используя, например,:"
      ]
    },
    {
      "cell_type": "code",
      "execution_count": null,
      "metadata": {
        "id": "zz04D7SeU3n1"
      },
      "outputs": [],
      "source": [
        "from numpy import * #при этом отсутсвует необходимость использования numpy.array\n",
        "#import nympy as np - позволяет сократить имя объекта используя np.array"
      ]
    },
    {
      "cell_type": "markdown",
      "metadata": {
        "id": "k8wLN4rxU3n2"
      },
      "source": [
        "В пакете `numpy` терминологией, используемой для векторов, матриц и многомерных наборов данных, является *array*.\n"
      ]
    },
    {
      "cell_type": "markdown",
      "metadata": {
        "id": "ohL9WUE7U3n4"
      },
      "source": [
        "## Создание `numpy` *arrays*"
      ]
    },
    {
      "cell_type": "markdown",
      "metadata": {
        "id": "JlZjb4y8U3n5"
      },
      "source": [
        "Существует несколько способов инициализации новых массивов numpy, например из\n",
        "\n",
        "* список Python или кортежи\n",
        "* использование функций, предназначенных для генерации массивов numpy, таких как `arange`, `linspace` и т. д.\n",
        "* чтение данных из файлов"
      ]
    },
    {
      "cell_type": "markdown",
      "metadata": {
        "id": "2Z_9VcSjU3n7"
      },
      "source": [
        "### Создание из списка (*list*)"
      ]
    },
    {
      "cell_type": "markdown",
      "metadata": {
        "id": "HUBcGOx8U3n8"
      },
      "source": [
        "Например, для создания новых векторных и матричных массивов из списков Python мы можем использовать `numpy.array`."
      ]
    },
    {
      "cell_type": "code",
      "execution_count": null,
      "metadata": {
        "colab": {
          "base_uri": "https://localhost:8080/"
        },
        "id": "DgzE4ziOU3n9",
        "outputId": "0f01df68-0af8-4796-9967-108f0d63f174"
      },
      "outputs": [
        {
          "output_type": "execute_result",
          "data": {
            "text/plain": [
              "array([1, 2, 3, 4])"
            ]
          },
          "metadata": {},
          "execution_count": 48
        }
      ],
      "source": [
        "# вектор: аргумент функции array список (list) Python\n",
        "v = array([1,2,3,4])\n",
        "\n",
        "v"
      ]
    },
    {
      "cell_type": "code",
      "execution_count": null,
      "metadata": {
        "colab": {
          "base_uri": "https://localhost:8080/"
        },
        "id": "1SnDjEfLU3n_",
        "outputId": "4d5f9597-401b-4225-d9b6-4a3219447d5c"
      },
      "outputs": [
        {
          "output_type": "execute_result",
          "data": {
            "text/plain": [
              "array([[1, 2],\n",
              "       [3, 4]])"
            ]
          },
          "metadata": {},
          "execution_count": 3
        }
      ],
      "source": [
        "# матрица: аргумент функции array вложенный список (nestled list) Python\n",
        "M = array([[1, 2], [3, 4]])\n",
        "M"
      ]
    },
    {
      "cell_type": "markdown",
      "metadata": {
        "id": "hz9g-lXJU3oA"
      },
      "source": [
        " `v` и `M` -- объекты общего типа `ndarray`, который создает модуль `numpy`."
      ]
    },
    {
      "cell_type": "code",
      "execution_count": null,
      "metadata": {
        "colab": {
          "base_uri": "https://localhost:8080/"
        },
        "id": "76xwujSYU3oB",
        "outputId": "b3689afd-29c7-4697-f2be-5569ad80334e"
      },
      "outputs": [
        {
          "output_type": "execute_result",
          "data": {
            "text/plain": [
              "(numpy.ndarray, numpy.ndarray)"
            ]
          },
          "metadata": {},
          "execution_count": 4
        }
      ],
      "source": [
        "type(v), type(M)"
      ]
    },
    {
      "cell_type": "markdown",
      "metadata": {
        "id": "ptFle-uZU3oC"
      },
      "source": [
        "Разница между `v` и `M` заключается только в их форме. Мы можем получить информацию о форме массива с помощью `ndarray.shape` свойства."
      ]
    },
    {
      "cell_type": "code",
      "execution_count": null,
      "metadata": {
        "colab": {
          "base_uri": "https://localhost:8080/"
        },
        "id": "QE3uryQFU3oD",
        "outputId": "050bb450-62f1-4ace-e54f-28dbd10f3fb2"
      },
      "outputs": [
        {
          "output_type": "execute_result",
          "data": {
            "text/plain": [
              "(4,)"
            ]
          },
          "metadata": {},
          "execution_count": 5
        }
      ],
      "source": [
        "v.shape"
      ]
    },
    {
      "cell_type": "code",
      "execution_count": null,
      "metadata": {
        "colab": {
          "base_uri": "https://localhost:8080/"
        },
        "id": "CNasVpDaU3oE",
        "outputId": "0650c529-cfcf-4c0c-f265-4fa124d83534"
      },
      "outputs": [
        {
          "output_type": "execute_result",
          "data": {
            "text/plain": [
              "(2, 2)"
            ]
          },
          "metadata": {},
          "execution_count": 6
        }
      ],
      "source": [
        "M.shape"
      ]
    },
    {
      "cell_type": "markdown",
      "metadata": {
        "id": "kynv-cNAU3oF"
      },
      "source": [
        "Количество элементов в массиве доступно через свойство `ndarray.size`:"
      ]
    },
    {
      "cell_type": "code",
      "execution_count": null,
      "metadata": {
        "colab": {
          "base_uri": "https://localhost:8080/"
        },
        "id": "jg1jrzKpU3oG",
        "outputId": "be2d4f86-6010-45e5-8f03-e0be522ad622"
      },
      "outputs": [
        {
          "output_type": "execute_result",
          "data": {
            "text/plain": [
              "4"
            ]
          },
          "metadata": {},
          "execution_count": 7
        }
      ],
      "source": [
        "M.size"
      ]
    },
    {
      "cell_type": "markdown",
      "metadata": {
        "id": "8i7RWSY8U3oG"
      },
      "source": [
        "Так же можно использовать функции `numpy.shape` и `numpy.size`. Использование дублирующих методы функций характерно для Python как языка поддерживающего как объектно-ориентированную так и функциональную парадигмы программирования."
      ]
    },
    {
      "cell_type": "code",
      "execution_count": null,
      "metadata": {
        "colab": {
          "base_uri": "https://localhost:8080/"
        },
        "id": "Oz0nC9wsU3oH",
        "outputId": "622030ef-5a4d-480e-f68b-f658d40a75ee"
      },
      "outputs": [
        {
          "output_type": "execute_result",
          "data": {
            "text/plain": [
              "(2, 2)"
            ]
          },
          "metadata": {},
          "execution_count": 8
        }
      ],
      "source": [
        "shape(M)"
      ]
    },
    {
      "cell_type": "code",
      "execution_count": null,
      "metadata": {
        "colab": {
          "base_uri": "https://localhost:8080/"
        },
        "id": "uYGKKa9IU3oH",
        "outputId": "f29d31ae-6997-42c8-c416-a2bdbc3c7dfa"
      },
      "outputs": [
        {
          "output_type": "execute_result",
          "data": {
            "text/plain": [
              "4"
            ]
          },
          "metadata": {},
          "execution_count": 9
        }
      ],
      "source": [
        "size(M)"
      ]
    },
    {
      "cell_type": "markdown",
      "metadata": {
        "id": "EUPuk1jqU3oI"
      },
      "source": [
        "До сих пор `numpy.ndarray` ужасно похож на список Python (или вложенный список). Почему бы просто не использовать списки Python для вычислений вместо создания нового типа массива?\n",
        "\n",
        "Есть несколько причин:\n",
        "\n",
        "* Списки Python очень общие. Они могут содержать любой вид объекта. Они динамически типизируются. Они не поддерживают математические функции, такие как матричное и точечное умножение и т. д. Реализация таких функций для списков Python была бы не очень эффективной из-за динамической типизации.\n",
        "* Массивы Numpy **статически типизированы** и **однородны**. Тип элементов определяется при создании массива.\n",
        "* Массивы Numpy эффективны для работы с памятью.\n",
        "* Из-за статической типизации быстро реализуются математические функции, такие как умножение и сложение массивов `numpy`, функции могут быть реализованы на компилируемом языке (используется C и Fortran).\n",
        "\n",
        "Используя свойство `dtype` (тип данных) `ndarray`, мы можем увидеть, какой тип имеют данные массива:"
      ]
    },
    {
      "cell_type": "code",
      "execution_count": null,
      "metadata": {
        "colab": {
          "base_uri": "https://localhost:8080/"
        },
        "id": "3lAnBGkdU3oJ",
        "outputId": "f1762497-1290-4fd7-d442-1f6c5ff1813f"
      },
      "outputs": [
        {
          "output_type": "execute_result",
          "data": {
            "text/plain": [
              "dtype('int64')"
            ]
          },
          "metadata": {},
          "execution_count": 10
        }
      ],
      "source": [
        "M.dtype"
      ]
    },
    {
      "cell_type": "markdown",
      "metadata": {
        "id": "yq0gfth1U3oJ"
      },
      "source": [
        "Обратите внимание, что при не совпадении типов при присвоении будет выдана ошибка, что есть следствие статической типизации `ndarray`:"
      ]
    },
    {
      "cell_type": "code",
      "execution_count": null,
      "metadata": {
        "id": "oak0oB_AU3oK",
        "outputId": "5edb1500-8399-49d7-f193-e71ab510ad4f",
        "colab": {
          "base_uri": "https://localhost:8080/",
          "height": 166
        }
      },
      "outputs": [
        {
          "output_type": "error",
          "ename": "ValueError",
          "evalue": "ignored",
          "traceback": [
            "\u001b[0;31m---------------------------------------------------------------------------\u001b[0m",
            "\u001b[0;31mValueError\u001b[0m                                Traceback (most recent call last)",
            "\u001b[0;32m<ipython-input-47-e1f336250f69>\u001b[0m in \u001b[0;36m<module>\u001b[0;34m\u001b[0m\n\u001b[0;32m----> 1\u001b[0;31m \u001b[0mM\u001b[0m\u001b[0;34m[\u001b[0m\u001b[0;36m0\u001b[0m\u001b[0;34m,\u001b[0m\u001b[0;36m0\u001b[0m\u001b[0;34m]\u001b[0m \u001b[0;34m=\u001b[0m \u001b[0;34m\"hello\"\u001b[0m\u001b[0;34m\u001b[0m\u001b[0;34m\u001b[0m\u001b[0m\n\u001b[0m",
            "\u001b[0;31mValueError\u001b[0m: complex() arg is a malformed string"
          ]
        }
      ],
      "source": [
        "M[0,0] = \"hello\""
      ]
    },
    {
      "cell_type": "markdown",
      "metadata": {
        "id": "AS27VKoQU3oK"
      },
      "source": [
        "Если мы хотим, мы можем явно определить тип данных массива при его создании, используя аргумент ключевого слова `dtype`:"
      ]
    },
    {
      "cell_type": "code",
      "execution_count": null,
      "metadata": {
        "colab": {
          "base_uri": "https://localhost:8080/"
        },
        "id": "jwbqkvCfU3oK",
        "outputId": "926dc422-1a43-4994-a4b8-5ce9be2c3910"
      },
      "outputs": [
        {
          "output_type": "execute_result",
          "data": {
            "text/plain": [
              "array([[1.+0.j, 2.+0.j],\n",
              "       [3.+0.j, 4.+0.j]])"
            ]
          },
          "metadata": {},
          "execution_count": 46
        }
      ],
      "source": [
        "M = array([[1, 2], [3, 4]], dtype=complex)\n",
        "\n",
        "M"
      ]
    },
    {
      "cell_type": "markdown",
      "metadata": {
        "id": "qxm8uo0aU3oL"
      },
      "source": [
        "Общие типы данных, которые можно использовать с `dtype`: `int`, `float`, `complex`, `bool`, `object` и т. д.\n",
        "\n",
        "Мы также можем явно определить битовый размер типов данных, например: `int64`, `int16`, `float128`, `complex128`."
      ]
    },
    {
      "cell_type": "markdown",
      "metadata": {
        "id": "iVWdfSQcU3oL"
      },
      "source": [
        "### Задание 1\n",
        "Создайте матрицу таблицы умножения с использованием списков"
      ]
    },
    {
      "cell_type": "code",
      "source": [
        "L = [j * i for i in [i for i in range(1, 10)]for j in range(1, 10)]\n",
        "T = array(L, dtype = int16).reshape(9, 9)\n",
        "T"
      ],
      "metadata": {
        "colab": {
          "base_uri": "https://localhost:8080/"
        },
        "id": "w8zxqshgYABG",
        "outputId": "6edc2651-0e1c-4962-9be5-81fa6fc9977d"
      },
      "execution_count": null,
      "outputs": [
        {
          "output_type": "execute_result",
          "data": {
            "text/plain": [
              "array([[ 1,  2,  3,  4,  5,  6,  7,  8,  9],\n",
              "       [ 2,  4,  6,  8, 10, 12, 14, 16, 18],\n",
              "       [ 3,  6,  9, 12, 15, 18, 21, 24, 27],\n",
              "       [ 4,  8, 12, 16, 20, 24, 28, 32, 36],\n",
              "       [ 5, 10, 15, 20, 25, 30, 35, 40, 45],\n",
              "       [ 6, 12, 18, 24, 30, 36, 42, 48, 54],\n",
              "       [ 7, 14, 21, 28, 35, 42, 49, 56, 63],\n",
              "       [ 8, 16, 24, 32, 40, 48, 56, 64, 72],\n",
              "       [ 9, 18, 27, 36, 45, 54, 63, 72, 81]], dtype=int16)"
            ]
          },
          "metadata": {},
          "execution_count": 16
        }
      ]
    },
    {
      "cell_type": "code",
      "source": [
        "x, y = mgrid[1:10, 1:10]\n",
        "print(x * y)"
      ],
      "metadata": {
        "colab": {
          "base_uri": "https://localhost:8080/"
        },
        "id": "ILpKUmk2bt7N",
        "outputId": "50809a59-2e24-4fae-c64e-666d6c54240a"
      },
      "execution_count": null,
      "outputs": [
        {
          "output_type": "stream",
          "name": "stdout",
          "text": [
            "[[ 1  2  3  4  5  6  7  8  9]\n",
            " [ 2  4  6  8 10 12 14 16 18]\n",
            " [ 3  6  9 12 15 18 21 24 27]\n",
            " [ 4  8 12 16 20 24 28 32 36]\n",
            " [ 5 10 15 20 25 30 35 40 45]\n",
            " [ 6 12 18 24 30 36 42 48 54]\n",
            " [ 7 14 21 28 35 42 49 56 63]\n",
            " [ 8 16 24 32 40 48 56 64 72]\n",
            " [ 9 18 27 36 45 54 63 72 81]]\n"
          ]
        }
      ]
    },
    {
      "cell_type": "markdown",
      "metadata": {
        "id": "rhnrN6F0U3oM"
      },
      "source": [
        "### Функции генерирующие массивы."
      ]
    },
    {
      "cell_type": "markdown",
      "metadata": {
        "id": "-LwtLJ6WU3oM"
      },
      "source": [
        "Для больших массивов нецелесообразно инициализировать данные вручную, используя явные списки Python. Вместо этого мы можем использовать одну из многих функций в `numpy`, которые генерируют массивы различных форм. Некоторые из наиболее распространенных являются:"
      ]
    },
    {
      "cell_type": "markdown",
      "metadata": {
        "id": "unLib59uU3oM"
      },
      "source": [
        "#### Функция arange"
      ]
    },
    {
      "cell_type": "code",
      "execution_count": null,
      "metadata": {
        "colab": {
          "base_uri": "https://localhost:8080/"
        },
        "id": "Rlz8JP2qU3oM",
        "outputId": "00cf5885-d258-4e70-ae15-b7c3550bc4b5"
      },
      "outputs": [
        {
          "output_type": "execute_result",
          "data": {
            "text/plain": [
              "array([10,  9,  8,  7,  6])"
            ]
          },
          "metadata": {},
          "execution_count": 12
        }
      ],
      "source": [
        "# массив целых от 0 до 10\n",
        "\n",
        "x = arange(10, 5, -1) # аргументы: начало, конец, шаг\n",
        "x"
      ]
    },
    {
      "cell_type": "code",
      "execution_count": null,
      "metadata": {
        "colab": {
          "base_uri": "https://localhost:8080/"
        },
        "id": "_Oa7ukULU3oN",
        "outputId": "8ad3fae1-9c92-4b2b-f0eb-56f253dfa354"
      },
      "outputs": [
        {
          "output_type": "execute_result",
          "data": {
            "text/plain": [
              "array([-1.00000000e+00, -9.00000000e-01, -8.00000000e-01, -7.00000000e-01,\n",
              "       -6.00000000e-01, -5.00000000e-01, -4.00000000e-01, -3.00000000e-01,\n",
              "       -2.00000000e-01, -1.00000000e-01, -2.22044605e-16,  1.00000000e-01,\n",
              "        2.00000000e-01,  3.00000000e-01,  4.00000000e-01,  5.00000000e-01,\n",
              "        6.00000000e-01,  7.00000000e-01,  8.00000000e-01,  9.00000000e-01])"
            ]
          },
          "metadata": {},
          "execution_count": 13
        }
      ],
      "source": [
        "x = arange(-1, 1, 0.1)\n",
        "\n",
        "x"
      ]
    },
    {
      "cell_type": "markdown",
      "metadata": {
        "id": "Rk198ZQ2U3oO"
      },
      "source": [
        "#### Функции linspace и logspace"
      ]
    },
    {
      "cell_type": "code",
      "execution_count": null,
      "metadata": {
        "colab": {
          "base_uri": "https://localhost:8080/"
        },
        "id": "CsQIkZ2GU3oO",
        "outputId": "31ff22b3-12d5-4caa-c991-63d94cb3bc0a"
      },
      "outputs": [
        {
          "output_type": "execute_result",
          "data": {
            "text/plain": [
              "array([ 5. ,  5.5,  6. ,  6.5,  7. ,  7.5,  8. ,  8.5,  9. ,  9.5, 10. ])"
            ]
          },
          "metadata": {},
          "execution_count": 26
        }
      ],
      "source": [
        "# использование linspace, оба конечных значения включены\n",
        "linspace(5, 10, 11)"
      ]
    },
    {
      "cell_type": "code",
      "execution_count": null,
      "metadata": {
        "colab": {
          "base_uri": "https://localhost:8080/"
        },
        "id": "6tpbVHc7U3oP",
        "outputId": "638ac122-d5ab-4e1f-c80f-8e4636c91f8b"
      },
      "outputs": [
        {
          "output_type": "execute_result",
          "data": {
            "text/plain": [
              "array([1.e+00, 1.e+01, 1.e+02, 1.e+03, 1.e+04, 1.e+05, 1.e+06, 1.e+07,\n",
              "       1.e+08, 1.e+09, 1.e+10])"
            ]
          },
          "metadata": {},
          "execution_count": 44
        }
      ],
      "source": [
        "logspace(0, 10, 11, base=10) # создание равномерной последовальности в логарифмической шкале"
      ]
    },
    {
      "cell_type": "markdown",
      "metadata": {
        "id": "9mvwcvVGU3oP"
      },
      "source": [
        "#### Функция mgrid"
      ]
    },
    {
      "cell_type": "code",
      "execution_count": null,
      "metadata": {
        "id": "grQ35QiOU3oQ"
      },
      "outputs": [],
      "source": [
        "x, y = mgrid[0:5, 0:5] #создает сетку равномерно расположенных значений подобно meshgrid в MATLAB"
      ]
    },
    {
      "cell_type": "code",
      "execution_count": null,
      "metadata": {
        "colab": {
          "base_uri": "https://localhost:8080/"
        },
        "id": "--S7gTYSU3oQ",
        "outputId": "68c1720c-8f4d-4187-ff03-2da03a240bc2"
      },
      "outputs": [
        {
          "output_type": "execute_result",
          "data": {
            "text/plain": [
              "array([[0, 0, 0, 0, 0],\n",
              "       [1, 1, 1, 1, 1],\n",
              "       [2, 2, 2, 2, 2],\n",
              "       [3, 3, 3, 3, 3],\n",
              "       [4, 4, 4, 4, 4]])"
            ]
          },
          "metadata": {},
          "execution_count": 29
        }
      ],
      "source": [
        "x"
      ]
    },
    {
      "cell_type": "code",
      "execution_count": null,
      "metadata": {
        "colab": {
          "base_uri": "https://localhost:8080/"
        },
        "id": "P1m_pORTU3oR",
        "outputId": "67f38650-31c0-435d-eaea-30b9cc35bcb9"
      },
      "outputs": [
        {
          "output_type": "execute_result",
          "data": {
            "text/plain": [
              "array([[0, 1, 2, 3, 4],\n",
              "       [0, 1, 2, 3, 4],\n",
              "       [0, 1, 2, 3, 4],\n",
              "       [0, 1, 2, 3, 4],\n",
              "       [0, 1, 2, 3, 4]])"
            ]
          },
          "metadata": {},
          "execution_count": 30
        }
      ],
      "source": [
        "y"
      ]
    },
    {
      "cell_type": "markdown",
      "metadata": {
        "id": "IczGgpA7U3oS"
      },
      "source": [
        "#### Создание случайных данных средствами random"
      ]
    },
    {
      "cell_type": "code",
      "execution_count": null,
      "metadata": {
        "id": "UYL3KwkuU3oS"
      },
      "outputs": [],
      "source": [
        "from numpy import random"
      ]
    },
    {
      "cell_type": "code",
      "execution_count": null,
      "metadata": {
        "colab": {
          "base_uri": "https://localhost:8080/"
        },
        "id": "qPR9_5TGU3oS",
        "outputId": "2242a9e1-de82-4d3a-92a1-b8a984537776"
      },
      "outputs": [
        {
          "output_type": "execute_result",
          "data": {
            "text/plain": [
              "array([[3.05895665e-01, 6.57214390e-01, 4.22563698e-01, 8.15873047e-01,\n",
              "        2.18831996e-01],\n",
              "       [1.65147949e-02, 6.56589411e-01, 7.70173495e-01, 3.57300574e-01,\n",
              "        2.45632238e-01],\n",
              "       [9.26250928e-01, 8.76793987e-01, 3.54694309e-01, 6.39206701e-01,\n",
              "        6.97664140e-01],\n",
              "       [2.90008373e-01, 6.72137452e-01, 3.17361878e-01, 5.57541294e-01,\n",
              "        7.51687333e-01],\n",
              "       [3.74531703e-01, 2.71383693e-02, 5.31209509e-01, 4.80831355e-01,\n",
              "        2.55741126e-04]])"
            ]
          },
          "metadata": {},
          "execution_count": 20
        }
      ],
      "source": [
        "# случайные данные с равномерным распределением в отрезке [0,1]\n",
        "random.rand(5,5)"
      ]
    },
    {
      "cell_type": "code",
      "execution_count": null,
      "metadata": {
        "colab": {
          "base_uri": "https://localhost:8080/"
        },
        "id": "n-8z-vt8U3oS",
        "outputId": "0e24af31-47ed-47e4-bf0d-e015ea87554f"
      },
      "outputs": [
        {
          "output_type": "execute_result",
          "data": {
            "text/plain": [
              "array([[ 0.73368727,  0.37720256, -0.47045598, -1.06274139,  1.45090998],\n",
              "       [ 1.03385812, -1.43694296,  0.01578932,  1.01679095,  0.49047557],\n",
              "       [-1.91894469, -0.60227098,  1.65008837, -0.50392206,  0.14044881],\n",
              "       [-1.02546751,  0.77267377,  1.11129831,  2.42730055,  0.93321428],\n",
              "       [ 1.33312417, -1.53253055,  2.09344845, -1.2706756 ,  1.50896509]])"
            ]
          },
          "metadata": {},
          "execution_count": 21
        }
      ],
      "source": [
        "# случайные данные с нормальным распределением\n",
        "random.randn(5,5)"
      ]
    },
    {
      "cell_type": "markdown",
      "metadata": {
        "id": "uLjWSI1HU3oT"
      },
      "source": [
        "#### Создание квадратных матриц функцией diag"
      ]
    },
    {
      "cell_type": "code",
      "execution_count": null,
      "metadata": {
        "colab": {
          "base_uri": "https://localhost:8080/"
        },
        "id": "u1SY7GRhU3oT",
        "outputId": "364d2163-62d1-4b1c-cded-2b0733023e4a"
      },
      "outputs": [
        {
          "output_type": "execute_result",
          "data": {
            "text/plain": [
              "array([[1, 0, 0],\n",
              "       [0, 2, 0],\n",
              "       [0, 0, 3]])"
            ]
          },
          "metadata": {},
          "execution_count": 44
        }
      ],
      "source": [
        "# матрица с диагональю\n",
        "diag([1,2,3])"
      ]
    },
    {
      "cell_type": "code",
      "execution_count": null,
      "metadata": {
        "colab": {
          "base_uri": "https://localhost:8080/"
        },
        "id": "e86nV45vU3oT",
        "outputId": "0c0bb0df-0aea-467e-cff0-6c82080920ec"
      },
      "outputs": [
        {
          "output_type": "execute_result",
          "data": {
            "text/plain": [
              "array([[0, 1, 0, 0],\n",
              "       [0, 0, 2, 0],\n",
              "       [0, 0, 0, 3],\n",
              "       [0, 0, 0, 0]])"
            ]
          },
          "metadata": {},
          "execution_count": 43
        }
      ],
      "source": [
        "# матрица со сдвинутой диагональю\n",
        "diag([1,2,3], k=1) "
      ]
    },
    {
      "cell_type": "markdown",
      "metadata": {
        "id": "TdGR90D6U3oU"
      },
      "source": [
        "#### Матрицы или спецмассивы zeros и ones"
      ]
    },
    {
      "cell_type": "code",
      "execution_count": null,
      "metadata": {
        "colab": {
          "base_uri": "https://localhost:8080/"
        },
        "id": "nwAaPhjpU3oU",
        "outputId": "f5f59af3-9e3d-4624-acdb-5d9ec6efbe19"
      },
      "outputs": [
        {
          "output_type": "execute_result",
          "data": {
            "text/plain": [
              "array([[0., 0., 0.],\n",
              "       [0., 0., 0.],\n",
              "       [0., 0., 0.]])"
            ]
          },
          "metadata": {},
          "execution_count": 42
        }
      ],
      "source": [
        "zeros((3,3))"
      ]
    },
    {
      "cell_type": "code",
      "execution_count": null,
      "metadata": {
        "colab": {
          "base_uri": "https://localhost:8080/"
        },
        "id": "sxGllbvSU3oU",
        "outputId": "fb7a4a52-1890-42de-9a76-4cc16adfde0f"
      },
      "outputs": [
        {
          "output_type": "execute_result",
          "data": {
            "text/plain": [
              "array([[1., 1., 1.],\n",
              "       [1., 1., 1.],\n",
              "       [1., 1., 1.]])"
            ]
          },
          "metadata": {},
          "execution_count": 41
        }
      ],
      "source": [
        "ones((3,3))"
      ]
    },
    {
      "cell_type": "markdown",
      "metadata": {
        "id": "HQyeyx6QU3oV"
      },
      "source": [
        "### Задание 2\n",
        "Создайте функцию, которая принимает как аргументы целое число N и первый элемент (вещественное число el1), и разность (вещественное число d) и создает матрицу по диагонали, которой распологаются первые N членов арифметической прогрессии. "
      ]
    },
    {
      "cell_type": "code",
      "source": [
        "def progression(N, el1, d):\n",
        "    return diag(linspace(el1, el1 + d, N))\n",
        "\n",
        "print(progression(6, 1.3, 6.12))"
      ],
      "metadata": {
        "colab": {
          "base_uri": "https://localhost:8080/"
        },
        "id": "XViUFcNMch1C",
        "outputId": "aa5ad4cf-7721-4e7b-a1ea-944a4c098ee8"
      },
      "execution_count": null,
      "outputs": [
        {
          "output_type": "stream",
          "name": "stdout",
          "text": [
            "[[1.3   0.    0.    0.    0.    0.   ]\n",
            " [0.    2.524 0.    0.    0.    0.   ]\n",
            " [0.    0.    3.748 0.    0.    0.   ]\n",
            " [0.    0.    0.    4.972 0.    0.   ]\n",
            " [0.    0.    0.    0.    6.196 0.   ]\n",
            " [0.    0.    0.    0.    0.    7.42 ]]\n"
          ]
        }
      ]
    },
    {
      "cell_type": "markdown",
      "metadata": {
        "id": "Dtxo1HZgU3oV"
      },
      "source": [
        "## Запись и чтение в файл"
      ]
    },
    {
      "cell_type": "markdown",
      "metadata": {
        "id": "UWzmVA8VU3oV"
      },
      "source": [
        "### Файлы данных Comma-separated values (CSV)"
      ]
    },
    {
      "cell_type": "markdown",
      "metadata": {
        "id": "dfPQyzWdU3oW"
      },
      "source": [
        "Очень распространенным форматом файлов данных являются значения, разделенные запятыми (CSV), или связанные с ними форматы, такие как TSV (значения, разделенные табуляциями). Для чтения данных из таких файлов в массивы Numpy мы можем использовать функцию `numpy.genfromtxt`. Например:"
      ]
    },
    {
      "cell_type": "code",
      "execution_count": null,
      "metadata": {
        "id": "K6tBAIh7U3oW"
      },
      "outputs": [],
      "source": [
        "data = genfromtxt('stockholm_td_adj.dat')"
      ]
    },
    {
      "cell_type": "code",
      "execution_count": null,
      "metadata": {
        "colab": {
          "base_uri": "https://localhost:8080/"
        },
        "id": "190PiEm6U3oW",
        "outputId": "65c5eda8-f842-48f6-b0cf-927fb5cf8017"
      },
      "outputs": [
        {
          "output_type": "execute_result",
          "data": {
            "text/plain": [
              "(77431, 7)"
            ]
          },
          "metadata": {},
          "execution_count": 10
        }
      ],
      "source": [
        "data.shape"
      ]
    },
    {
      "cell_type": "code",
      "execution_count": null,
      "metadata": {
        "colab": {
          "base_uri": "https://localhost:8080/",
          "height": 288
        },
        "id": "x7KXPk27U3oX",
        "outputId": "a75cc976-51e2-4bb2-e2ae-df6977758d5a"
      },
      "outputs": [
        {
          "output_type": "display_data",
          "data": {
            "text/plain": [
              "<Figure size 1008x288 with 1 Axes>"
            ],
            "image/png": "[encoded data removed]"
          },
          "metadata": {
            "needs_background": "light"
          }
        }
      ],
      "source": [
        "from matplotlib import *\n",
        "fig, ax = pyplot.subplots(figsize=(14,4))\n",
        "x=linspace(1,32,31)\n",
        "y=array([data[i,5] for i in range(data.shape[0]) if (data[i,0]==1950)*(data[i,1]==5)])\n",
        "ax.plot(x,y)\n",
        "ax.axis('tight')\n",
        "ax.set_title('tempeatures in Stockholm')\n",
        "ax.set_xlabel('year')\n",
        "ax.set_ylabel('temperature (C)');\n"
      ]
    },
    {
      "cell_type": "markdown",
      "metadata": {
        "id": "0UBEhNwSU3oX"
      },
      "source": [
        "Используя `numpy.savetxt` можно записать Numpy массив в файл CSV формате:"
      ]
    },
    {
      "cell_type": "code",
      "execution_count": null,
      "metadata": {
        "id": "tA1yQk_tU3oX",
        "colab": {
          "base_uri": "https://localhost:8080/"
        },
        "outputId": "cd3346ec-c1f5-47fe-8dc7-ab5954ae47cb"
      },
      "outputs": [
        {
          "output_type": "execute_result",
          "data": {
            "text/plain": [
              "array([[0.9889279 , 0.69562256, 0.296428  ],\n",
              "       [0.12413342, 0.29596113, 0.77775113],\n",
              "       [0.88602999, 0.83001715, 0.7324933 ]])"
            ]
          },
          "metadata": {},
          "execution_count": 38
        }
      ],
      "source": [
        "M = random.rand(3,3)\n",
        "\n",
        "M"
      ]
    },
    {
      "cell_type": "code",
      "execution_count": null,
      "metadata": {
        "id": "hiLc_g6fU3oY"
      },
      "outputs": [],
      "source": [
        "savetxt(\"random-matrix.csv\", M)"
      ]
    },
    {
      "cell_type": "code",
      "execution_count": null,
      "metadata": {
        "id": "uUq-sZ2qU3oY",
        "colab": {
          "base_uri": "https://localhost:8080/"
        },
        "outputId": "b2342d84-bca3-45db-b77e-cc47f4cb3e91"
      },
      "outputs": [
        {
          "output_type": "execute_result",
          "data": {
            "text/plain": [
              "array([[0.63105, 0.44281, 0.38234],\n",
              "       [0.83403, 0.35611, 0.22104],\n",
              "       [0.52643, 0.26014, 0.34719]])"
            ]
          },
          "metadata": {},
          "execution_count": 15
        }
      ],
      "source": [
        "savetxt(\"random-matrix.csv\", M, fmt='%.5f') # fmt определяет формат данных\n",
        "rand_data = genfromtxt('random-matrix.csv')\n",
        "rand_data"
      ]
    },
    {
      "cell_type": "markdown",
      "metadata": {
        "id": "Qkvn9e3VU3oY"
      },
      "source": [
        "### Формат файлов Numpy"
      ]
    },
    {
      "cell_type": "markdown",
      "metadata": {
        "id": "7en8roajU3oY"
      },
      "source": [
        "Полезно при хранении и считывании данных массива numpy. Используйте функции `numpy.save` и `numpy.load`:"
      ]
    },
    {
      "cell_type": "code",
      "execution_count": null,
      "metadata": {
        "id": "MFuRGDO-U3oZ"
      },
      "outputs": [],
      "source": [
        "save(\"random-matrix.npy\", M)"
      ]
    },
    {
      "cell_type": "code",
      "execution_count": null,
      "metadata": {
        "id": "c9osIR6PU3oZ",
        "colab": {
          "base_uri": "https://localhost:8080/"
        },
        "outputId": "ba8e7610-4b78-430a-f471-1c380fdc110d"
      },
      "outputs": [
        {
          "output_type": "execute_result",
          "data": {
            "text/plain": [
              "array([[0.63104808, 0.44281322, 0.38233732],\n",
              "       [0.83402635, 0.35610505, 0.22103984],\n",
              "       [0.5264258 , 0.26013827, 0.34719417]])"
            ]
          },
          "metadata": {},
          "execution_count": 18
        }
      ],
      "source": [
        "load(\"random-matrix.npy\")\n"
      ]
    },
    {
      "cell_type": "markdown",
      "metadata": {
        "id": "gaoPGluMU3oZ"
      },
      "source": [
        "### Задание 3\n",
        "Из данных по температуре в Стокгольме выбрать данные относящиеся к октябрю 1970 года и записать их в бинарный и текстовый файлы oct70.bin и oct70.txt. Затем прочитайте их импортировав в тетрадь ноутбука и сравните."
      ]
    },
    {
      "cell_type": "code",
      "source": [
        "data = genfromtxt('stockholm_td_adj.dat')\n",
        "temperature = array([data[i,5] for i in range(data.shape[0]) if (data[i,0]==1970)*(data[i,1]==10)])\n",
        "save(\"oct70.txt\", temperature)\n",
        "save(\"oct70.bin\", temperature)"
      ],
      "metadata": {
        "id": "rrz36zJStBMF"
      },
      "execution_count": null,
      "outputs": []
    },
    {
      "cell_type": "code",
      "source": [
        "load(\"oct70.txt.npy\")"
      ],
      "metadata": {
        "colab": {
          "base_uri": "https://localhost:8080/"
        },
        "id": "EyrfrBmrv_jl",
        "outputId": "c807c994-8c46-4ab6-ffd1-ae5d3f8e84fa"
      },
      "execution_count": null,
      "outputs": [
        {
          "output_type": "execute_result",
          "data": {
            "text/plain": [
              "array([10.4,  9. ,  7.8,  6.6,  7.9, 10.7, 12.2, 12.2, 10.2, 10.9,  9.7,\n",
              "        9. ,  6.7,  4.8,  8.2,  9.9,  9.8,  8.6,  8.8,  7.3,  6.2,  3. ,\n",
              "        0.5,  4.5,  6.3,  3.3,  1.6,  1.7,  2.3,  1.8,  1.1])"
            ]
          },
          "metadata": {},
          "execution_count": 31
        }
      ]
    },
    {
      "cell_type": "code",
      "source": [
        "load(\"oct70.bin.npy\")"
      ],
      "metadata": {
        "colab": {
          "base_uri": "https://localhost:8080/"
        },
        "id": "yH8ghoOqwd0D",
        "outputId": "39773075-5232-45fb-d6c7-d8e5c03c2c41"
      },
      "execution_count": null,
      "outputs": [
        {
          "output_type": "execute_result",
          "data": {
            "text/plain": [
              "array([10.4,  9. ,  7.8,  6.6,  7.9, 10.7, 12.2, 12.2, 10.2, 10.9,  9.7,\n",
              "        9. ,  6.7,  4.8,  8.2,  9.9,  9.8,  8.6,  8.8,  7.3,  6.2,  3. ,\n",
              "        0.5,  4.5,  6.3,  3.3,  1.6,  1.7,  2.3,  1.8,  1.1])"
            ]
          },
          "metadata": {},
          "execution_count": 32
        }
      ]
    },
    {
      "cell_type": "markdown",
      "metadata": {
        "id": "AZeHp9BhU3oZ"
      },
      "source": [
        "## Дополнительные свойства `numpy` *arrays*"
      ]
    },
    {
      "cell_type": "code",
      "execution_count": null,
      "metadata": {
        "id": "fRfSrqJkU3oa",
        "outputId": "5594ca04-ea90-49ac-effd-03876f1ecb32",
        "colab": {
          "base_uri": "https://localhost:8080/"
        }
      },
      "outputs": [
        {
          "output_type": "execute_result",
          "data": {
            "text/plain": [
              "8"
            ]
          },
          "metadata": {},
          "execution_count": 33
        }
      ],
      "source": [
        "M.itemsize # размер элемента в байтах"
      ]
    },
    {
      "cell_type": "code",
      "execution_count": null,
      "metadata": {
        "id": "sxVeI870U3oa",
        "outputId": "d52b1107-bd92-4904-ce5c-ba165761af01",
        "colab": {
          "base_uri": "https://localhost:8080/"
        }
      },
      "outputs": [
        {
          "output_type": "execute_result",
          "data": {
            "text/plain": [
              "72"
            ]
          },
          "metadata": {},
          "execution_count": 34
        }
      ],
      "source": [
        "M.nbytes # кол-во байт"
      ]
    },
    {
      "cell_type": "code",
      "execution_count": null,
      "metadata": {
        "id": "1uWcV1ZGU3oa",
        "outputId": "21bd8802-ec2a-4d89-ec78-f3711ae7d456",
        "colab": {
          "base_uri": "https://localhost:8080/"
        }
      },
      "outputs": [
        {
          "output_type": "execute_result",
          "data": {
            "text/plain": [
              "2"
            ]
          },
          "metadata": {},
          "execution_count": 35
        }
      ],
      "source": [
        "M.ndim # размерность"
      ]
    },
    {
      "cell_type": "markdown",
      "metadata": {
        "id": "aWOxoBg7U3ob"
      },
      "source": [
        "## Преобразование массивов"
      ]
    },
    {
      "cell_type": "markdown",
      "metadata": {
        "id": "oizPJNt5U3ob"
      },
      "source": [
        "### Использование индексов"
      ]
    },
    {
      "cell_type": "markdown",
      "metadata": {
        "id": "YasagzQrU3ob"
      },
      "source": [
        "Доступ к элементам через индекс:"
      ]
    },
    {
      "cell_type": "code",
      "execution_count": null,
      "metadata": {
        "id": "0n14aPoTU3ob",
        "outputId": "9e051460-4be7-4229-b9bc-5ff7338beecf",
        "colab": {
          "base_uri": "https://localhost:8080/"
        }
      },
      "outputs": [
        {
          "output_type": "execute_result",
          "data": {
            "text/plain": [
              "1"
            ]
          },
          "metadata": {},
          "execution_count": 49
        }
      ],
      "source": [
        "# v -- вектор, размерность 1, испльзуем 1 индекс\n",
        "v = array([1,2,3,4])\n",
        "\n",
        "v[0]"
      ]
    },
    {
      "cell_type": "code",
      "execution_count": null,
      "metadata": {
        "id": "WGOxrX4qU3oc",
        "outputId": "5959d134-7868-4385-8f40-5cde165984b8",
        "colab": {
          "base_uri": "https://localhost:8080/"
        }
      },
      "outputs": [
        {
          "output_type": "execute_result",
          "data": {
            "text/plain": [
              "(4+0j)"
            ]
          },
          "metadata": {},
          "execution_count": 50
        }
      ],
      "source": [
        "# M -- матрица, 2-х мерный объект, используем 2 индекса \n",
        "M[1,1]"
      ]
    },
    {
      "cell_type": "markdown",
      "metadata": {
        "id": "tDzDLjhAU3oc"
      },
      "source": [
        "Если мы опустим один из индексов, то получим объект пониженной размерности. В случае двумерной матрицы, получим вектор. "
      ]
    },
    {
      "cell_type": "code",
      "execution_count": null,
      "metadata": {
        "id": "jSMz6JL9U3oc",
        "outputId": "b1c2e136-fb59-4993-f702-d3ba284b0d73",
        "colab": {
          "base_uri": "https://localhost:8080/"
        }
      },
      "outputs": [
        {
          "output_type": "execute_result",
          "data": {
            "text/plain": [
              "array([[1.+0.j, 2.+0.j],\n",
              "       [3.+0.j, 4.+0.j]])"
            ]
          },
          "metadata": {},
          "execution_count": 51
        }
      ],
      "source": [
        "M"
      ]
    },
    {
      "cell_type": "code",
      "execution_count": null,
      "metadata": {
        "id": "T0PRvPoSU3od",
        "outputId": "cf45b458-c02b-401a-86e1-810f3ba7ef08",
        "colab": {
          "base_uri": "https://localhost:8080/"
        }
      },
      "outputs": [
        {
          "output_type": "execute_result",
          "data": {
            "text/plain": [
              "array([3.+0.j, 4.+0.j])"
            ]
          },
          "metadata": {},
          "execution_count": 52
        }
      ],
      "source": [
        "M[1]"
      ]
    },
    {
      "cell_type": "markdown",
      "metadata": {
        "id": "FjCh71NdU3od"
      },
      "source": [
        "Такой же эффект получится при использовании `:` на месте индекса:"
      ]
    },
    {
      "cell_type": "code",
      "execution_count": null,
      "metadata": {
        "id": "7eTjNu1aU3od",
        "outputId": "a303b03f-db04-402e-d40f-b7f6fcc28971",
        "colab": {
          "base_uri": "https://localhost:8080/"
        }
      },
      "outputs": [
        {
          "output_type": "execute_result",
          "data": {
            "text/plain": [
              "array([3.+0.j, 4.+0.j])"
            ]
          },
          "metadata": {},
          "execution_count": 53
        }
      ],
      "source": [
        "M[1,:] # строка (row) 1"
      ]
    },
    {
      "cell_type": "code",
      "execution_count": null,
      "metadata": {
        "id": "7oQS8ICNU3of",
        "outputId": "319a2e0d-a436-4e8e-e370-4e1599f1ad4b",
        "colab": {
          "base_uri": "https://localhost:8080/"
        }
      },
      "outputs": [
        {
          "output_type": "execute_result",
          "data": {
            "text/plain": [
              "array([2.+0.j, 4.+0.j])"
            ]
          },
          "metadata": {},
          "execution_count": 54
        }
      ],
      "source": [
        "M[:,1] # столбец (column) 1"
      ]
    },
    {
      "cell_type": "markdown",
      "metadata": {
        "id": "1li9K3KsU3of"
      },
      "source": [
        "Мы можем присваивать новые значения элементам массива с помощью индексации:"
      ]
    },
    {
      "cell_type": "code",
      "execution_count": null,
      "metadata": {
        "id": "vRBfIGHtU3og"
      },
      "outputs": [],
      "source": [
        "M[0,0] = 1"
      ]
    },
    {
      "cell_type": "code",
      "execution_count": null,
      "metadata": {
        "id": "2JcblBCMU3og",
        "outputId": "3e608f10-0989-4787-9d00-7c8921c53d87",
        "colab": {
          "base_uri": "https://localhost:8080/"
        }
      },
      "outputs": [
        {
          "output_type": "execute_result",
          "data": {
            "text/plain": [
              "array([[1.+0.j, 2.+0.j],\n",
              "       [3.+0.j, 4.+0.j]])"
            ]
          },
          "metadata": {},
          "execution_count": 56
        }
      ],
      "source": [
        "M"
      ]
    },
    {
      "cell_type": "code",
      "execution_count": null,
      "metadata": {
        "id": "pqdiYwKWU3oh"
      },
      "outputs": [],
      "source": [
        "# также работает для строк и столбцов\n",
        "M[1,:] = 0\n",
        "M[:,1] = -1"
      ]
    },
    {
      "cell_type": "code",
      "execution_count": null,
      "metadata": {
        "id": "pOUoWFpIU3oh",
        "outputId": "12647628-c4fd-4d95-ee92-065e2a87861f",
        "colab": {
          "base_uri": "https://localhost:8080/"
        }
      },
      "outputs": [
        {
          "output_type": "execute_result",
          "data": {
            "text/plain": [
              "array([[ 1.+0.j, -1.+0.j],\n",
              "       [ 0.+0.j, -1.+0.j]])"
            ]
          },
          "metadata": {},
          "execution_count": 65
        }
      ],
      "source": [
        "M"
      ]
    },
    {
      "cell_type": "markdown",
      "metadata": {
        "id": "x7YskQcVU3oh"
      },
      "source": [
        "### Срезы (*slice*) по индексам"
      ]
    },
    {
      "cell_type": "markdown",
      "metadata": {
        "id": "kPFBq5lzU3oi"
      },
      "source": [
        "Срезы по индексам техническое название `M[нижний индекс:верхний индекс:шаг]` предназначенные для извлечения части массива:"
      ]
    },
    {
      "cell_type": "code",
      "execution_count": null,
      "metadata": {
        "id": "J94H8zCaU3oi",
        "outputId": "07133a85-f3cf-4558-e7c1-7a21522ff61f",
        "colab": {
          "base_uri": "https://localhost:8080/"
        }
      },
      "outputs": [
        {
          "output_type": "execute_result",
          "data": {
            "text/plain": [
              "array([1, 2, 3, 4, 5])"
            ]
          },
          "metadata": {},
          "execution_count": 79
        }
      ],
      "source": [
        "A = array([1,2,3,4,5])\n",
        "A"
      ]
    },
    {
      "cell_type": "code",
      "execution_count": null,
      "metadata": {
        "id": "5lKJaE68U3oj",
        "outputId": "9739696b-7eab-4f87-9ac9-5b52d51bc68b",
        "colab": {
          "base_uri": "https://localhost:8080/"
        }
      },
      "outputs": [
        {
          "output_type": "execute_result",
          "data": {
            "text/plain": [
              "array([2, 3])"
            ]
          },
          "metadata": {},
          "execution_count": 80
        }
      ],
      "source": [
        "A[1:3]"
      ]
    },
    {
      "cell_type": "markdown",
      "metadata": {
        "id": "sXqWu2wEU3oj"
      },
      "source": [
        "Срезы массива являются *изменяемыми (mutable)*: если им присвоено новое значение, то исходный массив, из которого был извлечен срез, изменяется:"
      ]
    },
    {
      "cell_type": "code",
      "execution_count": null,
      "metadata": {
        "id": "tt0XcnnSU3oj",
        "outputId": "b9a0c6f9-9153-46b6-c667-3d14b1cd549e",
        "colab": {
          "base_uri": "https://localhost:8080/"
        }
      },
      "outputs": [
        {
          "output_type": "execute_result",
          "data": {
            "text/plain": [
              "array([ 1, -2, -3,  4,  5])"
            ]
          },
          "metadata": {},
          "execution_count": 81
        }
      ],
      "source": [
        "A[1:3] = [-2,-3]\n",
        "\n",
        "A"
      ]
    },
    {
      "cell_type": "markdown",
      "metadata": {
        "id": "jeoRYd8rU3oj"
      },
      "source": [
        "Можно не указывать любой из трех параметров среза`M[нижний индекс:верхний индекс:шаг]`:"
      ]
    },
    {
      "cell_type": "code",
      "execution_count": null,
      "metadata": {
        "id": "C_dE-aSVU3ok",
        "outputId": "3a30270a-f790-48ba-8c2e-de669b132cd2",
        "colab": {
          "base_uri": "https://localhost:8080/"
        }
      },
      "outputs": [
        {
          "output_type": "execute_result",
          "data": {
            "text/plain": [
              "array([ 1, -2, -3,  4,  5])"
            ]
          },
          "metadata": {},
          "execution_count": 69
        }
      ],
      "source": [
        "A[::] # нижний, верхний индексы и шаг (=1) принимают значения по умолчанию"
      ]
    },
    {
      "cell_type": "code",
      "execution_count": null,
      "metadata": {
        "id": "znTPq0awU3ok",
        "outputId": "13cc23ee-040a-45be-d867-e640b3dfe3b5",
        "colab": {
          "base_uri": "https://localhost:8080/"
        }
      },
      "outputs": [
        {
          "output_type": "execute_result",
          "data": {
            "text/plain": [
              "array([ 1, -3,  5])"
            ]
          },
          "metadata": {},
          "execution_count": 70
        }
      ],
      "source": [
        "A[::2] # шаг равен 2, нижний и верхний индексы принимают значения начала и конца массива"
      ]
    },
    {
      "cell_type": "code",
      "execution_count": null,
      "metadata": {
        "id": "88U0JwfVU3ok",
        "outputId": "cdb95496-3708-4ab3-db4f-f33f5d94fdba",
        "colab": {
          "base_uri": "https://localhost:8080/"
        }
      },
      "outputs": [
        {
          "output_type": "execute_result",
          "data": {
            "text/plain": [
              "array([ 1, -2, -3])"
            ]
          },
          "metadata": {},
          "execution_count": 82
        }
      ],
      "source": [
        "A[:3] # первые три элемента"
      ]
    },
    {
      "cell_type": "code",
      "execution_count": null,
      "metadata": {
        "id": "IOvouS7LU3ol",
        "outputId": "57dc4e08-1811-40ba-e512-2ea495041916",
        "colab": {
          "base_uri": "https://localhost:8080/"
        }
      },
      "outputs": [
        {
          "output_type": "execute_result",
          "data": {
            "text/plain": [
              "array([4, 5])"
            ]
          },
          "metadata": {},
          "execution_count": 83
        }
      ],
      "source": [
        "A[3:] # элементы с индекса 3"
      ]
    },
    {
      "cell_type": "markdown",
      "metadata": {
        "id": "CpFqFUS6U3ol"
      },
      "source": [
        "Отрицательные индексы отсчитываются с конца массива (положительные - с начала):"
      ]
    },
    {
      "cell_type": "code",
      "execution_count": null,
      "metadata": {
        "id": "9NnCuZMsU3ol"
      },
      "outputs": [],
      "source": [
        "A = array([1,2,3,4,5])"
      ]
    },
    {
      "cell_type": "code",
      "execution_count": null,
      "metadata": {
        "id": "LowEVyRxU3ol",
        "outputId": "ae9a36c2-e34a-4d0e-92f5-3bd3e7adf0df",
        "colab": {
          "base_uri": "https://localhost:8080/"
        }
      },
      "outputs": [
        {
          "output_type": "execute_result",
          "data": {
            "text/plain": [
              "5"
            ]
          },
          "metadata": {},
          "execution_count": 74
        }
      ],
      "source": [
        "A[-1] # последний элемент массива"
      ]
    },
    {
      "cell_type": "code",
      "execution_count": null,
      "metadata": {
        "id": "qxmZpVqrU3om",
        "outputId": "f87b759e-7bac-4aeb-a1d1-14c45696043b",
        "colab": {
          "base_uri": "https://localhost:8080/"
        }
      },
      "outputs": [
        {
          "output_type": "execute_result",
          "data": {
            "text/plain": [
              "array([3, 4, 5])"
            ]
          },
          "metadata": {},
          "execution_count": 75
        }
      ],
      "source": [
        "A[-3:] # последние 3 элемента"
      ]
    },
    {
      "cell_type": "markdown",
      "metadata": {
        "id": "1Jsw5B2mU3om"
      },
      "source": [
        "Индексный срез работает точно так же для многомерных массивов:"
      ]
    },
    {
      "cell_type": "code",
      "execution_count": null,
      "metadata": {
        "id": "jk4Xb4BNU3om",
        "outputId": "9f8c4608-1ba4-42ee-8c22-1676666970c2",
        "colab": {
          "base_uri": "https://localhost:8080/"
        }
      },
      "outputs": [
        {
          "output_type": "execute_result",
          "data": {
            "text/plain": [
              "array([[ 0,  1,  2,  3,  4],\n",
              "       [10, 11, 12, 13, 14],\n",
              "       [20, 21, 22, 23, 24],\n",
              "       [30, 31, 32, 33, 34],\n",
              "       [40, 41, 42, 43, 44]])"
            ]
          },
          "metadata": {},
          "execution_count": 92
        }
      ],
      "source": [
        "A = array([[n+m*10 for n in range(5)] for m in range(5)])\n",
        "\n",
        "A"
      ]
    },
    {
      "cell_type": "code",
      "execution_count": null,
      "metadata": {
        "id": "Ti5ClxQTU3on",
        "outputId": "bb2aaab7-16c1-44c9-9a82-0108b6dcab51",
        "colab": {
          "base_uri": "https://localhost:8080/"
        }
      },
      "outputs": [
        {
          "output_type": "execute_result",
          "data": {
            "text/plain": [
              "array([[11, 12, 13],\n",
              "       [21, 22, 23],\n",
              "       [31, 32, 33]])"
            ]
          },
          "metadata": {},
          "execution_count": 91
        }
      ],
      "source": [
        "# часть массива\n",
        "A[1:4, 1:4]"
      ]
    },
    {
      "cell_type": "code",
      "execution_count": null,
      "metadata": {
        "id": "Utn505D1U3on",
        "outputId": "fec86670-d57a-415e-a60f-8df11693a5cb",
        "colab": {
          "base_uri": "https://localhost:8080/"
        }
      },
      "outputs": [
        {
          "output_type": "execute_result",
          "data": {
            "text/plain": [
              "array([], shape=(0, 5), dtype=int64)"
            ]
          },
          "metadata": {},
          "execution_count": 93
        }
      ],
      "source": [
        "# пошаговое извлечение\n",
        "A[::2, ::2]"
      ]
    },
    {
      "cell_type": "code",
      "source": [
        "A[0:1:1, 0:A.shape[1]:2]"
      ],
      "metadata": {
        "colab": {
          "base_uri": "https://localhost:8080/"
        },
        "id": "wVssGUll3BLH",
        "outputId": "44c7fef2-a6aa-4da3-a77a-f40d454108a1"
      },
      "execution_count": null,
      "outputs": [
        {
          "output_type": "execute_result",
          "data": {
            "text/plain": [
              "array([[0, 2, 4]])"
            ]
          },
          "metadata": {},
          "execution_count": 97
        }
      ]
    },
    {
      "cell_type": "markdown",
      "metadata": {
        "id": "oT4ht0Z5U3on"
      },
      "source": [
        "### Задание 4\n",
        "Используя срезы извлеките нечетные элементы матрицы А. "
      ]
    },
    {
      "cell_type": "code",
      "source": [
        "A = array([[n+m*10 for n in range(5)] for m in range(5)])\n",
        "\n",
        "A[0:A.shape[0]:1, 1:A.shape[1]:2]"
      ],
      "metadata": {
        "colab": {
          "base_uri": "https://localhost:8080/"
        },
        "id": "BoGCZLa70JlP",
        "outputId": "1a4bd352-60c2-411a-fef8-67a5b6a4c951"
      },
      "execution_count": null,
      "outputs": [
        {
          "output_type": "execute_result",
          "data": {
            "text/plain": [
              "array([[ 1,  3],\n",
              "       [11, 13],\n",
              "       [21, 23],\n",
              "       [31, 33],\n",
              "       [41, 43]])"
            ]
          },
          "metadata": {},
          "execution_count": 6
        }
      ]
    },
    {
      "cell_type": "markdown",
      "metadata": {
        "id": "KfkLBcV0U3oo"
      },
      "source": [
        "### Необычное индексирование"
      ]
    },
    {
      "cell_type": "markdown",
      "metadata": {
        "id": "9gqa8_O2U3oo"
      },
      "source": [
        "О необычном индексировании говорят, когда массив или список используется в качестве индекса: "
      ]
    },
    {
      "cell_type": "code",
      "source": [
        "A = array([[n+m*10 for n in range(5)] for m in range(5)])\n",
        "\n",
        "A"
      ],
      "metadata": {
        "colab": {
          "base_uri": "https://localhost:8080/"
        },
        "id": "bjQB_5Ne2NtN",
        "outputId": "14a9e264-8dff-4762-fb0e-6507ef18083c"
      },
      "execution_count": null,
      "outputs": [
        {
          "output_type": "execute_result",
          "data": {
            "text/plain": [
              "array([[ 0,  1,  2,  3,  4],\n",
              "       [10, 11, 12, 13, 14],\n",
              "       [20, 21, 22, 23, 24],\n",
              "       [30, 31, 32, 33, 34],\n",
              "       [40, 41, 42, 43, 44]])"
            ]
          },
          "metadata": {},
          "execution_count": 9
        }
      ]
    },
    {
      "cell_type": "code",
      "execution_count": null,
      "metadata": {
        "id": "0BI7LG5LU3oo",
        "outputId": "db51ce54-76e1-4f8f-fda0-df38d6a2b038",
        "colab": {
          "base_uri": "https://localhost:8080/"
        }
      },
      "outputs": [
        {
          "output_type": "execute_result",
          "data": {
            "text/plain": [
              "array([[10, 11, 12, 13, 14],\n",
              "       [20, 21, 22, 23, 24],\n",
              "       [30, 31, 32, 33, 34]])"
            ]
          },
          "metadata": {},
          "execution_count": 7
        }
      ],
      "source": [
        "row_indices = [1, 2, 3]\n",
        "A[row_indices]"
      ]
    },
    {
      "cell_type": "code",
      "execution_count": null,
      "metadata": {
        "id": "LfCxGGSeU3op",
        "outputId": "baedf64a-37d9-4455-dc06-695b13b7e338",
        "colab": {
          "base_uri": "https://localhost:8080/"
        }
      },
      "outputs": [
        {
          "output_type": "execute_result",
          "data": {
            "text/plain": [
              "array([[ 1,  2,  4],\n",
              "       [11, 12, 14],\n",
              "       [21, 22, 24],\n",
              "       [31, 32, 34],\n",
              "       [41, 42, 44]])"
            ]
          },
          "metadata": {},
          "execution_count": 8
        }
      ],
      "source": [
        "col_indices = [1, 2, -1] # вспомним, что -1 это последний элемент\n",
        "A[:,col_indices]"
      ]
    },
    {
      "cell_type": "markdown",
      "metadata": {
        "id": "1eX2yzoAU3op"
      },
      "source": [
        "Можно также использовать индексные маски: Если индексная маска представляет собой массив Numpy типа данных `bool`, то элемент выбирается (True) или нет (False) в зависимости от значения индексной маски в позиции каждого элемента:"
      ]
    },
    {
      "cell_type": "code",
      "execution_count": null,
      "metadata": {
        "id": "kerwYC6wU3op",
        "colab": {
          "base_uri": "https://localhost:8080/"
        },
        "outputId": "c0512b3b-4a57-465f-d445-a653948a8e18"
      },
      "outputs": [
        {
          "output_type": "execute_result",
          "data": {
            "text/plain": [
              "array([0, 1, 2, 3, 4])"
            ]
          },
          "metadata": {},
          "execution_count": 10
        }
      ],
      "source": [
        "B = array([n for n in range(5)])\n",
        "B"
      ]
    },
    {
      "cell_type": "code",
      "execution_count": null,
      "metadata": {
        "id": "vJpOVLf0U3oq",
        "colab": {
          "base_uri": "https://localhost:8080/"
        },
        "outputId": "d6f69a04-f972-4019-c04d-546eb914ed58"
      },
      "outputs": [
        {
          "output_type": "execute_result",
          "data": {
            "text/plain": [
              "array([0, 2])"
            ]
          },
          "metadata": {},
          "execution_count": 11
        }
      ],
      "source": [
        "row_mask = array([True, False, True, False, False])\n",
        "B[row_mask]"
      ]
    },
    {
      "cell_type": "code",
      "execution_count": null,
      "metadata": {
        "id": "6dAJvaa9U3oq",
        "colab": {
          "base_uri": "https://localhost:8080/"
        },
        "outputId": "622fd11e-5038-47b3-8b63-77c0a46e0d7c"
      },
      "outputs": [
        {
          "output_type": "execute_result",
          "data": {
            "text/plain": [
              "array([0, 2])"
            ]
          },
          "metadata": {},
          "execution_count": 12
        }
      ],
      "source": [
        "# тот же результат\n",
        "row_mask = array([1,0,1,0,0], dtype=bool)\n",
        "B[row_mask]"
      ]
    },
    {
      "cell_type": "markdown",
      "metadata": {
        "id": "AzuTDuqNU3oq"
      },
      "source": [
        "Эта функция очень полезна для условного выбора элементов из массива, используя, например, операторы сравнения:"
      ]
    },
    {
      "cell_type": "code",
      "execution_count": null,
      "metadata": {
        "id": "ndRciko1U3ox",
        "colab": {
          "base_uri": "https://localhost:8080/"
        },
        "outputId": "fc56420a-1d60-4bb7-8bc9-fead9f1de355"
      },
      "outputs": [
        {
          "output_type": "execute_result",
          "data": {
            "text/plain": [
              "array([0. , 0.5, 1. , 1.5, 2. , 2.5, 3. , 3.5, 4. , 4.5, 5. , 5.5, 6. ,\n",
              "       6.5, 7. , 7.5, 8. , 8.5, 9. , 9.5])"
            ]
          },
          "metadata": {},
          "execution_count": 13
        }
      ],
      "source": [
        "x = arange(0, 10, 0.5)\n",
        "x"
      ]
    },
    {
      "cell_type": "code",
      "execution_count": null,
      "metadata": {
        "id": "qp22kC8jU3ox",
        "colab": {
          "base_uri": "https://localhost:8080/"
        },
        "outputId": "1d7804af-3045-4f01-f7c3-5c8e86207e2e"
      },
      "outputs": [
        {
          "output_type": "execute_result",
          "data": {
            "text/plain": [
              "array([False, False, False, False, False, False, False, False, False,\n",
              "       False, False,  True,  True,  True,  True, False, False, False,\n",
              "       False, False])"
            ]
          },
          "metadata": {},
          "execution_count": 14
        }
      ],
      "source": [
        "mask = (5 < x) * (x < 7.5)\n",
        "\n",
        "mask"
      ]
    },
    {
      "cell_type": "code",
      "execution_count": null,
      "metadata": {
        "id": "gR-UlVAsU3oy",
        "colab": {
          "base_uri": "https://localhost:8080/"
        },
        "outputId": "19a34853-bf65-450a-a869-283e0878ac0b"
      },
      "outputs": [
        {
          "output_type": "execute_result",
          "data": {
            "text/plain": [
              "array([5.5, 6. , 6.5, 7. ])"
            ]
          },
          "metadata": {},
          "execution_count": 15
        }
      ],
      "source": [
        "x[mask]"
      ]
    },
    {
      "cell_type": "markdown",
      "metadata": {
        "id": "-eq6PxD9U3oy"
      },
      "source": [
        "### Задание 5\n",
        "Используйте массив из задания 1 (таблицу умножения) извлеките из него при помощи маски все числа кратные 3. "
      ]
    },
    {
      "cell_type": "code",
      "source": [
        "L = [j * i for i in [i for i in range(1, 10)]for j in range(1, 10)]\n",
        "T = array(L, dtype = int16).reshape(9, 9)\n",
        "T"
      ],
      "metadata": {
        "colab": {
          "base_uri": "https://localhost:8080/"
        },
        "id": "sNe7FCJ424MA",
        "outputId": "fabd894b-710d-4295-a027-03fa24117de6"
      },
      "execution_count": null,
      "outputs": [
        {
          "output_type": "execute_result",
          "data": {
            "text/plain": [
              "array([[ 1,  2,  3,  4,  5,  6,  7,  8,  9],\n",
              "       [ 2,  4,  6,  8, 10, 12, 14, 16, 18],\n",
              "       [ 3,  6,  9, 12, 15, 18, 21, 24, 27],\n",
              "       [ 4,  8, 12, 16, 20, 24, 28, 32, 36],\n",
              "       [ 5, 10, 15, 20, 25, 30, 35, 40, 45],\n",
              "       [ 6, 12, 18, 24, 30, 36, 42, 48, 54],\n",
              "       [ 7, 14, 21, 28, 35, 42, 49, 56, 63],\n",
              "       [ 8, 16, 24, 32, 40, 48, 56, 64, 72],\n",
              "       [ 9, 18, 27, 36, 45, 54, 63, 72, 81]], dtype=int16)"
            ]
          },
          "metadata": {},
          "execution_count": 23
        }
      ]
    },
    {
      "cell_type": "code",
      "source": [
        "mask = (T % 3 == 0)\n",
        "T[mask]"
      ],
      "metadata": {
        "colab": {
          "base_uri": "https://localhost:8080/"
        },
        "id": "oIViTjc73SBX",
        "outputId": "d6ee23f4-9475-4124-8798-49d661e51159"
      },
      "execution_count": null,
      "outputs": [
        {
          "output_type": "execute_result",
          "data": {
            "text/plain": [
              "array([ 3,  6,  9,  6, 12, 18,  3,  6,  9, 12, 15, 18, 21, 24, 27, 12, 24,\n",
              "       36, 15, 30, 45,  6, 12, 18, 24, 30, 36, 42, 48, 54, 21, 42, 63, 24,\n",
              "       48, 72,  9, 18, 27, 36, 45, 54, 63, 72, 81], dtype=int16)"
            ]
          },
          "metadata": {},
          "execution_count": 22
        }
      ]
    },
    {
      "cell_type": "markdown",
      "metadata": {
        "id": "fJ0RTyrFU3oz"
      },
      "source": [
        "## Функции для извлечения данных из массивов и создания массивов"
      ]
    },
    {
      "cell_type": "markdown",
      "metadata": {
        "id": "EDhx0_CnU3oz"
      },
      "source": [
        "### Функция where"
      ]
    },
    {
      "cell_type": "markdown",
      "metadata": {
        "id": "U1aGZm2kU3oz"
      },
      "source": [
        "Индексную маску можно превратить в список индексов, используя `where`:"
      ]
    },
    {
      "cell_type": "code",
      "execution_count": null,
      "metadata": {
        "id": "oxct9pcWU3o0",
        "outputId": "3da6f4ee-9ede-4245-f29d-eb3310552166",
        "colab": {
          "base_uri": "https://localhost:8080/"
        }
      },
      "outputs": [
        {
          "output_type": "execute_result",
          "data": {
            "text/plain": [
              "(array([0, 0, 0, 0, 1, 1, 1, 1, 1, 1, 1, 1, 1, 2, 2, 2, 2, 3, 3, 3, 3, 3,\n",
              "        3, 3, 3, 3, 4, 4, 4, 4, 5, 5, 5, 5, 5, 5, 5, 5, 5, 6, 6, 6, 6, 7,\n",
              "        7, 7, 7, 7, 7, 7, 7, 7, 8, 8, 8, 8]),\n",
              " array([1, 3, 5, 7, 0, 1, 2, 3, 4, 5, 6, 7, 8, 1, 3, 5, 7, 0, 1, 2, 3, 4,\n",
              "        5, 6, 7, 8, 1, 3, 5, 7, 0, 1, 2, 3, 4, 5, 6, 7, 8, 1, 3, 5, 7, 0,\n",
              "        1, 2, 3, 4, 5, 6, 7, 8, 1, 3, 5, 7]))"
            ]
          },
          "metadata": {},
          "execution_count": 168
        }
      ],
      "source": [
        "indices = where(mask)\n",
        "\n",
        "indices"
      ]
    },
    {
      "cell_type": "code",
      "execution_count": null,
      "metadata": {
        "id": "dpA0HiQlU3o0",
        "outputId": "fc081cd9-0659-4bec-aa3a-05a2855f1836",
        "colab": {
          "base_uri": "https://localhost:8080/",
          "height": 166
        }
      },
      "outputs": [
        {
          "output_type": "error",
          "ename": "IndexError",
          "evalue": "ignored",
          "traceback": [
            "\u001b[0;31m---------------------------------------------------------------------------\u001b[0m",
            "\u001b[0;31mIndexError\u001b[0m                                Traceback (most recent call last)",
            "\u001b[0;32m<ipython-input-169-a36fba447868>\u001b[0m in \u001b[0;36m<module>\u001b[0;34m\u001b[0m\n\u001b[0;32m----> 1\u001b[0;31m \u001b[0mx\u001b[0m\u001b[0;34m[\u001b[0m\u001b[0mindices\u001b[0m\u001b[0;34m]\u001b[0m \u001b[0;31m# действие этого списка эквивалентно маске, т.е. x[mask]\u001b[0m\u001b[0;34m\u001b[0m\u001b[0;34m\u001b[0m\u001b[0m\n\u001b[0m",
            "\u001b[0;31mIndexError\u001b[0m: too many indices for array: array is 1-dimensional, but 2 were indexed"
          ]
        }
      ],
      "source": [
        "x[indices] # действие этого списка эквивалентно маске, т.е. x[mask]"
      ]
    },
    {
      "cell_type": "markdown",
      "metadata": {
        "id": "qFbVf5i3U3o1"
      },
      "source": [
        "### Функция diag"
      ]
    },
    {
      "cell_type": "markdown",
      "metadata": {
        "id": "tlom5pkmU3o1"
      },
      "source": [
        "При помощи функции diag можно извлекать диагональные элементы с главной и смещенных диагоналей:"
      ]
    },
    {
      "cell_type": "code",
      "source": [
        "A"
      ],
      "metadata": {
        "colab": {
          "base_uri": "https://localhost:8080/"
        },
        "id": "CIHfinYM4dFI",
        "outputId": "ee3cc0a6-c499-440f-ed83-54014434c250"
      },
      "execution_count": null,
      "outputs": [
        {
          "output_type": "execute_result",
          "data": {
            "text/plain": [
              "array([[ 0,  1,  2,  3,  4],\n",
              "       [10, 11, 12, 13, 14],\n",
              "       [20, 21, 22, 23, 24],\n",
              "       [30, 31, 32, 33, 34],\n",
              "       [40, 41, 42, 43, 44]])"
            ]
          },
          "metadata": {},
          "execution_count": 170
        }
      ]
    },
    {
      "cell_type": "code",
      "execution_count": null,
      "metadata": {
        "id": "5crDnPJvU3o1"
      },
      "outputs": [],
      "source": [
        "diag(A)"
      ]
    },
    {
      "cell_type": "code",
      "execution_count": null,
      "metadata": {
        "id": "ugjPL8WCU3o2"
      },
      "outputs": [],
      "source": [
        "diag(A, -1)"
      ]
    },
    {
      "cell_type": "markdown",
      "metadata": {
        "id": "eS-VnHRXU3o2"
      },
      "source": [
        "### Функция take"
      ]
    },
    {
      "cell_type": "markdown",
      "metadata": {
        "id": "CorHKOSzU3o3"
      },
      "source": [
        "Функция `take` подобна описанной выше необычной индексации:"
      ]
    },
    {
      "cell_type": "code",
      "execution_count": null,
      "metadata": {
        "id": "30rGMSBFU3o3",
        "outputId": "8bdb7cf9-d93b-4d72-94fe-bb3bd9e993ff",
        "colab": {
          "base_uri": "https://localhost:8080/"
        }
      },
      "outputs": [
        {
          "output_type": "execute_result",
          "data": {
            "text/plain": [
              "array([-3, -2, -1,  0,  1,  2])"
            ]
          },
          "metadata": {},
          "execution_count": 172
        }
      ],
      "source": [
        "v2 = arange(-3,3)\n",
        "v2"
      ]
    },
    {
      "cell_type": "code",
      "execution_count": null,
      "metadata": {
        "id": "NksTkr9cU3o3",
        "outputId": "54e0aa29-3b9c-45b6-fbdb-85399ee93d6b",
        "colab": {
          "base_uri": "https://localhost:8080/"
        }
      },
      "outputs": [
        {
          "output_type": "execute_result",
          "data": {
            "text/plain": [
              "array([-2,  0,  2])"
            ]
          },
          "metadata": {},
          "execution_count": 173
        }
      ],
      "source": [
        "row_indices = [1, 3, 5]\n",
        "v2[row_indices] # необычная индексация"
      ]
    },
    {
      "cell_type": "code",
      "execution_count": null,
      "metadata": {
        "id": "3XetYSmhU3o4",
        "outputId": "1772a642-f1e1-493a-c050-82d70278d288",
        "colab": {
          "base_uri": "https://localhost:8080/"
        }
      },
      "outputs": [
        {
          "output_type": "execute_result",
          "data": {
            "text/plain": [
              "array([-2,  0,  2])"
            ]
          },
          "metadata": {},
          "execution_count": 174
        }
      ],
      "source": [
        "v2.take(row_indices)"
      ]
    },
    {
      "cell_type": "markdown",
      "metadata": {
        "id": "9TAB_M5AU3o4"
      },
      "source": [
        "Но функция `take` так же работает на списках и других объектах:"
      ]
    },
    {
      "cell_type": "code",
      "execution_count": null,
      "metadata": {
        "id": "DLMUG3WbU3o5",
        "outputId": "a2353272-281b-445b-83ca-6198da34922c",
        "colab": {
          "base_uri": "https://localhost:8080/"
        }
      },
      "outputs": [
        {
          "output_type": "execute_result",
          "data": {
            "text/plain": [
              "array([-2,  0,  2])"
            ]
          },
          "metadata": {},
          "execution_count": 213
        }
      ],
      "source": [
        "take([-3, -2, -1,  0,  1,  2], row_indices)"
      ]
    },
    {
      "cell_type": "markdown",
      "metadata": {
        "id": "DmBeMH9WU3o5"
      },
      "source": [
        "### Функция choose"
      ]
    },
    {
      "cell_type": "markdown",
      "metadata": {
        "id": "CrNrOH8HU3o5"
      },
      "source": [
        "Создает массив собирая элементы из нескольких массивов:"
      ]
    },
    {
      "cell_type": "code",
      "execution_count": null,
      "metadata": {
        "id": "oc2j6y06U3o6",
        "outputId": "57995c00-67a8-496d-f7a7-3807dd9de1b0",
        "colab": {
          "base_uri": "https://localhost:8080/"
        }
      },
      "outputs": [
        {
          "output_type": "execute_result",
          "data": {
            "text/plain": [
              "array([ 5, -2,  5, -2,  5, -2,  5, -2])"
            ]
          },
          "metadata": {},
          "execution_count": 176
        }
      ],
      "source": [
        "which = [1, 0, 1, 0, 1, 0, 1, 0]\n",
        "choices = [[-2,-2,-2,-2] * 2, [5,5,5,5] * 2]\n",
        "\n",
        "choose(which, choices)"
      ]
    },
    {
      "cell_type": "code",
      "source": [
        "which = [0,1,0,1,0,1,0,1,0]\n",
        "choices = [[1,0,2,0,3,0,4,0,5,0], [0,2,0,4,0,6,0,8,0]]\n",
        "choose(which, choices)"
      ],
      "metadata": {
        "colab": {
          "base_uri": "https://localhost:8080/",
          "height": 381
        },
        "id": "QwKxbI7HVEXx",
        "outputId": "288703a4-3a04-49b2-9432-61a137fecb0b"
      },
      "execution_count": null,
      "outputs": [
        {
          "output_type": "error",
          "ename": "ValueError",
          "evalue": "ignored",
          "traceback": [
            "\u001b[0;31m---------------------------------------------------------------------------\u001b[0m",
            "\u001b[0;31mValueError\u001b[0m                                Traceback (most recent call last)",
            "\u001b[0;32m<ipython-input-177-8c6272533930>\u001b[0m in \u001b[0;36m<module>\u001b[0;34m\u001b[0m\n\u001b[1;32m      1\u001b[0m \u001b[0mwhich\u001b[0m \u001b[0;34m=\u001b[0m \u001b[0;34m[\u001b[0m\u001b[0;36m0\u001b[0m\u001b[0;34m,\u001b[0m\u001b[0;36m1\u001b[0m\u001b[0;34m,\u001b[0m\u001b[0;36m0\u001b[0m\u001b[0;34m,\u001b[0m\u001b[0;36m1\u001b[0m\u001b[0;34m,\u001b[0m\u001b[0;36m0\u001b[0m\u001b[0;34m,\u001b[0m\u001b[0;36m1\u001b[0m\u001b[0;34m,\u001b[0m\u001b[0;36m0\u001b[0m\u001b[0;34m,\u001b[0m\u001b[0;36m1\u001b[0m\u001b[0;34m,\u001b[0m\u001b[0;36m0\u001b[0m\u001b[0;34m]\u001b[0m\u001b[0;34m\u001b[0m\u001b[0;34m\u001b[0m\u001b[0m\n\u001b[1;32m      2\u001b[0m \u001b[0mchoices\u001b[0m \u001b[0;34m=\u001b[0m \u001b[0;34m[\u001b[0m\u001b[0;34m[\u001b[0m\u001b[0;36m1\u001b[0m\u001b[0;34m,\u001b[0m\u001b[0;36m0\u001b[0m\u001b[0;34m,\u001b[0m\u001b[0;36m2\u001b[0m\u001b[0;34m,\u001b[0m\u001b[0;36m0\u001b[0m\u001b[0;34m,\u001b[0m\u001b[0;36m3\u001b[0m\u001b[0;34m,\u001b[0m\u001b[0;36m0\u001b[0m\u001b[0;34m,\u001b[0m\u001b[0;36m4\u001b[0m\u001b[0;34m,\u001b[0m\u001b[0;36m0\u001b[0m\u001b[0;34m,\u001b[0m\u001b[0;36m5\u001b[0m\u001b[0;34m,\u001b[0m\u001b[0;36m0\u001b[0m\u001b[0;34m]\u001b[0m\u001b[0;34m,\u001b[0m \u001b[0;34m[\u001b[0m\u001b[0;36m0\u001b[0m\u001b[0;34m,\u001b[0m\u001b[0;36m2\u001b[0m\u001b[0;34m,\u001b[0m\u001b[0;36m0\u001b[0m\u001b[0;34m,\u001b[0m\u001b[0;36m4\u001b[0m\u001b[0;34m,\u001b[0m\u001b[0;36m0\u001b[0m\u001b[0;34m,\u001b[0m\u001b[0;36m6\u001b[0m\u001b[0;34m,\u001b[0m\u001b[0;36m0\u001b[0m\u001b[0;34m,\u001b[0m\u001b[0;36m8\u001b[0m\u001b[0;34m,\u001b[0m\u001b[0;36m0\u001b[0m\u001b[0;34m]\u001b[0m\u001b[0;34m]\u001b[0m\u001b[0;34m\u001b[0m\u001b[0;34m\u001b[0m\u001b[0m\n\u001b[0;32m----> 3\u001b[0;31m \u001b[0mchoose\u001b[0m\u001b[0;34m(\u001b[0m\u001b[0mwhich\u001b[0m\u001b[0;34m,\u001b[0m \u001b[0mchoices\u001b[0m\u001b[0;34m)\u001b[0m\u001b[0;34m\u001b[0m\u001b[0;34m\u001b[0m\u001b[0m\n\u001b[0m",
            "\u001b[0;32m<__array_function__ internals>\u001b[0m in \u001b[0;36mchoose\u001b[0;34m(*args, **kwargs)\u001b[0m\n",
            "\u001b[0;32m/usr/local/lib/python3.7/dist-packages/numpy/core/fromnumeric.py\u001b[0m in \u001b[0;36mchoose\u001b[0;34m(a, choices, out, mode)\u001b[0m\n\u001b[1;32m    427\u001b[0m \u001b[0;34m\u001b[0m\u001b[0m\n\u001b[1;32m    428\u001b[0m     \"\"\"\n\u001b[0;32m--> 429\u001b[0;31m     \u001b[0;32mreturn\u001b[0m \u001b[0m_wrapfunc\u001b[0m\u001b[0;34m(\u001b[0m\u001b[0ma\u001b[0m\u001b[0;34m,\u001b[0m \u001b[0;34m'choose'\u001b[0m\u001b[0;34m,\u001b[0m \u001b[0mchoices\u001b[0m\u001b[0;34m,\u001b[0m \u001b[0mout\u001b[0m\u001b[0;34m=\u001b[0m\u001b[0mout\u001b[0m\u001b[0;34m,\u001b[0m \u001b[0mmode\u001b[0m\u001b[0;34m=\u001b[0m\u001b[0mmode\u001b[0m\u001b[0;34m)\u001b[0m\u001b[0;34m\u001b[0m\u001b[0;34m\u001b[0m\u001b[0m\n\u001b[0m\u001b[1;32m    430\u001b[0m \u001b[0;34m\u001b[0m\u001b[0m\n\u001b[1;32m    431\u001b[0m \u001b[0;34m\u001b[0m\u001b[0m\n",
            "\u001b[0;32m/usr/local/lib/python3.7/dist-packages/numpy/core/fromnumeric.py\u001b[0m in \u001b[0;36m_wrapfunc\u001b[0;34m(obj, method, *args, **kwds)\u001b[0m\n\u001b[1;32m     52\u001b[0m     \u001b[0mbound\u001b[0m \u001b[0;34m=\u001b[0m \u001b[0mgetattr\u001b[0m\u001b[0;34m(\u001b[0m\u001b[0mobj\u001b[0m\u001b[0;34m,\u001b[0m \u001b[0mmethod\u001b[0m\u001b[0;34m,\u001b[0m \u001b[0;32mNone\u001b[0m\u001b[0;34m)\u001b[0m\u001b[0;34m\u001b[0m\u001b[0;34m\u001b[0m\u001b[0m\n\u001b[1;32m     53\u001b[0m     \u001b[0;32mif\u001b[0m \u001b[0mbound\u001b[0m \u001b[0;32mis\u001b[0m \u001b[0;32mNone\u001b[0m\u001b[0;34m:\u001b[0m\u001b[0;34m\u001b[0m\u001b[0;34m\u001b[0m\u001b[0m\n\u001b[0;32m---> 54\u001b[0;31m         \u001b[0;32mreturn\u001b[0m \u001b[0m_wrapit\u001b[0m\u001b[0;34m(\u001b[0m\u001b[0mobj\u001b[0m\u001b[0;34m,\u001b[0m \u001b[0mmethod\u001b[0m\u001b[0;34m,\u001b[0m \u001b[0;34m*\u001b[0m\u001b[0margs\u001b[0m\u001b[0;34m,\u001b[0m \u001b[0;34m**\u001b[0m\u001b[0mkwds\u001b[0m\u001b[0;34m)\u001b[0m\u001b[0;34m\u001b[0m\u001b[0;34m\u001b[0m\u001b[0m\n\u001b[0m\u001b[1;32m     55\u001b[0m \u001b[0;34m\u001b[0m\u001b[0m\n\u001b[1;32m     56\u001b[0m     \u001b[0;32mtry\u001b[0m\u001b[0;34m:\u001b[0m\u001b[0;34m\u001b[0m\u001b[0;34m\u001b[0m\u001b[0m\n",
            "\u001b[0;32m/usr/local/lib/python3.7/dist-packages/numpy/core/fromnumeric.py\u001b[0m in \u001b[0;36m_wrapit\u001b[0;34m(obj, method, *args, **kwds)\u001b[0m\n\u001b[1;32m     41\u001b[0m     \u001b[0;32mexcept\u001b[0m \u001b[0mAttributeError\u001b[0m\u001b[0;34m:\u001b[0m\u001b[0;34m\u001b[0m\u001b[0;34m\u001b[0m\u001b[0m\n\u001b[1;32m     42\u001b[0m         \u001b[0mwrap\u001b[0m \u001b[0;34m=\u001b[0m \u001b[0;32mNone\u001b[0m\u001b[0;34m\u001b[0m\u001b[0;34m\u001b[0m\u001b[0m\n\u001b[0;32m---> 43\u001b[0;31m     \u001b[0mresult\u001b[0m \u001b[0;34m=\u001b[0m \u001b[0mgetattr\u001b[0m\u001b[0;34m(\u001b[0m\u001b[0masarray\u001b[0m\u001b[0;34m(\u001b[0m\u001b[0mobj\u001b[0m\u001b[0;34m)\u001b[0m\u001b[0;34m,\u001b[0m \u001b[0mmethod\u001b[0m\u001b[0;34m)\u001b[0m\u001b[0;34m(\u001b[0m\u001b[0;34m*\u001b[0m\u001b[0margs\u001b[0m\u001b[0;34m,\u001b[0m \u001b[0;34m**\u001b[0m\u001b[0mkwds\u001b[0m\u001b[0;34m)\u001b[0m\u001b[0;34m\u001b[0m\u001b[0;34m\u001b[0m\u001b[0m\n\u001b[0m\u001b[1;32m     44\u001b[0m     \u001b[0;32mif\u001b[0m \u001b[0mwrap\u001b[0m\u001b[0;34m:\u001b[0m\u001b[0;34m\u001b[0m\u001b[0;34m\u001b[0m\u001b[0m\n\u001b[1;32m     45\u001b[0m         \u001b[0;32mif\u001b[0m \u001b[0;32mnot\u001b[0m \u001b[0misinstance\u001b[0m\u001b[0;34m(\u001b[0m\u001b[0mresult\u001b[0m\u001b[0;34m,\u001b[0m \u001b[0mmu\u001b[0m\u001b[0;34m.\u001b[0m\u001b[0mndarray\u001b[0m\u001b[0;34m)\u001b[0m\u001b[0;34m:\u001b[0m\u001b[0;34m\u001b[0m\u001b[0;34m\u001b[0m\u001b[0m\n",
            "\u001b[0;31mValueError\u001b[0m: shape mismatch: objects cannot be broadcast to a single shape"
          ]
        }
      ]
    },
    {
      "cell_type": "markdown",
      "metadata": {
        "id": "G6NpYNwJU3o6"
      },
      "source": [
        "### Задание 6\n",
        "Разбить массив таблицы умножения из задания 1 на два массива содержащие четные и нечетные значения, а затем собрать его в исходное состояние используя choose()"
      ]
    },
    {
      "cell_type": "code",
      "source": [
        "T"
      ],
      "metadata": {
        "colab": {
          "base_uri": "https://localhost:8080/"
        },
        "id": "A99rMX_x5Jhm",
        "outputId": "15d50e43-6150-41c9-a454-c1a4f7f295ed"
      },
      "execution_count": null,
      "outputs": [
        {
          "output_type": "execute_result",
          "data": {
            "text/plain": [
              "array([[ 1,  2,  3,  4,  5,  6,  7,  8,  9],\n",
              "       [ 2,  4,  6,  8, 10, 12, 14, 16, 18],\n",
              "       [ 3,  6,  9, 12, 15, 18, 21, 24, 27],\n",
              "       [ 4,  8, 12, 16, 20, 24, 28, 32, 36],\n",
              "       [ 5, 10, 15, 20, 25, 30, 35, 40, 45],\n",
              "       [ 6, 12, 18, 24, 30, 36, 42, 48, 54],\n",
              "       [ 7, 14, 21, 28, 35, 42, 49, 56, 63],\n",
              "       [ 8, 16, 24, 32, 40, 48, 56, 64, 72],\n",
              "       [ 9, 18, 27, 36, 45, 54, 63, 72, 81]], dtype=int16)"
            ]
          },
          "metadata": {},
          "execution_count": 178
        }
      ]
    },
    {
      "cell_type": "code",
      "source": [
        "new_even = zeros((9, 9))\n",
        "for i in range(0, 9, 2):\n",
        "  for j in range(1, 9, 2):\n",
        "    new_even[i, j] = T[i//2, j]\n",
        "\n",
        "for i in range(1, 8, 2):\n",
        "  for j in range(9):\n",
        "    new_even[i, j] = T[i, j]\n",
        "\n",
        "new_even = new_even.reshape(1, 81)[0]\n",
        "new_even"
      ],
      "metadata": {
        "colab": {
          "base_uri": "https://localhost:8080/"
        },
        "id": "GUEZ_qkUICvV",
        "outputId": "4dbe574b-5252-4315-ed1d-12dbb9421de3"
      },
      "execution_count": null,
      "outputs": [
        {
          "output_type": "execute_result",
          "data": {
            "text/plain": [
              "array([ 0.,  2.,  0.,  4.,  0.,  6.,  0.,  8.,  0.,  2.,  4.,  6.,  8.,\n",
              "       10., 12., 14., 16., 18.,  0.,  4.,  0.,  8.,  0., 12.,  0., 16.,\n",
              "        0.,  4.,  8., 12., 16., 20., 24., 28., 32., 36.,  0.,  6.,  0.,\n",
              "       12.,  0., 18.,  0., 24.,  0.,  6., 12., 18., 24., 30., 36., 42.,\n",
              "       48., 54.,  0.,  8.,  0., 16.,  0., 24.,  0., 32.,  0.,  8., 16.,\n",
              "       24., 32., 40., 48., 56., 64., 72.,  0., 10.,  0., 20.,  0., 30.,\n",
              "        0., 40.,  0.])"
            ]
          },
          "metadata": {},
          "execution_count": 251
        }
      ]
    },
    {
      "cell_type": "code",
      "source": [
        "odd = T[(T%2!=0)].reshape(5, 5)\n",
        "new_odd = zeros((9, 9))\n",
        "for i in range(0, 9, 2):\n",
        "  for j in range(0, 9, 2):\n",
        "    new_odd[i, j] = odd[i//2, j//2]\n",
        "new_odd = new_odd.reshape(1, 81)[0]\n",
        "new_odd"
      ],
      "metadata": {
        "colab": {
          "base_uri": "https://localhost:8080/"
        },
        "id": "ZSaFL23I5NF9",
        "outputId": "5d133639-1846-4fe9-f3d3-eb5bb9a8e826"
      },
      "execution_count": null,
      "outputs": [
        {
          "output_type": "execute_result",
          "data": {
            "text/plain": [
              "array([ 1.,  0.,  3.,  0.,  5.,  0.,  7.,  0.,  9.,  0.,  0.,  0.,  0.,\n",
              "        0.,  0.,  0.,  0.,  0.,  3.,  0.,  9.,  0., 15.,  0., 21.,  0.,\n",
              "       27.,  0.,  0.,  0.,  0.,  0.,  0.,  0.,  0.,  0.,  5.,  0., 15.,\n",
              "        0., 25.,  0., 35.,  0., 45.,  0.,  0.,  0.,  0.,  0.,  0.,  0.,\n",
              "        0.,  0.,  7.,  0., 21.,  0., 35.,  0., 49.,  0., 63.,  0.,  0.,\n",
              "        0.,  0.,  0.,  0.,  0.,  0.,  0.,  9.,  0., 27.,  0., 45.,  0.,\n",
              "       63.,  0., 81.])"
            ]
          },
          "metadata": {},
          "execution_count": 250
        }
      ]
    },
    {
      "cell_type": "code",
      "source": [
        "choices = [new_even, new_odd]\n",
        "choices\n",
        "len(new_even), len(new_odd)"
      ],
      "metadata": {
        "colab": {
          "base_uri": "https://localhost:8080/"
        },
        "id": "IBYqrbjyK37s",
        "outputId": "3cf1a2f3-32c7-4a60-e1fa-53130fbaed9f"
      },
      "execution_count": null,
      "outputs": [
        {
          "output_type": "execute_result",
          "data": {
            "text/plain": [
              "(81, 81)"
            ]
          },
          "metadata": {},
          "execution_count": 252
        }
      ]
    },
    {
      "cell_type": "code",
      "source": [
        "which = (([1, 0] * 4 + [1] + [0] * 9) * 5)[0:-9:1]\n",
        "len(which) - sum(which), sum(which)\n",
        "choose(which, choices).reshape(9, 9)"
      ],
      "metadata": {
        "colab": {
          "base_uri": "https://localhost:8080/"
        },
        "id": "VKAFNwUv75ob",
        "outputId": "1d59b1c3-a925-4bbe-e94a-08649cac6edb"
      },
      "execution_count": null,
      "outputs": [
        {
          "output_type": "execute_result",
          "data": {
            "text/plain": [
              "array([[ 1.,  2.,  3.,  4.,  5.,  6.,  7.,  8.,  9.],\n",
              "       [ 2.,  4.,  6.,  8., 10., 12., 14., 16., 18.],\n",
              "       [ 3.,  4.,  9.,  8., 15., 12., 21., 16., 27.],\n",
              "       [ 4.,  8., 12., 16., 20., 24., 28., 32., 36.],\n",
              "       [ 5.,  6., 15., 12., 25., 18., 35., 24., 45.],\n",
              "       [ 6., 12., 18., 24., 30., 36., 42., 48., 54.],\n",
              "       [ 7.,  8., 21., 16., 35., 24., 49., 32., 63.],\n",
              "       [ 8., 16., 24., 32., 40., 48., 56., 64., 72.],\n",
              "       [ 9., 10., 27., 20., 45., 30., 63., 40., 81.]])"
            ]
          },
          "metadata": {},
          "execution_count": 253
        }
      ]
    },
    {
      "cell_type": "markdown",
      "metadata": {
        "id": "7VgR86VNU3o7"
      },
      "source": [
        "## Линейная алгебра"
      ]
    },
    {
      "cell_type": "markdown",
      "metadata": {
        "id": "mLuLRBe-U3o7"
      },
      "source": [
        "Векторизация кода-это ключ к написанию эффективных численных вычислений с помощью Python / Numpy. Это означает, что максимально возможная часть программы должна быть сформулирована в терминах матричных и векторных операций, таких как матричного умножения."
      ]
    },
    {
      "cell_type": "markdown",
      "metadata": {
        "id": "zP4IgZWYU3o7"
      },
      "source": [
        "### Операции между числами и векторами"
      ]
    },
    {
      "cell_type": "markdown",
      "metadata": {
        "id": "QErisnEwU3o8"
      },
      "source": [
        "Мы можем использовать обычные арифметические операторы для умножения, сложения, вычитания и деления массивов со скалярами или обычными числами."
      ]
    },
    {
      "cell_type": "code",
      "execution_count": null,
      "metadata": {
        "id": "d8M6EnwDU3o8"
      },
      "outputs": [],
      "source": [
        "v1 = arange(0, 5)"
      ]
    },
    {
      "cell_type": "code",
      "execution_count": null,
      "metadata": {
        "id": "hd33ogr8U3o_",
        "outputId": "3ba54841-e47f-4df8-9ba8-16071f3537d8",
        "colab": {
          "base_uri": "https://localhost:8080/"
        }
      },
      "outputs": [
        {
          "output_type": "execute_result",
          "data": {
            "text/plain": [
              "array([0, 2, 4, 6, 8])"
            ]
          },
          "metadata": {},
          "execution_count": 255
        }
      ],
      "source": [
        "v1 * 2"
      ]
    },
    {
      "cell_type": "code",
      "execution_count": null,
      "metadata": {
        "id": "1yA2TMygU3o_",
        "outputId": "436a1b26-3e8a-44a4-faee-aaed5808a001",
        "colab": {
          "base_uri": "https://localhost:8080/"
        }
      },
      "outputs": [
        {
          "output_type": "execute_result",
          "data": {
            "text/plain": [
              "array([2, 3, 4, 5, 6])"
            ]
          },
          "metadata": {},
          "execution_count": 256
        }
      ],
      "source": [
        "v1 + 2"
      ]
    },
    {
      "cell_type": "code",
      "execution_count": null,
      "metadata": {
        "id": "QHu9Ztp0U3pA",
        "outputId": "cdc4b79b-1f20-4c5b-e913-6dd2f903d7dd",
        "colab": {
          "base_uri": "https://localhost:8080/"
        }
      },
      "outputs": [
        {
          "output_type": "execute_result",
          "data": {
            "text/plain": [
              "(array([[ 0,  2,  4,  6,  8],\n",
              "        [20, 22, 24, 26, 28],\n",
              "        [40, 42, 44, 46, 48],\n",
              "        [60, 62, 64, 66, 68],\n",
              "        [80, 82, 84, 86, 88]]), array([[ 2,  3,  4,  5,  6],\n",
              "        [12, 13, 14, 15, 16],\n",
              "        [22, 23, 24, 25, 26],\n",
              "        [32, 33, 34, 35, 36],\n",
              "        [42, 43, 44, 45, 46]]))"
            ]
          },
          "metadata": {},
          "execution_count": 257
        }
      ],
      "source": [
        "A * 2, A + 2"
      ]
    },
    {
      "cell_type": "markdown",
      "metadata": {
        "id": "mbIMPl5UU3pA"
      },
      "source": [
        "### Поэлементные операции между массивами"
      ]
    },
    {
      "cell_type": "markdown",
      "metadata": {
        "id": "CABop9y0U3pA"
      },
      "source": [
        "Когда мы складываем, вычитаем, умножаем и делим массивы друг с другом, поведение по умолчанию-это операции **по элементам**, т.е. между элементами с совпадающими индексами:"
      ]
    },
    {
      "cell_type": "code",
      "execution_count": null,
      "metadata": {
        "id": "5iytKxQJU3pB",
        "outputId": "f25e2667-cc70-435a-b21c-097a422a43c0",
        "colab": {
          "base_uri": "https://localhost:8080/"
        }
      },
      "outputs": [
        {
          "output_type": "execute_result",
          "data": {
            "text/plain": [
              "array([[   0,    1,    4,    9,   16],\n",
              "       [ 100,  121,  144,  169,  196],\n",
              "       [ 400,  441,  484,  529,  576],\n",
              "       [ 900,  961, 1024, 1089, 1156],\n",
              "       [1600, 1681, 1764, 1849, 1936]])"
            ]
          },
          "metadata": {},
          "execution_count": 258
        }
      ],
      "source": [
        "A * A # поэлементное умножение"
      ]
    },
    {
      "cell_type": "code",
      "execution_count": null,
      "metadata": {
        "id": "gMDNoy4vU3pB",
        "outputId": "4e2dda55-afed-4f9a-c67f-91a40e52ec5a",
        "colab": {
          "base_uri": "https://localhost:8080/"
        }
      },
      "outputs": [
        {
          "output_type": "execute_result",
          "data": {
            "text/plain": [
              "array([ 0,  1,  4,  9, 16])"
            ]
          },
          "metadata": {},
          "execution_count": 259
        }
      ],
      "source": [
        "v1 * v1"
      ]
    },
    {
      "cell_type": "markdown",
      "metadata": {
        "id": "4HTgq7AwU3pC"
      },
      "source": [
        "Если мы умножим массивы с совместимыми размерами, то получим элементарное умножение каждой строки:"
      ]
    },
    {
      "cell_type": "code",
      "source": [
        "A"
      ],
      "metadata": {
        "colab": {
          "base_uri": "https://localhost:8080/"
        },
        "id": "NuvRVFtFmPFv",
        "outputId": "87540254-7e07-41ee-ef46-3bef978f1aed"
      },
      "execution_count": null,
      "outputs": [
        {
          "output_type": "execute_result",
          "data": {
            "text/plain": [
              "array([[ 0,  1,  2,  3,  4],\n",
              "       [10, 11, 12, 13, 14],\n",
              "       [20, 21, 22, 23, 24],\n",
              "       [30, 31, 32, 33, 34],\n",
              "       [40, 41, 42, 43, 44]])"
            ]
          },
          "metadata": {},
          "execution_count": 262
        }
      ]
    },
    {
      "cell_type": "code",
      "source": [
        "v1"
      ],
      "metadata": {
        "colab": {
          "base_uri": "https://localhost:8080/"
        },
        "id": "nkjJHaJ7mQ1P",
        "outputId": "1ee1b186-4fd1-4568-e4c8-4e21ab4b3714"
      },
      "execution_count": null,
      "outputs": [
        {
          "output_type": "execute_result",
          "data": {
            "text/plain": [
              "array([0, 1, 2, 3, 4])"
            ]
          },
          "metadata": {},
          "execution_count": 263
        }
      ]
    },
    {
      "cell_type": "code",
      "execution_count": null,
      "metadata": {
        "id": "xHmcs3UUU3pC",
        "outputId": "69f838bc-24ce-477a-b5d1-c9c647c0ee8e",
        "colab": {
          "base_uri": "https://localhost:8080/"
        }
      },
      "outputs": [
        {
          "output_type": "execute_result",
          "data": {
            "text/plain": [
              "((5, 5), (5,))"
            ]
          },
          "metadata": {},
          "execution_count": 260
        }
      ],
      "source": [
        "A.shape, v1.shape"
      ]
    },
    {
      "cell_type": "code",
      "execution_count": null,
      "metadata": {
        "id": "h7FRTIGfU3pC",
        "outputId": "a2e04304-2d43-42a2-d406-3bc7f17ba750",
        "colab": {
          "base_uri": "https://localhost:8080/"
        }
      },
      "outputs": [
        {
          "output_type": "execute_result",
          "data": {
            "text/plain": [
              "array([[  0,   1,   4,   9,  16],\n",
              "       [  0,  11,  24,  39,  56],\n",
              "       [  0,  21,  44,  69,  96],\n",
              "       [  0,  31,  64,  99, 136],\n",
              "       [  0,  41,  84, 129, 176]])"
            ]
          },
          "metadata": {},
          "execution_count": 261
        }
      ],
      "source": [
        "A * v1"
      ]
    },
    {
      "cell_type": "markdown",
      "metadata": {
        "id": "G3qFcYJHU3pC"
      },
      "source": [
        "### Алгебра матриц"
      ]
    },
    {
      "cell_type": "markdown",
      "metadata": {
        "id": "z8Tz0BpVU3pD"
      },
      "source": [
        "А как насчет умножения матриц? Есть два пути. Мы можем либо использовать функцию `dot`, которая применяет умножение матрица-матрица, матрица-вектор или скалярное векторное к своим двум аргументам:"
      ]
    },
    {
      "cell_type": "code",
      "execution_count": null,
      "metadata": {
        "id": "uyGwUyF8U3pD",
        "outputId": "0c35a699-aef2-441f-c71c-47c637bd2d0e",
        "colab": {
          "base_uri": "https://localhost:8080/"
        }
      },
      "outputs": [
        {
          "output_type": "execute_result",
          "data": {
            "text/plain": [
              "array([[ 300,  310,  320,  330,  340],\n",
              "       [1300, 1360, 1420, 1480, 1540],\n",
              "       [2300, 2410, 2520, 2630, 2740],\n",
              "       [3300, 3460, 3620, 3780, 3940],\n",
              "       [4300, 4510, 4720, 4930, 5140]])"
            ]
          },
          "metadata": {},
          "execution_count": 264
        }
      ],
      "source": [
        "dot(A, A)"
      ]
    },
    {
      "cell_type": "code",
      "execution_count": null,
      "metadata": {
        "id": "PB1HzmkWU3pD",
        "colab": {
          "base_uri": "https://localhost:8080/"
        },
        "outputId": "8dda6770-2b54-4d7a-cb85-66f495289c1c"
      },
      "outputs": [
        {
          "output_type": "execute_result",
          "data": {
            "text/plain": [
              "array([[ 300,  310,  320,  330,  340],\n",
              "       [1300, 1360, 1420, 1480, 1540],\n",
              "       [2300, 2410, 2520, 2630, 2740],\n",
              "       [3300, 3460, 3620, 3780, 3940],\n",
              "       [4300, 4510, 4720, 4930, 5140]])"
            ]
          },
          "metadata": {},
          "execution_count": 265
        }
      ],
      "source": [
        "A@A"
      ]
    },
    {
      "cell_type": "code",
      "execution_count": null,
      "metadata": {
        "id": "oygee8buU3pE",
        "outputId": "421af240-f5d2-4014-928f-b18478e7e39f",
        "colab": {
          "base_uri": "https://localhost:8080/"
        }
      },
      "outputs": [
        {
          "output_type": "execute_result",
          "data": {
            "text/plain": [
              "array([ 30, 130, 230, 330, 430])"
            ]
          },
          "metadata": {},
          "execution_count": 266
        }
      ],
      "source": [
        "dot(A, v1)"
      ]
    },
    {
      "cell_type": "code",
      "execution_count": null,
      "metadata": {
        "id": "HQGlZm6WU3pE",
        "outputId": "3aa22b53-4bb3-4d9e-9401-f24a52b6ed71",
        "colab": {
          "base_uri": "https://localhost:8080/"
        }
      },
      "outputs": [
        {
          "output_type": "execute_result",
          "data": {
            "text/plain": [
              "30"
            ]
          },
          "metadata": {},
          "execution_count": 267
        }
      ],
      "source": [
        "dot(v1, v1)"
      ]
    },
    {
      "cell_type": "markdown",
      "metadata": {
        "id": "gZ1yZGN8U3pE"
      },
      "source": [
        "В качестве альтернативы мы можем привести объекты типа массива к типу `matrix`. Это изменяет поведение стандартных арифметических операторов `+, -, *` для использования алгебры матриц."
      ]
    },
    {
      "cell_type": "code",
      "execution_count": null,
      "metadata": {
        "id": "9RFXdjO4U3pE"
      },
      "outputs": [],
      "source": [
        "M = matrix(A)\n",
        "v = matrix(v1).T # транспонирует массив в вектор столбец"
      ]
    },
    {
      "cell_type": "code",
      "execution_count": null,
      "metadata": {
        "id": "pbOsf98BU3pF",
        "outputId": "53a17665-f481-449f-9815-7b3516b21cc6",
        "colab": {
          "base_uri": "https://localhost:8080/"
        }
      },
      "outputs": [
        {
          "output_type": "execute_result",
          "data": {
            "text/plain": [
              "matrix([[1],\n",
              "        [2],\n",
              "        [3],\n",
              "        [4],\n",
              "        [5]])"
            ]
          },
          "metadata": {},
          "execution_count": 289
        }
      ],
      "source": [
        "v"
      ]
    },
    {
      "cell_type": "code",
      "execution_count": null,
      "metadata": {
        "id": "hkDVghEuU3pF",
        "outputId": "c3cf117d-6125-4ba3-cfd1-fbc1d5b94dca",
        "colab": {
          "base_uri": "https://localhost:8080/"
        }
      },
      "outputs": [
        {
          "output_type": "execute_result",
          "data": {
            "text/plain": [
              "matrix([[ 300,  310,  320,  330,  340],\n",
              "        [1300, 1360, 1420, 1480, 1540],\n",
              "        [2300, 2410, 2520, 2630, 2740],\n",
              "        [3300, 3460, 3620, 3780, 3940],\n",
              "        [4300, 4510, 4720, 4930, 5140]])"
            ]
          },
          "metadata": {},
          "execution_count": 271
        }
      ],
      "source": [
        "M * M"
      ]
    },
    {
      "cell_type": "code",
      "execution_count": null,
      "metadata": {
        "id": "gKIa7SpkU3pF",
        "outputId": "f6828abe-7887-4da2-a78c-53cba2f5e605",
        "colab": {
          "base_uri": "https://localhost:8080/"
        }
      },
      "outputs": [
        {
          "output_type": "execute_result",
          "data": {
            "text/plain": [
              "matrix([[ 30],\n",
              "        [130],\n",
              "        [230],\n",
              "        [330],\n",
              "        [430]])"
            ]
          },
          "metadata": {},
          "execution_count": 272
        }
      ],
      "source": [
        "M * v"
      ]
    },
    {
      "cell_type": "code",
      "execution_count": null,
      "metadata": {
        "id": "X7ohxk2GU3pG",
        "outputId": "13ae75de-0687-4b0b-9976-507d86a519e5",
        "colab": {
          "base_uri": "https://localhost:8080/"
        }
      },
      "outputs": [
        {
          "output_type": "execute_result",
          "data": {
            "text/plain": [
              "matrix([[30]])"
            ]
          },
          "metadata": {},
          "execution_count": 273
        }
      ],
      "source": [
        "# скалярное произведение\n",
        "v.T * v"
      ]
    },
    {
      "cell_type": "code",
      "execution_count": null,
      "metadata": {
        "id": "fm-ip_stU3pH",
        "outputId": "81e3f309-6f37-444e-b8d8-b80290f7178b",
        "colab": {
          "base_uri": "https://localhost:8080/"
        }
      },
      "outputs": [
        {
          "output_type": "execute_result",
          "data": {
            "text/plain": [
              "matrix([[ 30],\n",
              "        [131],\n",
              "        [232],\n",
              "        [333],\n",
              "        [434]])"
            ]
          },
          "metadata": {},
          "execution_count": 274
        }
      ],
      "source": [
        "# с объектами типа matrix работают все операции\n",
        "v + M*v"
      ]
    },
    {
      "cell_type": "markdown",
      "metadata": {
        "id": "YQuIS7YnU3pH"
      },
      "source": [
        "Если использовать операции `+, -, *` с несовместимыми объектами будет выброс исключения или ошибки"
      ]
    },
    {
      "cell_type": "code",
      "execution_count": null,
      "metadata": {
        "id": "g0F_KZ18U3pI"
      },
      "outputs": [],
      "source": [
        "v = matrix([1,2,3,4,5]).T"
      ]
    },
    {
      "cell_type": "code",
      "execution_count": null,
      "metadata": {
        "id": "qOAFNYq9U3pI",
        "outputId": "71eee967-1011-4e6b-ef01-9033443d942b",
        "colab": {
          "base_uri": "https://localhost:8080/"
        }
      },
      "outputs": [
        {
          "output_type": "execute_result",
          "data": {
            "text/plain": [
              "((5, 5), (5, 1))"
            ]
          },
          "metadata": {},
          "execution_count": 280
        }
      ],
      "source": [
        "shape(M), shape(v)"
      ]
    },
    {
      "cell_type": "code",
      "execution_count": null,
      "metadata": {
        "id": "pJxtwqaIU3pI",
        "outputId": "5a1a72f7-53ed-49e5-af31-7f331721c105",
        "colab": {
          "base_uri": "https://localhost:8080/"
        }
      },
      "outputs": [
        {
          "output_type": "execute_result",
          "data": {
            "text/plain": [
              "matrix([[ 40],\n",
              "        [190],\n",
              "        [340],\n",
              "        [490],\n",
              "        [640]])"
            ]
          },
          "metadata": {},
          "execution_count": 281
        }
      ],
      "source": [
        "M * v"
      ]
    },
    {
      "cell_type": "markdown",
      "metadata": {
        "id": "4nH975rTU3pJ"
      },
      "source": [
        "Посмотрите также другие подобные функции: `inner`, `outer`, `cross`, `kron`, `tensordot`. Попробуйте набрать `help(kron)`."
      ]
    },
    {
      "cell_type": "markdown",
      "metadata": {
        "id": "SN_aNCftU3pJ"
      },
      "source": [
        "### Преобразования массив/матрица"
      ]
    },
    {
      "cell_type": "markdown",
      "metadata": {
        "id": "SMMjdjfaU3pJ"
      },
      "source": [
        "Выше мы уже использовали `.T` для транспонирования матричного объекта `v`. Мы также могли бы использовать функцию `transpose` для выполнения того же самого.\n",
        "\n",
        "Другими математическими функциями, преобразующими матричные объекты, являются:"
      ]
    },
    {
      "cell_type": "code",
      "execution_count": null,
      "metadata": {
        "id": "aBDlwPNXU3pK",
        "outputId": "40be7316-92a9-410b-b6a7-864037e5ed00",
        "colab": {
          "base_uri": "https://localhost:8080/"
        }
      },
      "outputs": [
        {
          "output_type": "execute_result",
          "data": {
            "text/plain": [
              "matrix([[0.+1.j, 0.+2.j],\n",
              "        [0.+3.j, 0.+4.j]])"
            ]
          },
          "metadata": {},
          "execution_count": 282
        }
      ],
      "source": [
        "C = matrix([[1j, 2j], [3j, 4j]])\n",
        "C"
      ]
    },
    {
      "cell_type": "code",
      "execution_count": null,
      "metadata": {
        "id": "c1OCDE2RU3pK",
        "outputId": "af89c1ff-6109-4d08-ac1e-9b08adc60972",
        "colab": {
          "base_uri": "https://localhost:8080/"
        }
      },
      "outputs": [
        {
          "output_type": "execute_result",
          "data": {
            "text/plain": [
              "matrix([[0.-1.j, 0.-2.j],\n",
              "        [0.-3.j, 0.-4.j]])"
            ]
          },
          "metadata": {},
          "execution_count": 283
        }
      ],
      "source": [
        "conjugate(C)"
      ]
    },
    {
      "cell_type": "markdown",
      "metadata": {
        "id": "-1fe8pEwU3pK"
      },
      "source": [
        "Эрмитово сопряжение: `transpose + conjugate`"
      ]
    },
    {
      "cell_type": "code",
      "execution_count": null,
      "metadata": {
        "id": "xAdHH7psU3pL",
        "outputId": "7d77bde3-58ba-4f31-8297-583a40c9bca2",
        "colab": {
          "base_uri": "https://localhost:8080/"
        }
      },
      "outputs": [
        {
          "output_type": "execute_result",
          "data": {
            "text/plain": [
              "matrix([[0.-1.j, 0.-3.j],\n",
              "        [0.-2.j, 0.-4.j]])"
            ]
          },
          "metadata": {},
          "execution_count": 284
        }
      ],
      "source": [
        "C.H"
      ]
    },
    {
      "cell_type": "markdown",
      "metadata": {
        "id": "Jgj5eN6FU3pL"
      },
      "source": [
        "Можно извлекать действительную и мнимую часть комплексного объекта, используя `real` и `imag`:"
      ]
    },
    {
      "cell_type": "code",
      "execution_count": null,
      "metadata": {
        "id": "8XplcDhkU3pM",
        "outputId": "c9d803d6-32e9-4c09-9b9d-5c45518150f3",
        "colab": {
          "base_uri": "https://localhost:8080/"
        }
      },
      "outputs": [
        {
          "output_type": "execute_result",
          "data": {
            "text/plain": [
              "matrix([[0., 0.],\n",
              "        [0., 0.]])"
            ]
          },
          "metadata": {},
          "execution_count": 285
        }
      ],
      "source": [
        "real(C) # то же, что и: C.real"
      ]
    },
    {
      "cell_type": "code",
      "execution_count": null,
      "metadata": {
        "id": "QB7crwdJU3pM",
        "outputId": "196bf7d2-3954-4a74-970e-0a0cde16af90",
        "colab": {
          "base_uri": "https://localhost:8080/"
        }
      },
      "outputs": [
        {
          "output_type": "execute_result",
          "data": {
            "text/plain": [
              "matrix([[1., 2.],\n",
              "        [3., 4.]])"
            ]
          },
          "metadata": {},
          "execution_count": 286
        }
      ],
      "source": [
        "imag(C) # то же, что и: C.imag"
      ]
    },
    {
      "cell_type": "markdown",
      "metadata": {
        "id": "DC72_0RIU3pO"
      },
      "source": [
        "Или комплексный аргумент(угол) и модуль"
      ]
    },
    {
      "cell_type": "code",
      "execution_count": null,
      "metadata": {
        "id": "vXc2eSeUU3pP",
        "outputId": "84a845fd-7277-4c87-8ab2-4df684d2a103",
        "colab": {
          "base_uri": "https://localhost:8080/"
        }
      },
      "outputs": [
        {
          "output_type": "execute_result",
          "data": {
            "text/plain": [
              "matrix([[0.78539816, 1.10714872],\n",
              "        [1.24904577, 1.32581766]])"
            ]
          },
          "metadata": {},
          "execution_count": 287
        }
      ],
      "source": [
        "angle(C+1) # для пользователей MATLAB, angle используется вместо arg"
      ]
    },
    {
      "cell_type": "code",
      "execution_count": null,
      "metadata": {
        "id": "AkKFJhrCU3pP",
        "outputId": "92c583d0-e3ee-414c-b5b9-0e44732d8a45",
        "colab": {
          "base_uri": "https://localhost:8080/"
        }
      },
      "outputs": [
        {
          "output_type": "execute_result",
          "data": {
            "text/plain": [
              "matrix([[1., 2.],\n",
              "        [3., 4.]])"
            ]
          },
          "metadata": {},
          "execution_count": 288
        }
      ],
      "source": [
        "abs(C)"
      ]
    },
    {
      "cell_type": "markdown",
      "metadata": {
        "id": "tiCGx_TuU3pP"
      },
      "source": [
        "### Задание 8\n",
        "Даны вектора v1(0,1,2,3,4) v2(5,6,7,8,9) найти угол между ними, учитывая что косинус угла между векторами можно найти как отношения их скалярного произведения к их длинам."
      ]
    },
    {
      "cell_type": "code",
      "source": [
        "from math import *\n",
        "\n",
        "v1 = int8([0, 1, 2, 3, 4])\n",
        "v2 = int8([5, 6, 7, 8, 9])\n",
        "\n",
        "v1_length = sqrt(sum(v1 ** 2))\n",
        "v2_length = sqrt(sum(v2 ** 2))\n",
        "alpha = dot(v1_length, v2_length) / (v1_length * v2_length)\n",
        "arccos(alpha)"
      ],
      "metadata": {
        "colab": {
          "base_uri": "https://localhost:8080/"
        },
        "id": "ZcSRPj79njLZ",
        "outputId": "8ef2ed9b-684f-42fd-b741-c9cd3d3db0db"
      },
      "execution_count": null,
      "outputs": [
        {
          "output_type": "execute_result",
          "data": {
            "text/plain": [
              "0.0"
            ]
          },
          "metadata": {},
          "execution_count": 297
        }
      ]
    },
    {
      "cell_type": "markdown",
      "metadata": {
        "id": "9Y5YrkpeU3pQ"
      },
      "source": [
        "### Вычисления над матрицами"
      ]
    },
    {
      "cell_type": "markdown",
      "metadata": {
        "id": "5bIb0OVzU3pR"
      },
      "source": [
        "#### Функция Inv - инверсия"
      ]
    },
    {
      "cell_type": "code",
      "source": [
        "C"
      ],
      "metadata": {
        "colab": {
          "base_uri": "https://localhost:8080/"
        },
        "id": "e4Q3vE8-qK0e",
        "outputId": "2aa0cfce-e1f3-4051-b080-eb62c444b08b"
      },
      "execution_count": null,
      "outputs": [
        {
          "output_type": "execute_result",
          "data": {
            "text/plain": [
              "matrix([[0.+1.j, 0.+2.j],\n",
              "        [0.+3.j, 0.+4.j]])"
            ]
          },
          "metadata": {},
          "execution_count": 299
        }
      ]
    },
    {
      "cell_type": "code",
      "execution_count": null,
      "metadata": {
        "id": "Xkk0fAerU3pR",
        "outputId": "e65a4628-dd9d-4835-d72c-1d24f5836056",
        "colab": {
          "base_uri": "https://localhost:8080/"
        }
      },
      "outputs": [
        {
          "output_type": "execute_result",
          "data": {
            "text/plain": [
              "matrix([[0.+2.j , 0.-1.j ],\n",
              "        [0.-1.5j, 0.+0.5j]])"
            ]
          },
          "metadata": {},
          "execution_count": 298
        }
      ],
      "source": [
        "linalg.inv(C) # эквивалентно C.I "
      ]
    },
    {
      "cell_type": "code",
      "execution_count": null,
      "metadata": {
        "id": "_FRWrEkNU3pR",
        "outputId": "895be3e4-5115-4029-9768-3a267b27e8ce",
        "colab": {
          "base_uri": "https://localhost:8080/"
        }
      },
      "outputs": [
        {
          "output_type": "execute_result",
          "data": {
            "text/plain": [
              "matrix([[1.00000000e+00+0.j, 0.00000000e+00+0.j],\n",
              "        [1.11022302e-16+0.j, 1.00000000e+00+0.j]])"
            ]
          },
          "metadata": {},
          "execution_count": 300
        }
      ],
      "source": [
        "C.I * C"
      ]
    },
    {
      "cell_type": "markdown",
      "metadata": {
        "id": "Bj7KkZK4U3pS"
      },
      "source": [
        "#### Функция det - детерминант"
      ]
    },
    {
      "cell_type": "code",
      "execution_count": null,
      "metadata": {
        "id": "qaKhTC4YU3pS",
        "outputId": "a8d959cc-eb14-4c51-a6e2-8bb07fde34a5",
        "colab": {
          "base_uri": "https://localhost:8080/"
        }
      },
      "outputs": [
        {
          "output_type": "execute_result",
          "data": {
            "text/plain": [
              "(2.0000000000000004+0j)"
            ]
          },
          "metadata": {},
          "execution_count": 301
        }
      ],
      "source": [
        "linalg.det(C)"
      ]
    },
    {
      "cell_type": "code",
      "execution_count": null,
      "metadata": {
        "id": "qYMslhUwU3pT",
        "outputId": "ba1a7e4d-3c41-44e1-e4bf-a37fdeb32c85",
        "colab": {
          "base_uri": "https://localhost:8080/"
        }
      },
      "outputs": [
        {
          "output_type": "execute_result",
          "data": {
            "text/plain": [
              "(0.49999999999999967+0j)"
            ]
          },
          "metadata": {},
          "execution_count": 302
        }
      ],
      "source": [
        "linalg.det(C.I)"
      ]
    },
    {
      "cell_type": "markdown",
      "metadata": {
        "id": "jzfpv5gRU3pT"
      },
      "source": [
        "### Задача 9\n",
        "Создайте две матрицы размером (5,5). Одна матрица содержит 5 в шахматном порядке как в задаче домашнего задания, другая имеет треугольную форму содержающую 5 на основной диагонали и в позициях выше ее, а ниже все 0. Посчитайте их детерминант и найдите обратные матрицы. Если для матрицы не у дается найти обратную, видимо этому мешает нулевое значение детерминанта."
      ]
    },
    {
      "cell_type": "code",
      "source": [
        "indexes_even = [0, 2, 4]\n",
        "indexes_odd = [1, 3]\n",
        "matrix1 = zeros((5, 5))\n",
        "matrix1[::2, indexes_even] = 5\n",
        "matrix1[1::2, indexes_odd] = 5\n",
        "matrix1"
      ],
      "metadata": {
        "colab": {
          "base_uri": "https://localhost:8080/"
        },
        "id": "_NyvntRmqtlI",
        "outputId": "608ecb2f-172d-426a-c8e0-ec019bf58767"
      },
      "execution_count": null,
      "outputs": [
        {
          "output_type": "execute_result",
          "data": {
            "text/plain": [
              "array([[5., 0., 5., 0., 5.],\n",
              "       [0., 5., 0., 5., 0.],\n",
              "       [5., 0., 5., 0., 5.],\n",
              "       [0., 5., 0., 5., 0.],\n",
              "       [5., 0., 5., 0., 5.]])"
            ]
          },
          "metadata": {},
          "execution_count": 340
        }
      ]
    },
    {
      "cell_type": "code",
      "source": [
        "from itertools import *\n",
        "mask = int8(list(product(range(5), range(5))))\n",
        "mask = [x.tolist() for x in mask if x[0] < x[1]]\n",
        "print(mask)"
      ],
      "metadata": {
        "colab": {
          "base_uri": "https://localhost:8080/"
        },
        "id": "LZX84-tVvUzM",
        "outputId": "53ca3ded-f1f3-4ae6-afa1-393c7883d2cb"
      },
      "execution_count": null,
      "outputs": [
        {
          "output_type": "stream",
          "name": "stdout",
          "text": [
            "[[0, 1], [0, 2], [0, 3], [0, 4], [1, 2], [1, 3], [1, 4], [2, 3], [2, 4], [3, 4]]\n"
          ]
        }
      ]
    },
    {
      "cell_type": "code",
      "source": [
        "matrix2 = int8([list(range(5))] * 5)\n",
        "matrix2\n",
        "matrix2[matrix2[0] > matrix2[1]] = 5\n",
        "matrix2"
      ],
      "metadata": {
        "colab": {
          "base_uri": "https://localhost:8080/"
        },
        "id": "1svQS2THs412",
        "outputId": "b1eca22f-efe3-4e26-e911-336b3200b995"
      },
      "execution_count": null,
      "outputs": [
        {
          "output_type": "execute_result",
          "data": {
            "text/plain": [
              "array([[0, 1, 2, 3, 4],\n",
              "       [0, 1, 2, 3, 4],\n",
              "       [0, 1, 2, 3, 4],\n",
              "       [0, 1, 2, 3, 4],\n",
              "       [0, 1, 2, 3, 4]], dtype=int8)"
            ]
          },
          "metadata": {},
          "execution_count": 345
        }
      ]
    },
    {
      "cell_type": "markdown",
      "metadata": {
        "id": "1MhhjzCxU3pT"
      },
      "source": [
        "### Обработка данных"
      ]
    },
    {
      "cell_type": "markdown",
      "metadata": {
        "id": "p3FLRVLGU3pW"
      },
      "source": [
        "Часто бывает полезно хранить наборы данных в массивах Numpy. Numpy предоставляет ряд функций для вычисления статистики наборов данных в массивах.\n",
        "\n",
        "Например, давайте рассчитаем некоторые свойства из набора данных температуры Стокгольма, использованного выше."
      ]
    },
    {
      "cell_type": "code",
      "execution_count": null,
      "metadata": {
        "id": "hyppAZm7U3pW",
        "outputId": "b8ea750b-5ebb-4957-e358-80ddfec60e9b"
      },
      "outputs": [
        {
          "data": {
            "text/plain": [
              "(77431, 7)"
            ]
          },
          "execution_count": 180,
          "metadata": {},
          "output_type": "execute_result"
        }
      ],
      "source": [
        "# напоминаем в переменной data храняться данные температуры в Стокгольме\n",
        "data.shape"
      ]
    },
    {
      "cell_type": "markdown",
      "metadata": {
        "id": "Dnb75NbiU3pX"
      },
      "source": [
        "#### Функция mean"
      ]
    },
    {
      "cell_type": "code",
      "execution_count": null,
      "metadata": {
        "id": "VCRfR53UU3pX",
        "outputId": "90f19918-6a3e-41df-b6ce-71ecef30d79d"
      },
      "outputs": [
        {
          "data": {
            "text/plain": [
              "6.197109684751585"
            ]
          },
          "execution_count": 181,
          "metadata": {},
          "output_type": "execute_result"
        }
      ],
      "source": [
        "# the temperature data is in column 3\n",
        "mean(data[:,3])"
      ]
    },
    {
      "cell_type": "markdown",
      "metadata": {
        "id": "f5-TQS8AU3pX"
      },
      "source": [
        "Средняя дневная температура в Стокгольме за последние 200 лет 6.2 C."
      ]
    },
    {
      "cell_type": "markdown",
      "metadata": {
        "id": "h5vpzVxpU3pX"
      },
      "source": [
        "#### Функции стандартного отклонения и дисперсии"
      ]
    },
    {
      "cell_type": "code",
      "execution_count": null,
      "metadata": {
        "id": "62e7TDQfU3pY",
        "outputId": "e63f8fc4-9eaf-4ced-efbe-418e5fbf416e"
      },
      "outputs": [
        {
          "data": {
            "text/plain": [
              "(8.282271621340573, 68.59602320966341)"
            ]
          },
          "execution_count": 182,
          "metadata": {},
          "output_type": "execute_result"
        }
      ],
      "source": [
        "std(data[:,3]), var(data[:,3])"
      ]
    },
    {
      "cell_type": "code",
      "execution_count": null,
      "metadata": {
        "id": "qEdeD5cJU3pY"
      },
      "outputs": [],
      "source": []
    },
    {
      "cell_type": "markdown",
      "metadata": {
        "id": "7PUs_NlYU3pY"
      },
      "source": [
        "#### Функции min и max"
      ]
    },
    {
      "cell_type": "code",
      "execution_count": null,
      "metadata": {
        "id": "v1zCAtQNU3pY",
        "outputId": "a4cd9d39-11f5-425f-bb7f-0274874526ab"
      },
      "outputs": [
        {
          "data": {
            "text/plain": [
              "-25.8"
            ]
          },
          "execution_count": 183,
          "metadata": {},
          "output_type": "execute_result"
        }
      ],
      "source": [
        "# минимальная температура\n",
        "data[:,3].min()"
      ]
    },
    {
      "cell_type": "code",
      "execution_count": null,
      "metadata": {
        "id": "tqZy0m9kU3pZ",
        "outputId": "19492aec-f087-40a8-ea70-1b3153a19e82"
      },
      "outputs": [
        {
          "data": {
            "text/plain": [
              "28.3"
            ]
          },
          "execution_count": 184,
          "metadata": {},
          "output_type": "execute_result"
        }
      ],
      "source": [
        "# максимальная температура\n",
        "data[:,3].max()"
      ]
    },
    {
      "cell_type": "markdown",
      "metadata": {
        "id": "jf9JZD1BU3pZ"
      },
      "source": [
        "#### Функции sum, prod и trace"
      ]
    },
    {
      "cell_type": "code",
      "execution_count": null,
      "metadata": {
        "id": "y46SxQI6U3pZ",
        "outputId": "f0740eb5-23b7-48e8-e918-dd9a5e82127e"
      },
      "outputs": [
        {
          "data": {
            "text/plain": [
              "array([0, 1, 2, 3, 4, 5, 6, 7, 8, 9])"
            ]
          },
          "execution_count": 185,
          "metadata": {},
          "output_type": "execute_result"
        }
      ],
      "source": [
        "d = arange(0, 10)\n",
        "d"
      ]
    },
    {
      "cell_type": "code",
      "execution_count": null,
      "metadata": {
        "id": "vLY3TUHXU3pZ",
        "outputId": "7b6d450a-b6cb-482f-e39b-25acdc94dde2"
      },
      "outputs": [
        {
          "data": {
            "text/plain": [
              "45"
            ]
          },
          "execution_count": 186,
          "metadata": {},
          "output_type": "execute_result"
        }
      ],
      "source": [
        "# сумма всех элементов\n",
        "sum(d)"
      ]
    },
    {
      "cell_type": "code",
      "execution_count": null,
      "metadata": {
        "id": "tzShpFhnU3pa",
        "outputId": "b80c2c06-6c6b-495f-8f11-68e92b0707c9"
      },
      "outputs": [
        {
          "data": {
            "text/plain": [
              "3628800"
            ]
          },
          "execution_count": 187,
          "metadata": {},
          "output_type": "execute_result"
        }
      ],
      "source": [
        "# произведение всех элементов\n",
        "prod(d+1)"
      ]
    },
    {
      "cell_type": "code",
      "execution_count": null,
      "metadata": {
        "id": "wYehQZeiU3pa",
        "outputId": "9c4c58ba-c4c1-4093-dfae-03acd9e447e9"
      },
      "outputs": [
        {
          "data": {
            "text/plain": [
              "array([ 0,  1,  3,  6, 10, 15, 21, 28, 36, 45], dtype=int32)"
            ]
          },
          "execution_count": 188,
          "metadata": {},
          "output_type": "execute_result"
        }
      ],
      "source": [
        "# совокупная сумма\n",
        "cumsum(d)"
      ]
    },
    {
      "cell_type": "code",
      "execution_count": null,
      "metadata": {
        "id": "dS0NEhwqU3pa",
        "outputId": "6f5dfd59-3f37-43e7-fae6-1dc9fbd7fe7a"
      },
      "outputs": [
        {
          "data": {
            "text/plain": [
              "array([      1,       2,       6,      24,     120,     720,    5040,\n",
              "         40320,  362880, 3628800], dtype=int32)"
            ]
          },
          "execution_count": 189,
          "metadata": {},
          "output_type": "execute_result"
        }
      ],
      "source": [
        "# совокупное произведение\n",
        "cumprod(d+1)"
      ]
    },
    {
      "cell_type": "code",
      "execution_count": null,
      "metadata": {
        "id": "YMoJowlKU3pb",
        "outputId": "bab70f40-6864-4099-c511-b6ce2f550db7"
      },
      "outputs": [
        {
          "data": {
            "text/plain": [
              "110"
            ]
          },
          "execution_count": 190,
          "metadata": {},
          "output_type": "execute_result"
        }
      ],
      "source": [
        "# тоже что и: diag(A).sum()\n",
        "trace(A)"
      ]
    },
    {
      "cell_type": "markdown",
      "metadata": {
        "id": "moYd06faU3pb"
      },
      "source": [
        "### Вычисления на подмножествах массива"
      ]
    },
    {
      "cell_type": "markdown",
      "metadata": {
        "id": "YCKGloleU3pb"
      },
      "source": [
        "Можно выполнять вычисления на подмножествах используя индексирование, необычное индексирование и другие методы извлечения данных из массива.\n",
        "\n",
        "Рассмотрим данные массива температур в Стокгольме:"
      ]
    },
    {
      "cell_type": "markdown",
      "metadata": {
        "id": "_BKzz_r8U3pb"
      },
      "source": [
        "Формат данных: год, месяц, день, дневная средняя температура, самая низкая, самая высокая, местность.\n",
        "\n",
        "Если необходимо извлечь среднюю температуру в какой-то конкретный месяц, например февраль, тогда нужно создать маску индексов и использовать ее для извлечения данных только за этот месяц:"
      ]
    },
    {
      "cell_type": "code",
      "execution_count": null,
      "metadata": {
        "id": "4Rrv3QPjU3pc",
        "outputId": "0ee58d45-280b-4064-b4de-6bf5fa902b87"
      },
      "outputs": [
        {
          "data": {
            "text/plain": [
              "array([ 1.,  2.,  3.,  4.,  5.,  6.,  7.,  8.,  9., 10., 11., 12.])"
            ]
          },
          "execution_count": 191,
          "metadata": {},
          "output_type": "execute_result"
        }
      ],
      "source": [
        "unique(data[:,1]) # столбик месяцев от 1 до 12"
      ]
    },
    {
      "cell_type": "code",
      "execution_count": null,
      "metadata": {
        "id": "xci7fQrXU3pc"
      },
      "outputs": [],
      "source": [
        "mask_feb = data[:,1] == 2"
      ]
    },
    {
      "cell_type": "code",
      "execution_count": null,
      "metadata": {
        "id": "9-yX4L4sU3pc",
        "outputId": "8d01b44f-64d2-4c91-da43-40da1b9b1dc5"
      },
      "outputs": [
        {
          "data": {
            "text/plain": [
              "-3.212109570736596"
            ]
          },
          "execution_count": 193,
          "metadata": {},
          "output_type": "execute_result"
        }
      ],
      "source": [
        "# температурные данные в столбике 3\n",
        "mean(data[mask_feb,3])"
      ]
    },
    {
      "cell_type": "markdown",
      "metadata": {
        "id": "Up8z0gbIU3pd"
      },
      "source": [
        "С этими интструментами открываются широкие возможности для обработки данных. Например, чтобы извлечь среднюю температуру за месяц по всем месяцам достаточно несколько строк кода:"
      ]
    },
    {
      "cell_type": "code",
      "execution_count": null,
      "metadata": {
        "id": "z_NE3FvBU3pd",
        "outputId": "b729b625-2b5c-4719-cdd9-cd12c2ebfbd5"
      },
      "outputs": [
        {
          "data": {
            "image/png": "[encoded data removed]",
            "text/plain": [
              "<Figure size 432x288 with 1 Axes>"
            ]
          },
          "metadata": {
            "needs_background": "light"
          },
          "output_type": "display_data"
        }
      ],
      "source": [
        "months = arange(1,13)\n",
        "monthly_mean = [mean(data[data[:,1] == month, 3]) for month in months]\n",
        "\n",
        "fig, ax = plt.subplots()\n",
        "ax.bar(months, monthly_mean)\n",
        "ax.set_xlabel(\"Month\")\n",
        "ax.set_ylabel(\"Monthly avg. temp.\");"
      ]
    },
    {
      "cell_type": "markdown",
      "metadata": {
        "id": "ym5shV9CU3pd"
      },
      "source": [
        "### Вычисления с данными высокой размерности"
      ]
    },
    {
      "cell_type": "markdown",
      "metadata": {
        "id": "v4nMLp5kU3pd"
      },
      "source": [
        "Когда функции, такие как `min`, `max` и т. д. применяются к многомерным массивам, иногда полезно применять расчет ко всему массиву, а иногда только на основе строки или столбца. Используя аргумент `axis`, мы можем указать, как должны вести себя эти функции:"
      ]
    },
    {
      "cell_type": "code",
      "execution_count": null,
      "metadata": {
        "id": "l_bbexAHU3pe",
        "outputId": "b5479867-66ee-4c0a-cabc-09dc9b9dfc3e"
      },
      "outputs": [
        {
          "data": {
            "text/plain": [
              "array([[0.86270493, 0.96981009, 0.96959743],\n",
              "       [0.35425871, 0.52085563, 0.48726959],\n",
              "       [0.61650805, 0.05690313, 0.1292265 ]])"
            ]
          },
          "execution_count": 195,
          "metadata": {},
          "output_type": "execute_result"
        }
      ],
      "source": [
        "m = random.rand(3,3)\n",
        "m"
      ]
    },
    {
      "cell_type": "code",
      "execution_count": null,
      "metadata": {
        "id": "O7e0OIc2U3pe",
        "outputId": "efc207c3-ad70-46e1-9140-9eb48305347b"
      },
      "outputs": [
        {
          "data": {
            "text/plain": [
              "0.9698100908575067"
            ]
          },
          "execution_count": 196,
          "metadata": {},
          "output_type": "execute_result"
        }
      ],
      "source": [
        "# максимум по массиву\n",
        "m.max()"
      ]
    },
    {
      "cell_type": "code",
      "execution_count": null,
      "metadata": {
        "id": "VrOyCnkDU3pe",
        "outputId": "79e479e9-ca77-4253-eca9-a66c65760c84"
      },
      "outputs": [
        {
          "data": {
            "text/plain": [
              "array([0.86270493, 0.96981009, 0.96959743])"
            ]
          },
          "execution_count": 197,
          "metadata": {},
          "output_type": "execute_result"
        }
      ],
      "source": [
        "# максимумы по каждому столбцу\n",
        "m.max(axis=0)"
      ]
    },
    {
      "cell_type": "code",
      "execution_count": null,
      "metadata": {
        "id": "xUhflt7BU3pe",
        "outputId": "bbaef7f6-ae16-41c2-90fc-a948c086a3cc"
      },
      "outputs": [
        {
          "data": {
            "text/plain": [
              "array([0.96981009, 0.52085563, 0.61650805])"
            ]
          },
          "execution_count": 198,
          "metadata": {},
          "output_type": "execute_result"
        }
      ],
      "source": [
        "# максимумы по каждой строке\n",
        "m.max(axis=1)"
      ]
    },
    {
      "cell_type": "markdown",
      "metadata": {
        "id": "V1P6s9eDU3pf"
      },
      "source": [
        "Многие другие функции и методы в классах `array` и `matrix` принимают один и тот же (необязательный) аргумент ключевого слова `axis`."
      ]
    },
    {
      "cell_type": "markdown",
      "metadata": {
        "id": "pHBLkunDU3pf"
      },
      "source": [
        "## Преобразования формы, размера и соединение массивов"
      ]
    },
    {
      "cell_type": "markdown",
      "metadata": {
        "id": "1sLG0aVuU3pf"
      },
      "source": [
        "Форма массива Numpy может быть изменена без копирования базовых данных, что делает его быстрой операцией даже для больших массивов."
      ]
    },
    {
      "cell_type": "code",
      "execution_count": null,
      "metadata": {
        "id": "-jRRcMGlU3pf",
        "outputId": "25601a7a-6160-4359-96e7-ad8d4b11cb5f",
        "colab": {
          "base_uri": "https://localhost:8080/",
          "height": 166
        }
      },
      "outputs": [
        {
          "output_type": "error",
          "ename": "NameError",
          "evalue": "ignored",
          "traceback": [
            "\u001b[0;31m---------------------------------------------------------------------------\u001b[0m",
            "\u001b[0;31mNameError\u001b[0m                                 Traceback (most recent call last)",
            "\u001b[0;32m<ipython-input-1-7d157d7c000a>\u001b[0m in \u001b[0;36m<module>\u001b[0;34m\u001b[0m\n\u001b[0;32m----> 1\u001b[0;31m \u001b[0mA\u001b[0m\u001b[0;34m\u001b[0m\u001b[0;34m\u001b[0m\u001b[0m\n\u001b[0m",
            "\u001b[0;31mNameError\u001b[0m: name 'A' is not defined"
          ]
        }
      ],
      "source": [
        "A"
      ]
    },
    {
      "cell_type": "code",
      "execution_count": null,
      "metadata": {
        "id": "nBvZWUh6U3pg"
      },
      "outputs": [],
      "source": [
        "n, m = A.shape"
      ]
    },
    {
      "cell_type": "code",
      "execution_count": null,
      "metadata": {
        "id": "z4pV65K7U3pg"
      },
      "outputs": [],
      "source": [
        "B = A.reshape((1,n*m))\n",
        "B"
      ]
    },
    {
      "cell_type": "code",
      "execution_count": null,
      "metadata": {
        "id": "8DGg1vwsU3pg"
      },
      "outputs": [],
      "source": [
        "B[0,0:5] = 5 # изменим массив\n",
        "\n",
        "B"
      ]
    },
    {
      "cell_type": "code",
      "execution_count": null,
      "metadata": {
        "id": "MpMcN3yZU3pg"
      },
      "outputs": [],
      "source": [
        "A # и оригинальные данные тоже изменятся. A и B это ссылки на одни и теже данные"
      ]
    },
    {
      "cell_type": "markdown",
      "metadata": {
        "id": "T-1OUySQU3ph"
      },
      "source": [
        "Мы также можем использовать функцию `flatten`, чтобы превратить массив более высоких измерений в вектор. Но эта функция создает копию данных."
      ]
    },
    {
      "cell_type": "code",
      "execution_count": null,
      "metadata": {
        "id": "cFaZRHs3U3ph"
      },
      "outputs": [],
      "source": [
        "B = A.flatten()\n",
        "\n",
        "B"
      ]
    },
    {
      "cell_type": "code",
      "execution_count": null,
      "metadata": {
        "id": "0RAkthTQU3ph"
      },
      "outputs": [],
      "source": [
        "B[0:5] = 10\n",
        "\n",
        "B"
      ]
    },
    {
      "cell_type": "code",
      "execution_count": null,
      "metadata": {
        "id": "IBDAmUYHU3pi"
      },
      "outputs": [],
      "source": [
        "A # теперь A неизменилась, поскольку данные B это копия A, теперь B не ссылается на те же данные."
      ]
    },
    {
      "cell_type": "markdown",
      "metadata": {
        "id": "z0nza6fQU3pi"
      },
      "source": [
        "## Дополнение новых размерностей: newaxis"
      ]
    },
    {
      "cell_type": "markdown",
      "metadata": {
        "id": "8n-05xUqU3pi"
      },
      "source": [
        "С `newaxis`, можно добавить новые размерности в массив. Например, превратить вектор в матрицу:"
      ]
    },
    {
      "cell_type": "code",
      "execution_count": null,
      "metadata": {
        "id": "FFYejnbHU3pi"
      },
      "outputs": [],
      "source": [
        "v = array([1,2,3])"
      ]
    },
    {
      "cell_type": "code",
      "execution_count": null,
      "metadata": {
        "id": "pm7rlleLU3pi"
      },
      "outputs": [],
      "source": [
        "shape(v)"
      ]
    },
    {
      "cell_type": "code",
      "execution_count": null,
      "metadata": {
        "id": "eufEhcduU3pj"
      },
      "outputs": [],
      "source": [
        "# создание столбца матрицы из вектора v\n",
        "v[:, newaxis]"
      ]
    },
    {
      "cell_type": "code",
      "execution_count": null,
      "metadata": {
        "id": "3-nij5jYU3pj"
      },
      "outputs": [],
      "source": [
        "# столбец матрицы\n",
        "v[:,newaxis].shape"
      ]
    },
    {
      "cell_type": "code",
      "execution_count": null,
      "metadata": {
        "id": "XXFpcCOQU3pj"
      },
      "outputs": [],
      "source": [
        "# строка матрицы\n",
        "v[newaxis,:].shape"
      ]
    },
    {
      "cell_type": "markdown",
      "metadata": {
        "id": "TdMMzI06U3pk"
      },
      "source": [
        "## Соединение и повторение массивов"
      ]
    },
    {
      "cell_type": "markdown",
      "metadata": {
        "id": "Z0NDP6paU3pk"
      },
      "source": [
        "Используя функции `repeat`, `tile`, `vstack`, `hstack` и `concatenate` мы можем создать больше векторов и матриц из более мелких:"
      ]
    },
    {
      "cell_type": "markdown",
      "metadata": {
        "id": "HCNyb9oNU3pk"
      },
      "source": [
        "### `tile` и `repeat`"
      ]
    },
    {
      "cell_type": "code",
      "execution_count": null,
      "metadata": {
        "id": "aOW7MRtiU3pk"
      },
      "outputs": [],
      "source": [
        "a = array([[1, 2], [3, 4]])"
      ]
    },
    {
      "cell_type": "code",
      "execution_count": null,
      "metadata": {
        "id": "5mDyUbG0U3pl"
      },
      "outputs": [],
      "source": [
        "# повторить каждый элемент 3 раза\n",
        "repeat(a, 3)"
      ]
    },
    {
      "cell_type": "code",
      "execution_count": null,
      "metadata": {
        "id": "xZshdU7hU3pl"
      },
      "outputs": [],
      "source": [
        "# повторить матрицу 3 раза \n",
        "tile(a, 3)"
      ]
    },
    {
      "cell_type": "markdown",
      "metadata": {
        "id": "WGkTSdMhU3pl"
      },
      "source": [
        "### `concatenate`"
      ]
    },
    {
      "cell_type": "code",
      "execution_count": null,
      "metadata": {
        "id": "i7x-lTC2U3pl"
      },
      "outputs": [],
      "source": [
        "b = array([[5, 6]])"
      ]
    },
    {
      "cell_type": "code",
      "execution_count": null,
      "metadata": {
        "id": "b44AEsm0U3pm"
      },
      "outputs": [],
      "source": [
        "concatenate((a, b), axis=0)"
      ]
    },
    {
      "cell_type": "code",
      "execution_count": null,
      "metadata": {
        "id": "-1dR0r_oU3pm"
      },
      "outputs": [],
      "source": [
        "concatenate((a, b.T), axis=1)"
      ]
    },
    {
      "cell_type": "markdown",
      "metadata": {
        "id": "-AWwG4JhU3pm"
      },
      "source": [
        "### `hstack` и `vstack`"
      ]
    },
    {
      "cell_type": "code",
      "execution_count": null,
      "metadata": {
        "id": "MQ6P16E2U3pm"
      },
      "outputs": [],
      "source": [
        "vstack((a,b))"
      ]
    },
    {
      "cell_type": "code",
      "execution_count": null,
      "metadata": {
        "id": "8FjdtyONU3pm"
      },
      "outputs": [],
      "source": [
        "hstack((a,b.T))"
      ]
    },
    {
      "cell_type": "markdown",
      "metadata": {
        "id": "jW3eiL6XU3pn"
      },
      "source": [
        "## Копия и \"глубокая копия\""
      ]
    },
    {
      "cell_type": "markdown",
      "metadata": {
        "id": "hOzFSH05U3pn"
      },
      "source": [
        "Для достижения высокой производительности назначения в Python обычно не копируют базовые объекты. Это важно, например, когда объекты передаются между функциями, чтобы избежать чрезмерного объема копирования памяти, когда это не является необходимым (технический термин: пропуск по ссылке)."
      ]
    },
    {
      "cell_type": "code",
      "execution_count": null,
      "metadata": {
        "id": "sCJQEhs9U3pn",
        "outputId": "fb698941-6e21-4039-d972-7db89ec93b85"
      },
      "outputs": [
        {
          "data": {
            "text/plain": [
              "array([[1, 2],\n",
              "       [3, 4]])"
            ]
          },
          "execution_count": 220,
          "metadata": {},
          "output_type": "execute_result"
        }
      ],
      "source": [
        "A = array([[1, 2], [3, 4]])\n",
        "\n",
        "A"
      ]
    },
    {
      "cell_type": "code",
      "execution_count": null,
      "metadata": {
        "id": "j-f-enHUU3pn"
      },
      "outputs": [],
      "source": [
        "# теперь В ссылается натеже данные, что и А \n",
        "B = A "
      ]
    },
    {
      "cell_type": "code",
      "execution_count": null,
      "metadata": {
        "id": "3sb9q1PBU3po",
        "outputId": "f4f098ae-795b-437f-f103-8c6344a94351"
      },
      "outputs": [
        {
          "data": {
            "text/plain": [
              "array([[10,  2],\n",
              "       [ 3,  4]])"
            ]
          },
          "execution_count": 222,
          "metadata": {},
          "output_type": "execute_result"
        }
      ],
      "source": [
        "# изменения B отражаются в A\n",
        "B[0,0] = 10\n",
        "\n",
        "B"
      ]
    },
    {
      "cell_type": "code",
      "execution_count": null,
      "metadata": {
        "id": "tzUS6WelU3po",
        "outputId": "1a2a78a9-5b92-47c8-9ed9-694241ec1b73"
      },
      "outputs": [
        {
          "data": {
            "text/plain": [
              "array([[10,  2],\n",
              "       [ 3,  4]])"
            ]
          },
          "execution_count": 223,
          "metadata": {},
          "output_type": "execute_result"
        }
      ],
      "source": [
        "A"
      ]
    },
    {
      "cell_type": "markdown",
      "metadata": {
        "id": "j7C5kDIQU3po"
      },
      "source": [
        "Если мы хотим избежать такого поведения, чтобы при получении нового полностью независимого объекта `B`, скопированного из `A`, нам нужно было сделать так называемое \"глубокое копирование\" с помощью функции `copy`:"
      ]
    },
    {
      "cell_type": "code",
      "execution_count": null,
      "metadata": {
        "id": "yf8tNHHXU3po"
      },
      "outputs": [],
      "source": [
        "B = copy(A)"
      ]
    },
    {
      "cell_type": "code",
      "execution_count": null,
      "metadata": {
        "id": "QlE3ElphU3pp",
        "outputId": "6fc269a8-1027-4179-b078-3196a9f5a465"
      },
      "outputs": [
        {
          "data": {
            "text/plain": [
              "array([[10,  2],\n",
              "       [ 3,  4]])"
            ]
          },
          "execution_count": 225,
          "metadata": {},
          "output_type": "execute_result"
        }
      ],
      "source": [
        "# теперь при изменении В, А не меняется\n",
        "\n",
        "B"
      ]
    },
    {
      "cell_type": "code",
      "execution_count": null,
      "metadata": {
        "id": "4tUf8IEpU3pp",
        "outputId": "6e526e74-7714-4e08-8e05-ecc91095c804"
      },
      "outputs": [
        {
          "data": {
            "text/plain": [
              "array([[10,  2],\n",
              "       [ 3,  4]])"
            ]
          },
          "execution_count": 226,
          "metadata": {},
          "output_type": "execute_result"
        }
      ],
      "source": [
        "A"
      ]
    },
    {
      "cell_type": "markdown",
      "metadata": {
        "id": "G8pPNCOxU3pp"
      },
      "source": [
        "## Иттерация на элементах массива"
      ]
    },
    {
      "cell_type": "markdown",
      "metadata": {
        "id": "TnWKFySzU3pp"
      },
      "source": [
        "Как правило, мы хотим избежать повторения элементов массивов всякий раз, когда это возможно (любой ценой). Причина в том, что в интерпретируемом языке, таком как Python (или MATLAB), итерации действительно медленны по сравнению с векторизованными операциями.\n",
        "\n",
        "Однако, иногда итерации неизбежны. Для таких случаев цикл Python `for` является наиболее удобным способом перебора массива:"
      ]
    },
    {
      "cell_type": "code",
      "execution_count": null,
      "metadata": {
        "id": "bRe6BYfkU3pq",
        "outputId": "901b7b3b-a23d-4fb4-9eb7-4c28481bb869"
      },
      "outputs": [
        {
          "name": "stdout",
          "output_type": "stream",
          "text": [
            "1\n",
            "2\n",
            "3\n",
            "4\n"
          ]
        }
      ],
      "source": [
        "v = array([1,2,3,4])\n",
        "\n",
        "for element in v:\n",
        "    print(element)"
      ]
    },
    {
      "cell_type": "code",
      "execution_count": null,
      "metadata": {
        "id": "uFnMxSkvU3pq",
        "outputId": "2e8a1310-081f-415a-c6fb-7d4d65210ffc"
      },
      "outputs": [
        {
          "name": "stdout",
          "output_type": "stream",
          "text": [
            "row [1 2]\n",
            "1\n",
            "2\n",
            "row [3 4]\n",
            "3\n",
            "4\n"
          ]
        }
      ],
      "source": [
        "M = array([[1,2], [3,4]])\n",
        "\n",
        "for row in M:\n",
        "    print(\"row\", row)\n",
        "    \n",
        "    for element in row:\n",
        "        print(element)"
      ]
    },
    {
      "cell_type": "markdown",
      "metadata": {
        "id": "itxulhTeU3pq"
      },
      "source": [
        "Когда нам нужно перебирать каждый элемент массива и изменять его элементы, удобно использовать функцию `enumerate` для получения как элемента, так и его индекса в цикле `for` :"
      ]
    },
    {
      "cell_type": "code",
      "execution_count": null,
      "metadata": {
        "id": "Z3n1scOjU3pq",
        "outputId": "206d4a97-f124-4dbf-e040-3fa7ec3de9b0"
      },
      "outputs": [
        {
          "name": "stdout",
          "output_type": "stream",
          "text": [
            "row_idx 0 row [1 2]\n",
            "col_idx 0 element 1\n",
            "col_idx 1 element 2\n",
            "row_idx 1 row [3 4]\n",
            "col_idx 0 element 3\n",
            "col_idx 1 element 4\n"
          ]
        }
      ],
      "source": [
        "for row_idx, row in enumerate(M):\n",
        "    print(\"row_idx\", row_idx, \"row\", row)\n",
        "    \n",
        "    for col_idx, element in enumerate(row):\n",
        "        print(\"col_idx\", col_idx, \"element\", element)\n",
        "       \n",
        "        # обновляет матрицу M: возводя ее элементы в квадрат\n",
        "        M[row_idx, col_idx] = element ** 2"
      ]
    },
    {
      "cell_type": "code",
      "execution_count": null,
      "metadata": {
        "id": "k-e8viZbU3pr",
        "outputId": "2156bbff-b36d-4285-aee5-32bb712483c2"
      },
      "outputs": [
        {
          "data": {
            "text/plain": [
              "array([[ 1,  4],\n",
              "       [ 9, 16]])"
            ]
          },
          "execution_count": 230,
          "metadata": {},
          "output_type": "execute_result"
        }
      ],
      "source": [
        "# каждый элемент в M возведен в квадрат\n",
        "M"
      ]
    },
    {
      "cell_type": "markdown",
      "metadata": {
        "id": "2bGlhUN3U3pr"
      },
      "source": [
        "## Векторные функции"
      ]
    },
    {
      "cell_type": "markdown",
      "metadata": {
        "id": "rGZlPXZVU3pr"
      },
      "source": [
        "Как уже упоминалось несколько раз, чтобы получить хорошую производительность, мы должны стараться избегать циклического перебора элементов в наших векторах и матрицах, а вместо этого использовать векторизованные алгоритмы. Первый шаг в преобразовании скалярного алгоритма в векторизованный алгоритм заключается в том, чтобы убедиться, что функции, которые мы пишем, работают с векторными входными данными."
      ]
    },
    {
      "cell_type": "code",
      "execution_count": null,
      "metadata": {
        "id": "yBAUdV8vU3pr"
      },
      "outputs": [],
      "source": [
        "def Theta(x):\n",
        "    \"\"\"\n",
        "    Скалярная реализация функции порога Хевисайда.\n",
        "    \"\"\"\n",
        "    if x >= 0:\n",
        "        return 1\n",
        "    else:\n",
        "        return 0"
      ]
    },
    {
      "cell_type": "code",
      "execution_count": null,
      "metadata": {
        "id": "HH0K_Zs6U3ps",
        "outputId": "ded282cc-b230-43ea-d4a3-bdbd290573f7"
      },
      "outputs": [
        {
          "ename": "ValueError",
          "evalue": "The truth value of an array with more than one element is ambiguous. Use a.any() or a.all()",
          "output_type": "error",
          "traceback": [
            "\u001b[1;31m---------------------------------------------------------------------------\u001b[0m",
            "\u001b[1;31mValueError\u001b[0m                                Traceback (most recent call last)",
            "\u001b[1;32m<ipython-input-232-2cb2062a7e18>\u001b[0m in \u001b[0;36m<module>\u001b[1;34m\u001b[0m\n\u001b[1;32m----> 1\u001b[1;33m \u001b[0mTheta\u001b[0m\u001b[1;33m(\u001b[0m\u001b[0marray\u001b[0m\u001b[1;33m(\u001b[0m\u001b[1;33m[\u001b[0m\u001b[1;33m-\u001b[0m\u001b[1;36m3\u001b[0m\u001b[1;33m,\u001b[0m\u001b[1;33m-\u001b[0m\u001b[1;36m2\u001b[0m\u001b[1;33m,\u001b[0m\u001b[1;33m-\u001b[0m\u001b[1;36m1\u001b[0m\u001b[1;33m,\u001b[0m\u001b[1;36m0\u001b[0m\u001b[1;33m,\u001b[0m\u001b[1;36m1\u001b[0m\u001b[1;33m,\u001b[0m\u001b[1;36m2\u001b[0m\u001b[1;33m,\u001b[0m\u001b[1;36m3\u001b[0m\u001b[1;33m]\u001b[0m\u001b[1;33m)\u001b[0m\u001b[1;33m)\u001b[0m\u001b[1;33m\u001b[0m\u001b[1;33m\u001b[0m\u001b[0m\n\u001b[0m",
            "\u001b[1;32m<ipython-input-231-c9c3b027fcc6>\u001b[0m in \u001b[0;36mTheta\u001b[1;34m(x)\u001b[0m\n\u001b[0;32m      3\u001b[0m     \u001b[0mСкалярная\u001b[0m \u001b[0mреализация\u001b[0m \u001b[0mфункции\u001b[0m \u001b[0mпорога\u001b[0m \u001b[0mХевисайда\u001b[0m\u001b[1;33m.\u001b[0m\u001b[1;33m\u001b[0m\u001b[1;33m\u001b[0m\u001b[0m\n\u001b[0;32m      4\u001b[0m     \"\"\"\n\u001b[1;32m----> 5\u001b[1;33m     \u001b[1;32mif\u001b[0m \u001b[0mx\u001b[0m \u001b[1;33m>=\u001b[0m \u001b[1;36m0\u001b[0m\u001b[1;33m:\u001b[0m\u001b[1;33m\u001b[0m\u001b[1;33m\u001b[0m\u001b[0m\n\u001b[0m\u001b[0;32m      6\u001b[0m         \u001b[1;32mreturn\u001b[0m \u001b[1;36m1\u001b[0m\u001b[1;33m\u001b[0m\u001b[1;33m\u001b[0m\u001b[0m\n\u001b[0;32m      7\u001b[0m     \u001b[1;32melse\u001b[0m\u001b[1;33m:\u001b[0m\u001b[1;33m\u001b[0m\u001b[1;33m\u001b[0m\u001b[0m\n",
            "\u001b[1;31mValueError\u001b[0m: The truth value of an array with more than one element is ambiguous. Use a.any() or a.all()"
          ]
        }
      ],
      "source": [
        "Theta(array([-3,-2,-1,0,1,2,3]))"
      ]
    },
    {
      "cell_type": "markdown",
      "metadata": {
        "id": "PjwA3LN9U3ps"
      },
      "source": [
        "Хорошо, это не сработало, потому что мы не написали функцию `Theta`, чтобы она могла обрабатывать векторный ввод...\n",
        "\n",
        "Чтобы получить векторизованную версию теты, мы можем использовать функцию Numpy `vectorize`. Во многих случаях он может автоматически векторизовать функцию:"
      ]
    },
    {
      "cell_type": "code",
      "execution_count": null,
      "metadata": {
        "id": "nyWrWKT8U3pt"
      },
      "outputs": [],
      "source": [
        "Theta_vec = vectorize(Theta)"
      ]
    },
    {
      "cell_type": "code",
      "execution_count": null,
      "metadata": {
        "id": "tXX29skIU3pt",
        "outputId": "1a5cede3-1e5a-4c61-cd39-5e1550c3c2f6"
      },
      "outputs": [
        {
          "data": {
            "text/plain": [
              "array([0, 0, 0, 1, 1, 1, 1])"
            ]
          },
          "execution_count": 234,
          "metadata": {},
          "output_type": "execute_result"
        }
      ],
      "source": [
        "Theta_vec(array([-3,-2,-1,0,1,2,3]))"
      ]
    },
    {
      "cell_type": "markdown",
      "metadata": {
        "id": "XHJN2PiuU3pu"
      },
      "source": [
        "Мы также можем реализовать функцию для приема векторного ввода с самого начала (требует больше усилий, но может дать лучшую производительность):"
      ]
    },
    {
      "cell_type": "code",
      "execution_count": null,
      "metadata": {
        "id": "AJV85bPOU3pv"
      },
      "outputs": [],
      "source": [
        "def Theta(x):\n",
        "    \"\"\"\n",
        "    Vector-aware implemenation of the Heaviside step function.\n",
        "    \"\"\"\n",
        "    return 1 * (x >= 0)"
      ]
    },
    {
      "cell_type": "code",
      "execution_count": null,
      "metadata": {
        "id": "KBcUjHl7U3pv",
        "outputId": "9241e117-3f1c-425e-8b08-7e455f9b57f7"
      },
      "outputs": [
        {
          "data": {
            "text/plain": [
              "array([0, 0, 0, 1, 1, 1, 1])"
            ]
          },
          "execution_count": 236,
          "metadata": {},
          "output_type": "execute_result"
        }
      ],
      "source": [
        "Theta(array([-3,-2,-1,0,1,2,3]))"
      ]
    },
    {
      "cell_type": "code",
      "execution_count": null,
      "metadata": {
        "id": "iDHQVqgFU3pw",
        "outputId": "7e79c551-297d-4710-d9fc-be435e680408"
      },
      "outputs": [
        {
          "data": {
            "text/plain": [
              "(0, 1)"
            ]
          },
          "execution_count": 237,
          "metadata": {},
          "output_type": "execute_result"
        }
      ],
      "source": [
        "# still works for scalars as well\n",
        "Theta(-1.2), Theta(2.6)"
      ]
    },
    {
      "cell_type": "markdown",
      "metadata": {
        "id": "cuv6Q760U3pw"
      },
      "source": [
        "## Использование массива в условии"
      ]
    },
    {
      "cell_type": "markdown",
      "metadata": {
        "id": "-zxg9mWvU3px"
      },
      "source": [
        "При использовании массивов в условиях, например, `if` операторы и другие логические выражения, нужно использовать `any` или `all`, что требует, чтобы любой или все элементы в массиве равнялись `True`:"
      ]
    },
    {
      "cell_type": "code",
      "execution_count": null,
      "metadata": {
        "id": "3_OqQTPuU3px",
        "outputId": "74309cec-e18e-469a-cb91-1e2e7a1248d1"
      },
      "outputs": [
        {
          "data": {
            "text/plain": [
              "array([[ 1,  4],\n",
              "       [ 9, 16]])"
            ]
          },
          "execution_count": 238,
          "metadata": {},
          "output_type": "execute_result"
        }
      ],
      "source": [
        "M"
      ]
    },
    {
      "cell_type": "code",
      "execution_count": null,
      "metadata": {
        "id": "vBUztaELU3px",
        "outputId": "90d02e6e-2ff6-449f-a803-5a957f35d6c5"
      },
      "outputs": [
        {
          "name": "stdout",
          "output_type": "stream",
          "text": [
            "at least one element in M is larger than 5\n"
          ]
        }
      ],
      "source": [
        "if (M > 5).any():\n",
        "    print(\"at least one element in M is larger than 5\")\n",
        "else:\n",
        "    print(\"no element in M is larger than 5\")"
      ]
    },
    {
      "cell_type": "code",
      "execution_count": null,
      "metadata": {
        "id": "snFJVEzOU3py",
        "outputId": "8ba1b1e1-e280-444d-dbad-aa83939078ae"
      },
      "outputs": [
        {
          "name": "stdout",
          "output_type": "stream",
          "text": [
            "all elements in M are not larger than 5\n"
          ]
        }
      ],
      "source": [
        "if (M > 5).all():\n",
        "    print(\"all elements in M are larger than 5\")\n",
        "else:\n",
        "    print(\"all elements in M are not larger than 5\")"
      ]
    },
    {
      "cell_type": "markdown",
      "metadata": {
        "id": "Qy2L9GKrU3py"
      },
      "source": [
        "## Подбор типа"
      ]
    },
    {
      "cell_type": "markdown",
      "metadata": {
        "id": "ZJXV_jI2U3py"
      },
      "source": [
        "Поскольку массивы Numpy статически типизированы, тип массива не изменяется после его создания. Но мы можем явно привести массив некоторого типа к другому, используя функции `astype` (см. также аналогичную функцию `asarray`). Это всегда создает новый массив нового типа:"
      ]
    },
    {
      "cell_type": "code",
      "execution_count": null,
      "metadata": {
        "id": "a6oLOeWvU3py",
        "outputId": "65e2c446-22f0-47dd-aeb2-3d607af5a280"
      },
      "outputs": [
        {
          "data": {
            "text/plain": [
              "dtype('int32')"
            ]
          },
          "execution_count": 241,
          "metadata": {},
          "output_type": "execute_result"
        }
      ],
      "source": [
        "M.dtype"
      ]
    },
    {
      "cell_type": "code",
      "execution_count": null,
      "metadata": {
        "id": "JRRC4kpBU3pz",
        "outputId": "4f24fc8d-3fba-48b6-88b9-c9b4759deded"
      },
      "outputs": [
        {
          "data": {
            "text/plain": [
              "array([[ 1.,  4.],\n",
              "       [ 9., 16.]])"
            ]
          },
          "execution_count": 242,
          "metadata": {},
          "output_type": "execute_result"
        }
      ],
      "source": [
        "M2 = M.astype(float)\n",
        "\n",
        "M2"
      ]
    },
    {
      "cell_type": "code",
      "execution_count": null,
      "metadata": {
        "id": "tRNoHiQuU3pz",
        "outputId": "36186e20-375d-4a54-bcd2-ad106bbe8577"
      },
      "outputs": [
        {
          "data": {
            "text/plain": [
              "dtype('float64')"
            ]
          },
          "execution_count": 243,
          "metadata": {},
          "output_type": "execute_result"
        }
      ],
      "source": [
        "M2.dtype"
      ]
    },
    {
      "cell_type": "code",
      "execution_count": null,
      "metadata": {
        "id": "p1CwWFDLU3pz",
        "outputId": "ea4c2b39-176e-40c4-fde2-10f5aaf6e60f"
      },
      "outputs": [
        {
          "data": {
            "text/plain": [
              "array([[ True,  True],\n",
              "       [ True,  True]])"
            ]
          },
          "execution_count": 244,
          "metadata": {},
          "output_type": "execute_result"
        }
      ],
      "source": [
        "M3 = M.astype(bool)\n",
        "\n",
        "M3"
      ]
    },
    {
      "cell_type": "markdown",
      "metadata": {
        "id": "8n7C-R6pU3p0"
      },
      "source": [
        "## Дальнейшее изучение"
      ]
    },
    {
      "cell_type": "markdown",
      "metadata": {
        "id": "UotuOGYXU3p0"
      },
      "source": [
        "* http://numpy.scipy.org\n",
        "* http://scipy.org/Tentative_NumPy_Tutorial\n",
        "* http://scipy.org/NumPy_for_Matlab_Users - A Numpy guide for MATLAB users.\n",
        "* Этот курс создан на основе курса http://github.com/jrjohansson/scientific-python-lectures. Подробности можно найти здесь http://jrjohansson.github.io."
      ]
    }
  ],
  "metadata": {
    "kernelspec": {
      "display_name": "Python 3",
      "language": "python",
      "name": "python3"
    },
    "language_info": {
      "codemirror_mode": {
        "name": "ipython",
        "version": 3
      },
      "file_extension": ".py",
      "mimetype": "text/x-python",
      "name": "python",
      "nbconvert_exporter": "python",
      "pygments_lexer": "ipython3",
      "version": "3.7.0"
    },
    "nbTranslate": {
      "displayLangs": [
        "*"
      ],
      "hotkey": "alt-t",
      "langInMainMenu": true,
      "sourceLang": "en",
      "targetLang": "fr",
      "useGoogleTranslate": true
    },
    "colab": {
      "provenance": [],
      "collapsed_sections": [
        "1MhhjzCxU3pT",
        "Dnb75NbiU3pX",
        "h5vpzVxpU3pX",
        "7PUs_NlYU3pY",
        "jf9JZD1BU3pZ",
        "moYd06faU3pb",
        "ym5shV9CU3pd",
        "HCNyb9oNU3pk",
        "WGkTSdMhU3pl",
        "-AWwG4JhU3pm",
        "G8pPNCOxU3pp",
        "2bGlhUN3U3pr",
        "cuv6Q760U3pw",
        "Qy2L9GKrU3py",
        "8n7C-R6pU3p0"
      ]
    }
  },
  "nbformat": 4,
  "nbformat_minor": 0
}